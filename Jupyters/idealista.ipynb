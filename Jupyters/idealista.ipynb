{
 "cells": [
  {
   "cell_type": "code",
   "execution_count": 1,
   "metadata": {},
   "outputs": [],
   "source": [
    "import pandas as pd\n",
    "from bs4 import BeautifulSoup\n",
    "from selenium.webdriver.common.keys import Keys\n",
    "from selenium import webdriver\n",
    "from selenium.webdriver.common.action_chains import ActionChains\n",
    "from webdriver_manager.chrome import ChromeDriverManager\n",
    "from selenium.webdriver.common.by import By\n",
    "import requests \n",
    "import time\n",
    "import warnings\n",
    "warnings.filterwarnings('ignore')\n",
    "\n"
   ]
  },
  {
   "cell_type": "code",
   "execution_count": 2,
   "metadata": {},
   "outputs": [],
   "source": [
    "driver = r\"C:\\Users\\filokaizen\\OneDrive-Tajamar\\Desktop\\ii\\4.3-lab_web_scraping_selenium\\chromedriver.exe\" #remember substitute this for your driver path\n",
    "driver = webdriver.Chrome()"
   ]
  },
  {
   "cell_type": "code",
   "execution_count": 3,
   "metadata": {},
   "outputs": [],
   "source": [
    "# This is the url you will scrape in this exercise\n",
    "url = \"https://www.idealista.com/alquiler-viviendas/madrid-madrid/\"\n",
    "driver.get(url)"
   ]
  },
  {
   "cell_type": "code",
   "execution_count": 9,
   "metadata": {},
   "outputs": [],
   "source": [
    "driver.find_element(By.XPATH , '//*[@id=\"didomi-notice-agree-button\"]').click()\n",
    "\n",
    "\n",
    "\n"
   ]
  },
  {
   "cell_type": "code",
   "execution_count": 17,
   "metadata": {},
   "outputs": [
    {
     "name": "stdout",
     "output_type": "stream",
     "text": [
      "['Piso en calle de Sor Ángela de la Cruz  31  Cuzco-Castillejos  Madrid', 'Piso en calle Alcala  Goya  Madrid', 'Piso en Palomas  Madrid', 'Piso en calle de Jesús  7  Huertas-Cortes  Madrid', 'Piso en calle Del Pilar De Zaragoza  Guindalera  Madrid', 'Piso en calle del Condado de Treviño  Costillares  Madrid', 'Piso en calle de Antonio López  67  Comillas  Madrid', 'Piso en calle del Espíritu Santo  12  Malasaña-Universidad  Madrid', 'Piso en ronda Manuel Granero  69  Conde Orgaz-Piovera  Madrid', 'Piso en calle de Barbieri  Chueca-Justicia  Madrid', 'Piso en D. Ramon De La Cruz  Recoletos  Madrid', 'Chalet adosado en Conde Orgaz-Piovera  Madrid', 'Piso en plaza Hilanderas  Abrantes  Madrid', 'Piso en calle de Hermosilla  Recoletos  Madrid', 'Piso en Trafalgar  Madrid', 'Piso en calle del Almirante  Chueca-Justicia  Madrid', 'Piso en alameda de osuna  50  Alameda de Osuna  Madrid', 'Piso en paseo de la Dirección  Valdeacederas  Madrid', 'Piso en calle de Yécora  37  Rejas  Madrid', 'Piso en Marroquina  Madrid', 'Piso en calle de Jorge Juan  Goya  Madrid', 'Piso en Campamento  Madrid', 'Piso en calle del General Lacy  Palos de Moguer  Madrid', 'Piso en calle de Hermosilla  43  Recoletos  Madrid', 'Piso en Peñuelas  Acacias  Madrid', 'Piso en calle de Tribaldos  Canillas  Madrid', 'Piso en calle de Cuevas de Almanzora  Apóstol Santiago  Madrid', 'Piso en tribaldos  68  Canillas  Madrid', 'Piso en calle de Ochagavia  Valdezarza  Madrid', 'Piso en Chueca-Justicia  Madrid']\n"
     ]
    }
   ],
   "source": [
    "# Obtener el HTML de la página después de ser renderizada\n",
    "html = driver.page_source\n",
    "\n",
    "# Crear el objeto BeautifulSoup con el HTML obtenido\n",
    "soup = BeautifulSoup(html, \"html.parser\")\n",
    "\n",
    "# Buscar todos los elementos con la clase 'list-item-location'\n",
    "locations = driver.find_elements(By.CLASS_NAME, 'item-link')\n",
    "\n",
    "# Crear una lista para almacenar las ubicaciones\n",
    "location_list = []\n",
    "\n",
    "# Recorrer los elementos encontrados y agregarlos a la lista\n",
    "for location in locations:\n",
    "    location_text = location.text.replace(\",\", \" \") \n",
    "    location_list.append(location_text)\n",
    "\n",
    "# Imprimir la lista de ubicaciones\n",
    "print(location_list)"
   ]
  }
 ],
 "metadata": {
  "kernelspec": {
   "display_name": "base",
   "language": "python",
   "name": "python3"
  },
  "language_info": {
   "codemirror_mode": {
    "name": "ipython",
    "version": 3
   },
   "file_extension": ".py",
   "mimetype": "text/x-python",
   "name": "python",
   "nbconvert_exporter": "python",
   "pygments_lexer": "ipython3",
   "version": "3.11.4"
  },
  "orig_nbformat": 4
 },
 "nbformat": 4,
 "nbformat_minor": 2
}
