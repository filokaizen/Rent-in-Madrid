{
 "cells": [
  {
   "cell_type": "code",
   "execution_count": 1,
   "metadata": {},
   "outputs": [],
   "source": [
    "import pandas as pd\n",
    "from bs4 import BeautifulSoup\n",
    "from selenium.webdriver.common.keys import Keys\n",
    "from selenium import webdriver\n",
    "from selenium.webdriver.common.action_chains import ActionChains\n",
    "from webdriver_manager.chrome import ChromeDriverManager\n",
    "from selenium.webdriver.common.by import By\n",
    "import requests \n",
    "import time\n",
    "import warnings\n",
    "warnings.filterwarnings('ignore')\n",
    "\n"
   ]
  },
  {
   "cell_type": "code",
   "execution_count": 2,
   "metadata": {},
   "outputs": [],
   "source": [
    "driver = r\"C:\\Users\\filokaizen\\OneDrive-Tajamar\\Desktop\\ii\\4.3-lab_web_scraping_selenium\\chromedriver.exe\" #remember substitute this for your driver path\n",
    "driver = webdriver.Chrome()"
   ]
  },
  {
   "cell_type": "code",
   "execution_count": 3,
   "metadata": {},
   "outputs": [],
   "source": [
    "# This is the url you will scrape in this exercise\n",
    "url = \"https://www.idealista.com/alquiler-viviendas/madrid-madrid/pagina-18.htm\"\n",
    "driver.get(url)"
   ]
  },
  {
   "cell_type": "code",
   "execution_count": 4,
   "metadata": {},
   "outputs": [],
   "source": [
    "try:\n",
    "    driver.find_element(By.XPATH , '//*[@id=\"didomi-notice-agree-button\"]').click()\n",
    "\n",
    "except:\n",
    "    pass\n",
    "\n",
    "\n"
   ]
  },
  {
   "cell_type": "code",
   "execution_count": 5,
   "metadata": {},
   "outputs": [
    {
     "name": "stdout",
     "output_type": "stream",
     "text": [
      "['Piso en bulevar de José Prat  Valdebernardo - Valderrivas  Madrid', 'Piso en calle Arte Pop  8  Ensanche de Vallecas - La Gavia  Madrid', 'Piso en calle Víctor Andrés Belaunde  Bernabéu-Hispanoamérica  Madrid', 'Piso en calle de Atocha  Huertas-Cortes  Madrid', 'Piso en Corredera Baja de San Pablo  47  Malasaña-Universidad  Madrid', 'Piso en Castellana  Madrid', 'Piso en calle de Alcalá  Ventas  Madrid', 'Piso en Colina  Madrid', 'Piso en calle de Ricardo Ortiz  Ventas  Madrid', 'Piso en calle de Modesto Lafuente  Nuevos Ministerios-Ríos Rosas  Madrid', 'Piso en calle del Doctor Vallejo  Quintana  Madrid', 'Casa o chalet independiente en Armonía  24  Palomas  Madrid', 'Piso en Numancia  Madrid', 'Piso en calle de Linneo  Imperial  Madrid', 'Piso en calle Jerez de los Caballeros  2  Casco Histórico de Barajas  Madrid', 'Piso en Castellana  Madrid', 'Piso en calle de los Yébenes  Aluche  Madrid', 'Piso en calle de Miguel Ángel  3  Almagro  Madrid', 'Piso en Rejas  Madrid', 'Piso en Chueca-Justicia  Madrid', 'Piso en calle de las Islas Cíes  Peñagrande  Madrid', 'Piso en Bernabéu-Hispanoamérica  Madrid', 'Piso en calle del Real Madrid  Puerta Bonita  Madrid', 'Chalet pareado en Conde Orgaz-Piovera  Madrid', 'Piso en calle de los Tejedores  Amposta  Madrid', 'Piso en Bernabéu-Hispanoamérica  Madrid', 'Piso en Goya  Madrid', 'Piso en calle de Ayala  Goya  Madrid', \"Piso en calle de O'Donnell  Goya  Madrid\", 'Piso en Almagro  Madrid']\n"
     ]
    }
   ],
   "source": [
    "# Obtener el HTML de la página después de ser renderizada\n",
    "html = driver.page_source\n",
    "\n",
    "# Crear el objeto BeautifulSoup con el HTML obtenido\n",
    "soup = BeautifulSoup(html, \"html.parser\")\n",
    "\n",
    "# Buscar todos los elementos con la clase 'list-item-location'\n",
    "locations = driver.find_elements(By.CLASS_NAME, 'item-link')\n",
    "\n",
    "# Crear una lista para almacenar las ubicaciones\n",
    "location_list = []\n",
    "\n",
    "# Recorrer los elementos encontrados y agregarlos a la lista\n",
    "for location in locations:\n",
    "    location_text = location.text.replace(\",\", \" \") \n",
    "    location_list.append(location_text)\n",
    "\n",
    "# Imprimir la lista de ubicaciones\n",
    "print(location_list)"
   ]
  },
  {
   "cell_type": "code",
   "execution_count": 6,
   "metadata": {},
   "outputs": [
    {
     "name": "stdout",
     "output_type": "stream",
     "text": [
      "['970€/mes\\nGaraje incluido', '975€/mes\\nGaraje incluido', '1.300€/mes', '1.300€/mes', '990€/mes', '5.500€/mes', '750€/mes', '3.500€/mes\\nGaraje incluido', '1.190€/mes', '2.100€/mes\\nGaraje incluido', '900€/mes', '7.000€/mes\\nGaraje incluido', '1.200€/mes\\nGaraje opc. 100 €/mes', '1.650€/mes', '750€/mes\\nGaraje incluido', '14.500€/mes\\nGaraje incluido', '1.150€/mes', '2.200€/mes', '1.350€/mes\\nGaraje incluido', '1.350€/mes', '1.100€/mes', '2.500€/mes\\nGaraje incluido', '960€/mes', '4.500€/mes\\nGaraje incluido', '910€/mes', '2.200€/mes\\nGaraje incluido', '950€/mes', '3.800€/mes\\nGaraje incluido', '4.500€/mes', '15.000€/mes\\nGaraje incluido']\n"
     ]
    }
   ],
   "source": [
    "# Obtener el HTML de la página después de ser renderizada\n",
    "html = driver.page_source\n",
    "\n",
    "# Crear el objeto BeautifulSoup con el HTML obtenido\n",
    "soup = BeautifulSoup(html, \"html.parser\")\n",
    "\n",
    "# Buscar todos los elementos con la clase 'list-item-location'\n",
    "prices = driver.find_elements(By.CLASS_NAME, 'price-row')\n",
    "\n",
    "# Crear una lista para almacenar las ubicaciones\n",
    "price_list = []\n",
    "\n",
    "# Recorrer los elementos encontrados y agregarlos a la lista\n",
    "for price in prices:\n",
    "    price_text = price.text\n",
    "    price_list.append(price_text)\n",
    "\n",
    "# Imprimir la lista de ubicaciones\n",
    "print(price_list)"
   ]
  },
  {
   "cell_type": "code",
   "execution_count": 7,
   "metadata": {},
   "outputs": [
    {
     "name": "stdout",
     "output_type": "stream",
     "text": [
      "['3 hab. 95 m² Planta 5ª exterior con ascensor 21 horas', '2 hab. 80 m² Planta 5ª exterior con ascensor', '1 hab. 55 m² Planta 1ª interior con ascensor 21 horas', '1 hab. 64 m² Bajo interior con ascensor', '1 hab. 60 m² Sótano exterior con ascensor 21 horas', '4 hab. 220 m² Planta 1ª exterior con ascensor', '1 hab. 55 m² Planta 1ª exterior sin ascensor 21 horas', '4 hab. 211 m² Planta 1ª exterior con ascensor', '3 hab. 106 m² Planta 3ª exterior con ascensor 21 horas', '3 hab. 144 m² Planta 3ª exterior con ascensor', '2 hab. 60 m² Planta 3ª exterior sin ascensor 21 horas', '4 hab. 331 m²', '3 hab. 75 m² Planta 2ª exterior con ascensor 21 horas', '3 hab. 103 m² Planta 3ª interior con ascensor', '1 hab. 45 m² Planta 2ª exterior con ascensor 21 horas', '3 hab. 373 m² Planta 2ª exterior con ascensor', '3 hab. 104 m² Planta 4ª exterior con ascensor 21 horas', '1 hab. 55 m² Planta 7ª interior con ascensor', '1 hab. 51 m² Planta 1ª exterior con ascensor 21 horas', '1 hab. 45 m² Planta 4ª interior con ascensor', '4 hab. 100 m² Planta 6ª exterior con ascensor 21 horas', '2 hab. 120 m² Planta 9ª exterior con ascensor', '3 hab. 61 m² Planta 2ª exterior sin ascensor 21 horas', '5 hab. 313 m²', '3 hab. 62 m² Planta 2ª exterior sin ascensor 21 horas', '2 hab. 114 m² Planta 2ª exterior con ascensor', '1 hab. 50 m² Planta 4ª exterior con ascensor 21 horas', '2 hab. 111 m² Planta 3ª exterior con ascensor', '3 hab. 179 m² Planta 2ª exterior con ascensor 21 horas', '10 hab. 1.400 m² Planta 4ª exterior con ascensor']\n"
     ]
    }
   ],
   "source": [
    "html = driver.page_source\n",
    "\n",
    "# Crear el objeto BeautifulSoup con el HTML obtenido\n",
    "soup = BeautifulSoup(html, \"html.parser\")\n",
    "\n",
    "# Buscar todos los elementos con la clase 'list-item-location'\n",
    "detalles = driver.find_elements(By.CLASS_NAME, 'item-detail-char')\n",
    "\n",
    "# Crear una lista para almacenar las ubicaciones\n",
    "details_list = []\n",
    "\n",
    "# Recorrer los elementos encontrados y agregarlos a la lista\n",
    "for detail in detalles:\n",
    "    detail_text = detail.text\n",
    "    details_list.append(detail_text)\n",
    "\n",
    "# Imprimir la lista de ubicaciones\n",
    "print(details_list)"
   ]
  },
  {
   "cell_type": "code",
   "execution_count": 8,
   "metadata": {},
   "outputs": [],
   "source": [
    "data = {\n",
    "    'Ubicación': location_list,\n",
    "    'Precio':price_list,\n",
    "    'Detalles':details_list\n",
    "}\n",
    "\n",
    "# Crear el DataFrame a partir del diccionario\n",
    "df = pd.DataFrame(data)"
   ]
  },
  {
   "cell_type": "code",
   "execution_count": 9,
   "metadata": {},
   "outputs": [],
   "source": [
    "\n",
    "output_filename = 'idealista_18.csv'\n",
    "df.to_csv(output_filename, index=False)\n",
    "\n"
   ]
  }
 ],
 "metadata": {
  "kernelspec": {
   "display_name": "base",
   "language": "python",
   "name": "python3"
  },
  "language_info": {
   "codemirror_mode": {
    "name": "ipython",
    "version": 3
   },
   "file_extension": ".py",
   "mimetype": "text/x-python",
   "name": "python",
   "nbconvert_exporter": "python",
   "pygments_lexer": "ipython3",
   "version": "3.11.4"
  },
  "orig_nbformat": 4
 },
 "nbformat": 4,
 "nbformat_minor": 2
}
