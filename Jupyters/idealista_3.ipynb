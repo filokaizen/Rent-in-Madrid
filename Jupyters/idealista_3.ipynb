{
 "cells": [
  {
   "cell_type": "code",
   "execution_count": 1,
   "metadata": {},
   "outputs": [],
   "source": [
    "import pandas as pd\n",
    "from bs4 import BeautifulSoup\n",
    "from selenium.webdriver.common.keys import Keys\n",
    "from selenium import webdriver\n",
    "from selenium.webdriver.common.action_chains import ActionChains\n",
    "from webdriver_manager.chrome import ChromeDriverManager\n",
    "from selenium.webdriver.common.by import By\n",
    "import requests \n",
    "import time\n",
    "import warnings\n",
    "warnings.filterwarnings('ignore')\n",
    "\n"
   ]
  },
  {
   "cell_type": "code",
   "execution_count": 2,
   "metadata": {},
   "outputs": [],
   "source": [
    "driver = r\"C:\\Users\\filokaizen\\OneDrive-Tajamar\\Desktop\\ii\\4.3-lab_web_scraping_selenium\\chromedriver.exe\" #remember substitute this for your driver path\n",
    "driver = webdriver.Chrome()"
   ]
  },
  {
   "cell_type": "code",
   "execution_count": 3,
   "metadata": {},
   "outputs": [],
   "source": [
    "# This is the url you will scrape in this exercise\n",
    "url = \"https://www.idealista.com/alquiler-viviendas/madrid-madrid/pagina-3.htm\"\n",
    "driver.get(url)"
   ]
  },
  {
   "cell_type": "code",
   "execution_count": 4,
   "metadata": {},
   "outputs": [],
   "source": [
    "driver.find_element(By.XPATH , '//*[@id=\"didomi-notice-agree-button\"]').click()\n",
    "\n",
    "\n",
    "\n"
   ]
  },
  {
   "cell_type": "code",
   "execution_count": 5,
   "metadata": {},
   "outputs": [
    {
     "name": "stdout",
     "output_type": "stream",
     "text": [
      "['Piso en Goya  Madrid', 'Piso en calle de García de Paredes  Almagro  Madrid', 'Ático en calle Lozoya  Arapiles  Madrid', 'Dúplex en calle de San Bernardo  Malasaña-Universidad  Madrid', 'Piso en calle de Aristóteles  1  San Pascual  Madrid', 'Piso en Lista  Madrid', 'Piso en avenida de la Reina Victoria  Vallehermoso  Madrid', 'Piso en Recoletos  Madrid', 'Piso en Palacio  Madrid', 'Piso en Nuevos Ministerios-Ríos Rosas  Madrid', 'Piso en Almagro  Madrid', 'Piso en Almagro  Madrid', 'Piso en Ciudad Universitaria  Madrid', 'Piso en Nuevos Ministerios-Ríos Rosas  Madrid', 'Piso en plaza de Santa Catalina de los Donados  Sol  Madrid', 'Ático en calle Archiduque Alberto  23  Sanchinarro  Madrid', 'Piso en paseo de la Direccion  161  Valdeacederas  Madrid', 'Piso en Ibiza  Madrid', 'Piso en calle de Diego de León  52  Lista  Madrid', 'Casa o chalet independiente en calle de Arévalo Lara  Salvador  Madrid', 'Dúplex en calle Ana de Austria  101  Sanchinarro  Madrid', 'Piso en calle de Hermosilla  Goya  Madrid', 'Piso en Vicente Muzas  Colina  Madrid', 'Piso en calle de Cartagena  Guindalera  Madrid', 'Piso en calle de Coslada  11  Guindalera  Madrid', 'Piso en calle de Diego de León  Castellana  Madrid', 'Piso en calle Villa del Prado  Delicias  Madrid', 'Piso en calle del Pintor Ignacio de Zuloaga  2  Sanchinarro  Madrid', 'Piso en Ibiza  Madrid', 'Piso en Argüelles  Madrid']\n"
     ]
    }
   ],
   "source": [
    "# Obtener el HTML de la página después de ser renderizada\n",
    "html = driver.page_source\n",
    "\n",
    "# Crear el objeto BeautifulSoup con el HTML obtenido\n",
    "soup = BeautifulSoup(html, \"html.parser\")\n",
    "\n",
    "# Buscar todos los elementos con la clase 'list-item-location'\n",
    "locations = driver.find_elements(By.CLASS_NAME, 'item-link')\n",
    "\n",
    "# Crear una lista para almacenar las ubicaciones\n",
    "location_list = []\n",
    "\n",
    "# Recorrer los elementos encontrados y agregarlos a la lista\n",
    "for location in locations:\n",
    "    location_text = location.text.replace(\",\", \" \") \n",
    "    location_list.append(location_text)\n",
    "\n",
    "# Imprimir la lista de ubicaciones\n",
    "print(location_list)"
   ]
  },
  {
   "cell_type": "code",
   "execution_count": 6,
   "metadata": {},
   "outputs": [
    {
     "name": "stdout",
     "output_type": "stream",
     "text": [
      "['2.800€/mes', '4.800€/mes', '1.400€/mes', '4.100€/mes', '1.200€/mes', '2.500€/mes', '1.800€/mes\\nGaraje incluido', '3.800€/mes\\nGaraje incluido', '1.750€/mes', '2.190€/mes', '1.900€/mes', '1.900€/mes', '1.600€/mes', '3.900€/mes\\nGaraje incluido', '2.300€/mes', '1.120€/mes\\nGaraje incluido', '2.970€/mes\\nGaraje incluido', '2.700€/mes\\nGaraje incluido', '3.500€/mes', '2.700€/mes\\nGaraje incluido', '3.375€/mes', '1.365€/mes', '1.050€/mes', '1.300€/mes', '1.200€/mes', '3.300€/mes\\nGaraje opc. 100 €/mes', '1.280€/mes\\nGaraje incluido', '1.215€/mes\\nGaraje incluido', '2.400€/mes', '2.000€/mes']\n"
     ]
    }
   ],
   "source": [
    "# Obtener el HTML de la página después de ser renderizada\n",
    "html = driver.page_source\n",
    "\n",
    "# Crear el objeto BeautifulSoup con el HTML obtenido\n",
    "soup = BeautifulSoup(html, \"html.parser\")\n",
    "\n",
    "# Buscar todos los elementos con la clase 'list-item-location'\n",
    "prices = driver.find_elements(By.CLASS_NAME, 'price-row')\n",
    "\n",
    "# Crear una lista para almacenar las ubicaciones\n",
    "price_list = []\n",
    "\n",
    "# Recorrer los elementos encontrados y agregarlos a la lista\n",
    "for price in prices:\n",
    "    price_text = price.text\n",
    "    price_list.append(price_text)\n",
    "\n",
    "# Imprimir la lista de ubicaciones\n",
    "print(price_list)"
   ]
  },
  {
   "cell_type": "code",
   "execution_count": 7,
   "metadata": {},
   "outputs": [
    {
     "name": "stdout",
     "output_type": "stream",
     "text": [
      "['3 hab. 132 m² Planta 1ª exterior con ascensor 1 hora', '3 hab. 149 m² Planta 1ª exterior con ascensor', '41 m² interior con ascensor 2 horas', '2 hab. 88 m² Planta 4ª exterior con ascensor 19 horas', '3 hab. 90 m² Planta 5ª exterior con ascensor 3 horas', '2 hab. 95 m² Planta 2ª exterior con ascensor', '3 hab. 100 m² Planta 6ª exterior con ascensor 4 horas', '3 hab. 145 m² Planta 3ª exterior con ascensor', '2 hab. 70 m² Planta 3ª interior con ascensor 5 horas', '3 hab. 80 m² Planta 4ª exterior con ascensor', '1 hab. 89 m² Entreplanta exterior con ascensor 6 horas', '1 hab. 95 m² Entreplanta exterior con ascensor', '2 hab. 60 m² Planta 8ª exterior con ascensor 6 horas', '4 hab. 215 m² Planta 3ª exterior con ascensor', '3 hab. 127 m² Bajo exterior con ascensor 9 horas', '1 hab. 64 m² Planta 6ª exterior con ascensor 20 horas', '2 hab. 100 m² Planta 14ª exterior con ascensor 9 horas', '4 hab. 157 m² Planta 2ª exterior con ascensor', '5 hab. 220 m² Planta 3ª exterior con ascensor 8 horas', '4 hab. 200 m² 04 sep', '3 hab. 120 m² Planta 1ª exterior con ascensor 9 horas', '2 hab. 56 m² Planta 1ª interior con ascensor', '1 hab. 65 m² Planta 4ª exterior con ascensor 9 horas', '1 hab. 79 m² Planta 4ª exterior con ascensor', '2 hab. 70 m² Planta 2ª exterior con ascensor 9 horas', '3 hab. 169 m² Planta 6ª exterior con ascensor', '2 hab. 148 m² Planta 4ª exterior con ascensor 9 horas', '2 hab. 76 m² Planta 3ª con ascensor 04 sep', '3 hab. 130 m² Planta 3ª sin ascensor 10 horas', '1 hab. 62 m² Planta 2ª exterior con ascensor']\n"
     ]
    }
   ],
   "source": [
    "html = driver.page_source\n",
    "\n",
    "# Crear el objeto BeautifulSoup con el HTML obtenido\n",
    "soup = BeautifulSoup(html, \"html.parser\")\n",
    "\n",
    "# Buscar todos los elementos con la clase 'list-item-location'\n",
    "detalles = driver.find_elements(By.CLASS_NAME, 'item-detail-char')\n",
    "\n",
    "# Crear una lista para almacenar las ubicaciones\n",
    "details_list = []\n",
    "\n",
    "# Recorrer los elementos encontrados y agregarlos a la lista\n",
    "for detail in detalles:\n",
    "    detail_text = detail.text\n",
    "    details_list.append(detail_text)\n",
    "\n",
    "# Imprimir la lista de ubicaciones\n",
    "print(details_list)"
   ]
  },
  {
   "cell_type": "code",
   "execution_count": 10,
   "metadata": {},
   "outputs": [],
   "source": [
    "df = pd.DataFrame({\n",
    "    'Ubicación': location_list,\n",
    "    'Precio': price_list,\n",
    "    'Detalles': details_list\n",
    "})\n",
    "output_filename = 'idealista_3.csv'\n",
    "df.to_csv(output_filename, index=False)\n",
    "\n"
   ]
  },
  {
   "cell_type": "code",
   "execution_count": 11,
   "metadata": {},
   "outputs": [
    {
     "data": {
      "text/html": [
       "<div>\n",
       "<style scoped>\n",
       "    .dataframe tbody tr th:only-of-type {\n",
       "        vertical-align: middle;\n",
       "    }\n",
       "\n",
       "    .dataframe tbody tr th {\n",
       "        vertical-align: top;\n",
       "    }\n",
       "\n",
       "    .dataframe thead th {\n",
       "        text-align: right;\n",
       "    }\n",
       "</style>\n",
       "<table border=\"1\" class=\"dataframe\">\n",
       "  <thead>\n",
       "    <tr style=\"text-align: right;\">\n",
       "      <th></th>\n",
       "      <th>Ubicación</th>\n",
       "      <th>Precio</th>\n",
       "      <th>Detalles</th>\n",
       "    </tr>\n",
       "  </thead>\n",
       "  <tbody>\n",
       "    <tr>\n",
       "      <th>0</th>\n",
       "      <td>Piso en Goya  Madrid</td>\n",
       "      <td>2.800€/mes</td>\n",
       "      <td>3 hab. 132 m² Planta 1ª exterior con ascensor ...</td>\n",
       "    </tr>\n",
       "    <tr>\n",
       "      <th>1</th>\n",
       "      <td>Piso en calle de García de Paredes  Almagro  M...</td>\n",
       "      <td>4.800€/mes</td>\n",
       "      <td>3 hab. 149 m² Planta 1ª exterior con ascensor</td>\n",
       "    </tr>\n",
       "    <tr>\n",
       "      <th>2</th>\n",
       "      <td>Ático en calle Lozoya  Arapiles  Madrid</td>\n",
       "      <td>1.400€/mes</td>\n",
       "      <td>41 m² interior con ascensor 2 horas</td>\n",
       "    </tr>\n",
       "    <tr>\n",
       "      <th>3</th>\n",
       "      <td>Dúplex en calle de San Bernardo  Malasaña-Univ...</td>\n",
       "      <td>4.100€/mes</td>\n",
       "      <td>2 hab. 88 m² Planta 4ª exterior con ascensor 1...</td>\n",
       "    </tr>\n",
       "    <tr>\n",
       "      <th>4</th>\n",
       "      <td>Piso en calle de Aristóteles  1  San Pascual  ...</td>\n",
       "      <td>1.200€/mes</td>\n",
       "      <td>3 hab. 90 m² Planta 5ª exterior con ascensor 3...</td>\n",
       "    </tr>\n",
       "  </tbody>\n",
       "</table>\n",
       "</div>"
      ],
      "text/plain": [
       "                                           Ubicación      Precio  \\\n",
       "0                               Piso en Goya  Madrid  2.800€/mes   \n",
       "1  Piso en calle de García de Paredes  Almagro  M...  4.800€/mes   \n",
       "2            Ático en calle Lozoya  Arapiles  Madrid  1.400€/mes   \n",
       "3  Dúplex en calle de San Bernardo  Malasaña-Univ...  4.100€/mes   \n",
       "4  Piso en calle de Aristóteles  1  San Pascual  ...  1.200€/mes   \n",
       "\n",
       "                                            Detalles  \n",
       "0  3 hab. 132 m² Planta 1ª exterior con ascensor ...  \n",
       "1      3 hab. 149 m² Planta 1ª exterior con ascensor  \n",
       "2                41 m² interior con ascensor 2 horas  \n",
       "3  2 hab. 88 m² Planta 4ª exterior con ascensor 1...  \n",
       "4  3 hab. 90 m² Planta 5ª exterior con ascensor 3...  "
      ]
     },
     "execution_count": 11,
     "metadata": {},
     "output_type": "execute_result"
    }
   ],
   "source": [
    "df.head()"
   ]
  }
 ],
 "metadata": {
  "kernelspec": {
   "display_name": "base",
   "language": "python",
   "name": "python3"
  },
  "language_info": {
   "codemirror_mode": {
    "name": "ipython",
    "version": 3
   },
   "file_extension": ".py",
   "mimetype": "text/x-python",
   "name": "python",
   "nbconvert_exporter": "python",
   "pygments_lexer": "ipython3",
   "version": "3.11.4"
  },
  "orig_nbformat": 4
 },
 "nbformat": 4,
 "nbformat_minor": 2
}
