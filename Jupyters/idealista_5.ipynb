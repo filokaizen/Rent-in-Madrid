{
 "cells": [
  {
   "cell_type": "code",
   "execution_count": 9,
   "metadata": {},
   "outputs": [],
   "source": [
    "import pandas as pd\n",
    "from bs4 import BeautifulSoup\n",
    "from selenium.webdriver.common.keys import Keys\n",
    "from selenium import webdriver\n",
    "from selenium.webdriver.common.action_chains import ActionChains\n",
    "from webdriver_manager.chrome import ChromeDriverManager\n",
    "from selenium.webdriver.common.by import By\n",
    "import requests \n",
    "import time\n",
    "import warnings\n",
    "warnings.filterwarnings('ignore')\n",
    "\n"
   ]
  },
  {
   "cell_type": "code",
   "execution_count": 10,
   "metadata": {},
   "outputs": [],
   "source": [
    "driver = r\"C:\\Users\\filokaizen\\OneDrive-Tajamar\\Desktop\\ii\\4.3-lab_web_scraping_selenium\\chromedriver.exe\" #remember substitute this for your driver path\n",
    "driver = webdriver.Chrome()"
   ]
  },
  {
   "cell_type": "code",
   "execution_count": 11,
   "metadata": {},
   "outputs": [],
   "source": [
    "# This is the url you will scrape in this exercise\n",
    "url = \"https://www.idealista.com/alquiler-viviendas/madrid-madrid/pagina-5.htm\"\n",
    "driver.get(url)"
   ]
  },
  {
   "cell_type": "code",
   "execution_count": 12,
   "metadata": {},
   "outputs": [],
   "source": [
    "driver.find_element(By.XPATH , '//*[@id=\"didomi-notice-agree-button\"]').click()\n",
    "\n",
    "\n",
    "\n"
   ]
  },
  {
   "cell_type": "code",
   "execution_count": 13,
   "metadata": {},
   "outputs": [
    {
     "name": "stdout",
     "output_type": "stream",
     "text": [
      "['Piso en calle de Antonio de Leyva  76  Opañel  Madrid', 'Piso en calle de Santa Isabel  42  Lavapiés-Embajadores  Madrid', 'Ático en San Carlos  6  Lavapiés-Embajadores  Madrid', 'Piso en calle del Divino Pastor  Malasaña-Universidad  Madrid', 'Piso en plaza de Corcubión  1  Pilar  Madrid', 'Piso en calle Donoso Cortés  Gaztambide  Madrid', 'Dúplex en calle de Vallehermoso  104  Vallehermoso  Madrid', 'Piso en avenida del talgo  Aravaca  Madrid', 'Piso en calle de las Delicias  Palos de Moguer  Madrid', 'Piso en Estrella  Madrid', 'Piso en calle de María Panés  Nuevos Ministerios-Ríos Rosas  Madrid', 'Piso en calle Anna Frank  19  El Cañaveral  Madrid', 'Piso en calle Cabo Nicolás Mur  San Isidro  Madrid', 'Piso en Malasaña-Universidad  Madrid', 'Piso en calle del Doctor Cortezo  Lavapiés-Embajadores  Madrid', 'Piso en Castilla  Madrid', 'Piso en calle de la Infanta Mercedes  Cuatro Caminos  Madrid', 'Piso en Argüelles  Madrid', 'Piso en calle de Fray José Cerdeiriña  Águilas  Madrid', 'Piso en calle de Tribulete  Lavapiés-Embajadores  Madrid', 'Piso en calle villamanin  Lucero  Madrid', 'Piso en plaza de las Cortes  Huertas-Cortes  Madrid', 'Piso en calle del Apóstol Santiago  68  Ventas  Madrid', 'Piso en calle Anna Frank  19  El Cañaveral  Madrid', 'Piso en Poeta Joan Maragall  Cuzco-Castillejos  Madrid', 'Piso en calle del Prado  Huertas-Cortes  Madrid', 'Piso en Nuñez de Balboa  56  Recoletos  Madrid', 'Piso en calle de Francisco Silvela  Lista  Madrid', 'Dúplex en Mirasierra  Madrid', 'Piso en paseo De La Castellana  Ventilla-Almenara  Madrid']\n"
     ]
    }
   ],
   "source": [
    "# Obtener el HTML de la página después de ser renderizada\n",
    "html = driver.page_source\n",
    "\n",
    "# Crear el objeto BeautifulSoup con el HTML obtenido\n",
    "soup = BeautifulSoup(html, \"html.parser\")\n",
    "\n",
    "# Buscar todos los elementos con la clase 'list-item-location'\n",
    "locations = driver.find_elements(By.CLASS_NAME, 'item-link')\n",
    "\n",
    "# Crear una lista para almacenar las ubicaciones\n",
    "location_list = []\n",
    "\n",
    "# Recorrer los elementos encontrados y agregarlos a la lista\n",
    "for location in locations:\n",
    "    location_text = location.text.replace(\",\", \" \") \n",
    "    location_list.append(location_text)\n",
    "\n",
    "# Imprimir la lista de ubicaciones\n",
    "print(location_list)"
   ]
  },
  {
   "cell_type": "code",
   "execution_count": 14,
   "metadata": {},
   "outputs": [
    {
     "name": "stdout",
     "output_type": "stream",
     "text": [
      "['930€/mes', '1.490€/mes', '2.430€/mes', '1.800€/mes', '950€/mes', '3.000€/mes', '980€/mes', '1.200€/mes\\nGaraje incluido', '1.900€/mes', '2.500€/mes\\nGaraje opc. 150 €/mes', '2.190€/mes', '1.395€/mes\\nGaraje incluido', '895€/mes', '3.100€/mes', '2.200€/mes', '3.950€/mes\\nGaraje incluido', '1.495€/mes\\nGaraje incluido', '2.500€/mes', '700€/mes', '1.100€/mes', '1.100€/mes', '1.500€/mes', '890€/mes', '1.115€/mes\\nGaraje incluido', '2.700€/mes\\nGaraje incluido', '1.490€/mes', '2.700€/mes', '1.590€/mes', '2.800€/mes\\nGaraje incluido', '2.900€/mes']\n"
     ]
    }
   ],
   "source": [
    "# Obtener el HTML de la página después de ser renderizada\n",
    "html = driver.page_source\n",
    "\n",
    "# Crear el objeto BeautifulSoup con el HTML obtenido\n",
    "soup = BeautifulSoup(html, \"html.parser\")\n",
    "\n",
    "# Buscar todos los elementos con la clase 'list-item-location'\n",
    "prices = driver.find_elements(By.CLASS_NAME, 'price-row')\n",
    "\n",
    "# Crear una lista para almacenar las ubicaciones\n",
    "price_list = []\n",
    "\n",
    "# Recorrer los elementos encontrados y agregarlos a la lista\n",
    "for price in prices:\n",
    "    price_text = price.text\n",
    "    price_list.append(price_text)\n",
    "\n",
    "# Imprimir la lista de ubicaciones\n",
    "print(price_list)"
   ]
  },
  {
   "cell_type": "code",
   "execution_count": 15,
   "metadata": {},
   "outputs": [
    {
     "name": "stdout",
     "output_type": "stream",
     "text": [
      "['1 hab. 56 m² Planta 4ª exterior con ascensor 12 horas', '2 hab. 76 m² Planta 3ª exterior con ascensor 20 horas', '2 hab. 82 m² Planta 2ª exterior con ascensor 12 horas', '2 hab. 77 m² Planta 1ª exterior con ascensor', '2 hab. 52 m² Planta 3ª exterior con ascensor 12 horas', '5 hab. 130 m² Planta 5ª exterior con ascensor', '1 hab. 45 m² Planta 6ª interior con ascensor 12 horas', '2 hab. 70 m² Planta 4ª exterior con ascensor', '3 hab. 81 m² Planta 3ª exterior sin ascensor 12 horas', '3 hab. 165 m² exterior con ascensor', '3 hab. 75 m² Planta 4ª exterior con ascensor 12 horas', '3 hab. 132 m² Bajo exterior con ascensor', '3 hab. 75 m² Planta 2ª exterior sin ascensor 12 horas', '3 hab. 170 m² exterior con ascensor', '4 hab. 145 m² Planta 4ª exterior con ascensor 12 horas', '3 hab. 171 m² Planta 1ª exterior con ascensor', '3 hab. 80 m² Planta 7ª exterior con ascensor 12 horas', '1 hab. 73 m² Planta 12ª exterior con ascensor', '2 hab. 65 m² Planta 5ª exterior sin ascensor 12 horas', '2 hab. 47 m² Planta 2ª exterior con ascensor', '3 hab. 90 m² Planta 11ª exterior con ascensor 12 horas', '1 hab. 60 m² Planta 5ª exterior con ascensor', '1 hab. 58 m² Planta 5ª exterior con ascensor 12 horas', '2 hab. 94 m² Planta 1ª exterior con ascensor', '2 hab. 89 m² Planta 18ª exterior con ascensor 11 horas', '2 hab. 110 m² Planta 1ª interior con ascensor', '1 hab. 70 m² Planta 2ª exterior con ascensor 13 horas', '1 hab. 54 m² Planta 1ª exterior con ascensor', '3 hab. 281 m² Planta 3ª exterior con ascensor 10 horas', '6 hab. 225 m² Planta 4ª exterior con ascensor']\n"
     ]
    }
   ],
   "source": [
    "html = driver.page_source\n",
    "\n",
    "# Crear el objeto BeautifulSoup con el HTML obtenido\n",
    "soup = BeautifulSoup(html, \"html.parser\")\n",
    "\n",
    "# Buscar todos los elementos con la clase 'list-item-location'\n",
    "detalles = driver.find_elements(By.CLASS_NAME, 'item-detail-char')\n",
    "\n",
    "# Crear una lista para almacenar las ubicaciones\n",
    "details_list = []\n",
    "\n",
    "# Recorrer los elementos encontrados y agregarlos a la lista\n",
    "for detail in detalles:\n",
    "    detail_text = detail.text\n",
    "    details_list.append(detail_text)\n",
    "\n",
    "# Imprimir la lista de ubicaciones\n",
    "print(details_list)"
   ]
  },
  {
   "cell_type": "code",
   "execution_count": 20,
   "metadata": {},
   "outputs": [],
   "source": [
    "df = pd.DataFrame({\n",
    "    'Ubicación': location_list,\n",
    "    'Precio': price_list,\n",
    "    'Detalles': details_list\n",
    "  })"
   ]
  },
  {
   "cell_type": "code",
   "execution_count": 21,
   "metadata": {},
   "outputs": [],
   "source": [
    "output_filename = 'idealista_5.csv'\n",
    "df.to_csv(output_filename, index=False)\n",
    "\n"
   ]
  }
 ],
 "metadata": {
  "kernelspec": {
   "display_name": "base",
   "language": "python",
   "name": "python3"
  },
  "language_info": {
   "codemirror_mode": {
    "name": "ipython",
    "version": 3
   },
   "file_extension": ".py",
   "mimetype": "text/x-python",
   "name": "python",
   "nbconvert_exporter": "python",
   "pygments_lexer": "ipython3",
   "version": "3.11.4"
  },
  "orig_nbformat": 4
 },
 "nbformat": 4,
 "nbformat_minor": 2
}
