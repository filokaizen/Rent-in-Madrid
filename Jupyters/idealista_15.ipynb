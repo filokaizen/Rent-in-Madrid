{
 "cells": [
  {
   "cell_type": "code",
   "execution_count": 49,
   "metadata": {},
   "outputs": [],
   "source": [
    "import pandas as pd\n",
    "from bs4 import BeautifulSoup\n",
    "from selenium.webdriver.common.keys import Keys\n",
    "from selenium import webdriver\n",
    "from selenium.webdriver.common.action_chains import ActionChains\n",
    "from webdriver_manager.chrome import ChromeDriverManager\n",
    "from selenium.webdriver.common.by import By\n",
    "import requests \n",
    "import time\n",
    "import warnings\n",
    "warnings.filterwarnings('ignore')\n",
    "\n"
   ]
  },
  {
   "cell_type": "code",
   "execution_count": 50,
   "metadata": {},
   "outputs": [],
   "source": [
    "driver = r\"C:\\Users\\filokaizen\\OneDrive-Tajamar\\Desktop\\ii\\4.3-lab_web_scraping_selenium\\chromedriver.exe\" #remember substitute this for your driver path\n",
    "driver = webdriver.Chrome()"
   ]
  },
  {
   "cell_type": "code",
   "execution_count": 51,
   "metadata": {},
   "outputs": [],
   "source": [
    "# This is the url you will scrape in this exercise\n",
    "url = \"https://www.idealista.com/alquiler-viviendas/madrid-madrid/pagina-15.htm\"\n",
    "driver.get(url)"
   ]
  },
  {
   "cell_type": "code",
   "execution_count": 52,
   "metadata": {},
   "outputs": [],
   "source": [
    "try:\n",
    "    driver.find_element(By.XPATH , '//*[@id=\"didomi-notice-agree-button\"]').click()\n",
    "\n",
    "except:\n",
    "    pass\n",
    "\n",
    "\n"
   ]
  },
  {
   "cell_type": "code",
   "execution_count": 53,
   "metadata": {},
   "outputs": [
    {
     "name": "stdout",
     "output_type": "stream",
     "text": [
      "['Piso en zurron  12  Timón  Madrid', 'Piso en calle de García de Paredes  Almagro  Madrid', 'Ático en calle del Olmo  25  Lavapiés-Embajadores  Madrid', 'Dúplex en calle de San Bernardo  Malasaña-Universidad  Madrid', 'Dúplex en plaza de Tuy  Pilar  Madrid', 'Piso en Lista  Madrid', 'Piso en paseo de Extremadura  Puerta del Ángel  Madrid', 'Piso en Recoletos  Madrid', 'Piso en plaza de las Cortes  Huertas-Cortes  Madrid', 'Piso en Nuevos Ministerios-Ríos Rosas  Madrid', 'Piso en Huertas-Cortes  Madrid', 'Piso en Almagro  Madrid', 'Piso en calle Marmolistas  Arcos  Madrid', 'Piso en Nuevos Ministerios-Ríos Rosas  Madrid', 'Piso en calle San Valero  Numancia  Madrid', 'Ático en calle Archiduque Alberto  23  Sanchinarro  Madrid', 'Piso en calle de Manuel Maroto  San Diego  Madrid', 'Piso en calle Alcalde Sáenz de Baranda  Ibiza  Madrid', 'Piso en avenida de América  Prosperidad  Madrid', 'Casa o chalet independiente en calle de Arévalo Lara  Salvador  Madrid', 'Piso en calle Manuel María Iglesias  San Juan Bautista  Madrid', 'Piso en calle de Hermosilla  Goya  Madrid', 'Piso en Soto Hidalgo  4  Alameda de Osuna  Madrid', 'Piso en calle de Cartagena  Guindalera  Madrid', 'Piso en calle Santiago Cuende  5  Puerta Bonita  Madrid', 'Piso en calle de Diego de León  Castellana  Madrid', 'Casa o chalet independiente en Conde Orgaz-Piovera  Madrid', 'Piso en calle del Pintor Ignacio de Zuloaga  2  Sanchinarro  Madrid', 'Piso en Peñagrande  Madrid', 'Ático en plaza de Juan Zorrilla  Vallehermoso  Madrid']\n"
     ]
    }
   ],
   "source": [
    "# Obtener el HTML de la página después de ser renderizada\n",
    "html = driver.page_source\n",
    "\n",
    "# Crear el objeto BeautifulSoup con el HTML obtenido\n",
    "soup = BeautifulSoup(html, \"html.parser\")\n",
    "\n",
    "# Buscar todos los elementos con la clase 'list-item-location'\n",
    "locations = driver.find_elements(By.CLASS_NAME, 'item-link')\n",
    "\n",
    "# Crear una lista para almacenar las ubicaciones\n",
    "location_list = []\n",
    "\n",
    "# Recorrer los elementos encontrados y agregarlos a la lista\n",
    "for location in locations:\n",
    "    location_text = location.text.replace(\",\", \" \") \n",
    "    location_list.append(location_text)\n",
    "\n",
    "# Imprimir la lista de ubicaciones\n",
    "print(location_list)"
   ]
  },
  {
   "cell_type": "code",
   "execution_count": 54,
   "metadata": {},
   "outputs": [
    {
     "name": "stdout",
     "output_type": "stream",
     "text": [
      "['895€/mes\\nGaraje incluido', '4.800€/mes', '1.800€/mes', '4.100€/mes', '1.800€/mes', '2.500€/mes', '990€/mes', '3.800€/mes\\nGaraje incluido', '1.500€/mes', '2.190€/mes', '1.800€/mes', '1.900€/mes', '930€/mes', '3.900€/mes\\nGaraje incluido', '900€/mes', '1.120€/mes\\nGaraje incluido', '830€/mes', '2.700€/mes\\nGaraje incluido', '2.400€/mes', '2.700€/mes\\nGaraje incluido', '3.800€/mes\\nGaraje incluido', '1.365€/mes', '1.400€/mes\\nGaraje incluido', '1.300€/mes', '850€/mes', '3.300€/mes\\nGaraje opc. 100 €/mes', '10.000€/mes\\nGaraje incluido', '1.215€/mes\\nGaraje incluido', '3.200€/mes\\nGaraje incluido', '2.300€/mes']\n"
     ]
    }
   ],
   "source": [
    "# Obtener el HTML de la página después de ser renderizada\n",
    "html = driver.page_source\n",
    "\n",
    "# Crear el objeto BeautifulSoup con el HTML obtenido\n",
    "soup = BeautifulSoup(html, \"html.parser\")\n",
    "\n",
    "# Buscar todos los elementos con la clase 'list-item-location'\n",
    "prices = driver.find_elements(By.CLASS_NAME, 'price-row')\n",
    "\n",
    "# Crear una lista para almacenar las ubicaciones\n",
    "price_list = []\n",
    "\n",
    "# Recorrer los elementos encontrados y agregarlos a la lista\n",
    "for price in prices:\n",
    "    price_text = price.text\n",
    "    price_list.append(price_text)\n",
    "\n",
    "# Imprimir la lista de ubicaciones\n",
    "print(price_list)"
   ]
  },
  {
   "cell_type": "code",
   "execution_count": 55,
   "metadata": {},
   "outputs": [
    {
     "name": "stdout",
     "output_type": "stream",
     "text": [
      "['2 hab. 69 m² Bajo exterior con ascensor 19 horas', '3 hab. 149 m² Planta 1ª exterior con ascensor', '3 hab. 70 m² Planta 4ª exterior sin ascensor 18 horas', '2 hab. 88 m² Planta 4ª exterior con ascensor 22 horas', '3 hab. 120 m² Entreplanta exterior con ascensor 3 horas', '2 hab. 95 m² Planta 2ª exterior con ascensor', '2 hab. 32 m² Planta 2ª exterior sin ascensor 19 horas', '3 hab. 145 m² Planta 3ª exterior con ascensor', '1 hab. 70 m² Planta 5ª exterior con ascensor 19 horas', '3 hab. 80 m² Planta 4ª exterior con ascensor', '1 hab. 65 m² Planta 6ª exterior con ascensor 19 horas', '1 hab. 95 m² Entreplanta exterior con ascensor', '3 hab. 68 m² Bajo exterior sin ascensor 19 horas', '4 hab. 215 m² Planta 3ª exterior con ascensor', '3 hab. 64 m² Planta 4ª exterior sin ascensor 19 horas', '1 hab. 64 m² Planta 6ª exterior con ascensor 23 horas', '2 hab. 56 m² Planta 3ª exterior sin ascensor 19 horas', '4 hab. 157 m² Planta 2ª exterior con ascensor', '2 hab. 94 m² Planta 4ª exterior con ascensor 19 horas', '4 hab. 200 m² 04 sep', '5 hab. 214 m² Planta 2ª exterior con ascensor 19 horas', '2 hab. 56 m² Planta 1ª interior con ascensor', '4 hab. 126 m² Planta 4ª exterior con ascensor 19 horas', '1 hab. 79 m² Planta 4ª exterior con ascensor', '2 hab. 55 m² Bajo exterior sin ascensor 19 horas', '3 hab. 169 m² Planta 6ª exterior con ascensor', '6 hab. 447 m² 19 horas', '2 hab. 76 m² Planta 3ª con ascensor 04 sep', '4 hab. 238 m² Planta 6ª exterior con ascensor 19 horas', '3 hab. 138 m² Planta 7ª exterior con ascensor']\n"
     ]
    }
   ],
   "source": [
    "html = driver.page_source\n",
    "\n",
    "# Crear el objeto BeautifulSoup con el HTML obtenido\n",
    "soup = BeautifulSoup(html, \"html.parser\")\n",
    "\n",
    "# Buscar todos los elementos con la clase 'list-item-location'\n",
    "detalles = driver.find_elements(By.CLASS_NAME, 'item-detail-char')\n",
    "\n",
    "# Crear una lista para almacenar las ubicaciones\n",
    "details_list = []\n",
    "\n",
    "# Recorrer los elementos encontrados y agregarlos a la lista\n",
    "for detail in detalles:\n",
    "    detail_text = detail.text\n",
    "    details_list.append(detail_text)\n",
    "\n",
    "# Imprimir la lista de ubicaciones\n",
    "print(details_list)"
   ]
  },
  {
   "cell_type": "code",
   "execution_count": 56,
   "metadata": {},
   "outputs": [],
   "source": [
    "data = {\n",
    "    'Ubicación': location_list,\n",
    "    'Precio':price_list,\n",
    "    'Detalles':details_list\n",
    "}\n",
    "\n",
    "# Crear el DataFrame a partir del diccionario\n",
    "df = pd.DataFrame(data)"
   ]
  },
  {
   "cell_type": "code",
   "execution_count": 57,
   "metadata": {},
   "outputs": [],
   "source": [
    "\n",
    "output_filename = 'idealista_15.csv'\n",
    "df.to_csv(output_filename, index=False)\n",
    "\n"
   ]
  }
 ],
 "metadata": {
  "kernelspec": {
   "display_name": "base",
   "language": "python",
   "name": "python3"
  },
  "language_info": {
   "codemirror_mode": {
    "name": "ipython",
    "version": 3
   },
   "file_extension": ".py",
   "mimetype": "text/x-python",
   "name": "python",
   "nbconvert_exporter": "python",
   "pygments_lexer": "ipython3",
   "version": "3.11.4"
  },
  "orig_nbformat": 4
 },
 "nbformat": 4,
 "nbformat_minor": 2
}
