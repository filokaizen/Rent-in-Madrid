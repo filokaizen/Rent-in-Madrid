{
 "cells": [
  {
   "cell_type": "code",
   "execution_count": 5,
   "metadata": {},
   "outputs": [],
   "source": [
    "import pandas as pd\n",
    "from bs4 import BeautifulSoup\n",
    "from selenium.webdriver.common.keys import Keys\n",
    "from selenium import webdriver\n",
    "from selenium.webdriver.common.action_chains import ActionChains\n",
    "from webdriver_manager.chrome import ChromeDriverManager\n",
    "from selenium.webdriver.common.by import By\n",
    "import requests \n",
    "import time\n",
    "import warnings\n",
    "warnings.filterwarnings('ignore')\n",
    "\n"
   ]
  },
  {
   "cell_type": "code",
   "execution_count": 6,
   "metadata": {},
   "outputs": [],
   "source": [
    "driver = r\"C:\\Users\\filokaizen\\OneDrive-Tajamar\\Desktop\\ii\\4.3-lab_web_scraping_selenium\\chromedriver.exe\" #remember substitute this for your driver path\n",
    "driver = webdriver.Chrome()"
   ]
  },
  {
   "cell_type": "code",
   "execution_count": 7,
   "metadata": {},
   "outputs": [],
   "source": [
    "# This is the url you will scrape in this exercise\n",
    "url = \"https://www.idealista.com/alquiler-viviendas/madrid-madrid/pagina-7.htm\"\n",
    "driver.get(url)"
   ]
  },
  {
   "cell_type": "code",
   "execution_count": 8,
   "metadata": {},
   "outputs": [],
   "source": [
    "driver.find_element(By.XPATH , '//*[@id=\"didomi-notice-agree-button\"]').click()\n",
    "\n",
    "\n",
    "\n"
   ]
  },
  {
   "cell_type": "code",
   "execution_count": 9,
   "metadata": {},
   "outputs": [
    {
     "name": "stdout",
     "output_type": "stream",
     "text": [
      "['Piso en calle del Olivar  44  Lavapiés-Embajadores  Madrid', 'Piso en calle de Apolonio Morales  Nueva España  Madrid', 'Piso en calle de San Vicente Ferrer  Malasaña-Universidad  Madrid', 'Piso en Prosperidad  Madrid', 'Piso en Nuevos Ministerios-Ríos Rosas  Madrid', 'Piso en Argüelles  Madrid', 'Dúplex en calle de Manuel Tovar  Tres Olivos - Valverde  Madrid', 'Ático en Fuente del Berro  Madrid', 'Piso en Berruguete  Berruguete  Madrid', 'Piso en Nueva España  Madrid', 'Piso en calle de Carranza  4  Trafalgar  Madrid', 'Ático en Bernabéu-Hispanoamérica  Madrid', 'Piso en calle de la Virgen de los Peligros  Huertas-Cortes  Madrid', 'Piso en Valdemarín  Madrid', 'Ático en calle de Ángel Muñoz  San Juan Bautista  Madrid', 'Piso en paseo del General Martínez Campos  Almagro  Madrid', 'Piso en Bernabéu-Hispanoamérica  Madrid', 'Piso en Quintana  Madrid', 'Piso en Goya  Madrid', 'Piso en calle de Fernández de la Hoz  Almagro  Madrid', 'Dúplex en paseo de Juan XXIII  40  Ciudad Universitaria  Madrid', 'Piso en calle de Núñez de Balboa  Recoletos  Madrid', 'Piso en calle de Castelló  Castellana  Madrid', 'Piso en calle de Atocha  Huertas-Cortes  Madrid', 'Piso en calle del Príncipe de Vergara  109  El Viso  Madrid', 'Piso en pasaje de Bisbal  Fuente del Berro  Madrid', 'Piso en calle de Juan Duque  10  Imperial  Madrid', 'Piso en Fuente del Berro  Madrid', 'Piso en calle de Juan Álvarez Mendizábal  44  Argüelles  Madrid', \"Piso en calle de O'Donnell  Goya  Madrid\"]\n"
     ]
    }
   ],
   "source": [
    "# Obtener el HTML de la página después de ser renderizada\n",
    "html = driver.page_source\n",
    "\n",
    "# Crear el objeto BeautifulSoup con el HTML obtenido\n",
    "soup = BeautifulSoup(html, \"html.parser\")\n",
    "\n",
    "# Buscar todos los elementos con la clase 'list-item-location'\n",
    "locations = driver.find_elements(By.CLASS_NAME, 'item-link')\n",
    "\n",
    "# Crear una lista para almacenar las ubicaciones\n",
    "location_list = []\n",
    "\n",
    "# Recorrer los elementos encontrados y agregarlos a la lista\n",
    "for location in locations:\n",
    "    location_text = location.text.replace(\",\", \" \") \n",
    "    location_list.append(location_text)\n",
    "\n",
    "# Imprimir la lista de ubicaciones\n",
    "print(location_list)"
   ]
  },
  {
   "cell_type": "code",
   "execution_count": 10,
   "metadata": {},
   "outputs": [
    {
     "name": "stdout",
     "output_type": "stream",
     "text": [
      "['1.200€/mes', '2.200€/mes\\nGaraje incluido', '950€/mes', '2.400€/mes\\nGaraje incluido', '3.900€/mes\\nGaraje incluido', '1.600€/mes', '950€/mes\\nGaraje incluido', '2.950€/mes\\nGaraje incluido', '915€/mes', '4.000€/mes\\nGaraje incluido\\n4.500 € 11%', '850€/mes', '2.300€/mes', '1.200€/mes', '2.900€/mes\\nGaraje incluido', '2.000€/mes', '3.100€/mes', '4.800€/mes\\nGaraje incluido', '2.400€/mes\\nGaraje incluido', '2.450€/mes\\nGaraje incluido', '2.500€/mes\\nGaraje incluido', '2.200€/mes', '7.500€/mes', '1.700€/mes', '2.600€/mes', '1.450€/mes', '2.300€/mes\\nGaraje incluido', '825€/mes', '2.445€/mes\\nGaraje incluido', '1.250€/mes', '9.000€/mes\\nGaraje incluido']\n"
     ]
    }
   ],
   "source": [
    "# Obtener el HTML de la página después de ser renderizada\n",
    "html = driver.page_source\n",
    "\n",
    "# Crear el objeto BeautifulSoup con el HTML obtenido\n",
    "soup = BeautifulSoup(html, \"html.parser\")\n",
    "\n",
    "# Buscar todos los elementos con la clase 'list-item-location'\n",
    "prices = driver.find_elements(By.CLASS_NAME, 'price-row')\n",
    "\n",
    "# Crear una lista para almacenar las ubicaciones\n",
    "price_list = []\n",
    "\n",
    "# Recorrer los elementos encontrados y agregarlos a la lista\n",
    "for price in prices:\n",
    "    price_text = price.text\n",
    "    price_list.append(price_text)\n",
    "\n",
    "# Imprimir la lista de ubicaciones\n",
    "print(price_list)"
   ]
  },
  {
   "cell_type": "code",
   "execution_count": 11,
   "metadata": {},
   "outputs": [
    {
     "name": "stdout",
     "output_type": "stream",
     "text": [
      "['2 hab. 56 m² Planta 2ª exterior sin ascensor 2 horas', '2 hab. 98 m² exterior con ascensor', '1 hab. 48 m² Bajo exterior sin ascensor 2 horas', '3 hab. 110 m² Planta 6ª exterior con ascensor', '4 hab. 210 m² Planta 3ª exterior con ascensor 2 horas', '2 hab. 77 m² exterior con ascensor', '1 hab. 78 m² Planta 1ª exterior con ascensor 1 hora', '3 hab. 120 m² exterior con ascensor', '2 hab. 40 m² Planta 2ª interior sin ascensor 2 horas', '4 hab. 251 m² Planta 3ª exterior con ascensor', '1 hab. 30 m² Planta 1ª interior sin ascensor 2 horas', '3 hab. 102 m² Planta 7ª exterior con ascensor', '1 hab. 60 m² Planta 1ª exterior con ascensor 3 horas', '4 hab. 187 m² Bajo exterior con ascensor', '2 hab. 96 m² Planta 3ª exterior con ascensor 3 horas', '2 hab. 178 m² Planta 8ª exterior con ascensor', '5 hab. 397 m² Planta 4ª exterior con ascensor 3 horas', '4 hab. 171 m² Planta 3ª exterior con ascensor', '2 hab. 100 m² Planta 5ª exterior con ascensor 3 horas', '4 hab. 172 m² Planta 4ª con ascensor', '3 hab. 130 m² Planta 11ª exterior con ascensor 3 horas', '4 hab. 269 m² Planta 5ª exterior con ascensor', '1 hab. 65 m² Planta 7ª exterior con ascensor 3 horas', '3 hab. 115 m² Planta 1ª exterior sin ascensor', '2 hab. 50 m² Planta 5ª exterior con ascensor 3 horas', '2 hab. 100 m² Planta 1ª exterior con ascensor', '1 hab. 45 m² Planta 2ª interior con ascensor 3 horas', '2 hab. 110 m² exterior con ascensor', '3 hab. 120 m² Planta 3ª interior sin ascensor 3 horas', '4 hab. 350 m² Planta 5ª exterior con ascensor']\n"
     ]
    }
   ],
   "source": [
    "html = driver.page_source\n",
    "\n",
    "# Crear el objeto BeautifulSoup con el HTML obtenido\n",
    "soup = BeautifulSoup(html, \"html.parser\")\n",
    "\n",
    "# Buscar todos los elementos con la clase 'list-item-location'\n",
    "detalles = driver.find_elements(By.CLASS_NAME, 'item-detail-char')\n",
    "\n",
    "# Crear una lista para almacenar las ubicaciones\n",
    "details_list = []\n",
    "\n",
    "# Recorrer los elementos encontrados y agregarlos a la lista\n",
    "for detail in detalles:\n",
    "    detail_text = detail.text\n",
    "    details_list.append(detail_text)\n",
    "\n",
    "# Imprimir la lista de ubicaciones\n",
    "print(details_list)"
   ]
  },
  {
   "cell_type": "code",
   "execution_count": 12,
   "metadata": {},
   "outputs": [
    {
     "name": "stdout",
     "output_type": "stream",
     "text": [
      "['2 hab. 56 m² Planta 2ª exterior sin ascensor 2 horas', '2 hab. 98 m² exterior con ascensor', '1 hab. 48 m² Bajo exterior sin ascensor 2 horas', '3 hab. 110 m² Planta 6ª exterior con ascensor', '4 hab. 210 m² Planta 3ª exterior con ascensor 2 horas', '2 hab. 77 m² exterior con ascensor', '1 hab. 78 m² Planta 1ª exterior con ascensor 1 hora', '3 hab. 120 m² exterior con ascensor', '2 hab. 40 m² Planta 2ª interior sin ascensor 2 horas', '4 hab. 251 m² Planta 3ª exterior con ascensor', '1 hab. 30 m² Planta 1ª interior sin ascensor 2 horas', '3 hab. 102 m² Planta 7ª exterior con ascensor', '1 hab. 60 m² Planta 1ª exterior con ascensor 3 horas', '4 hab. 187 m² Bajo exterior con ascensor', '2 hab. 96 m² Planta 3ª exterior con ascensor 3 horas', '2 hab. 178 m² Planta 8ª exterior con ascensor', '5 hab. 397 m² Planta 4ª exterior con ascensor 3 horas', '4 hab. 171 m² Planta 3ª exterior con ascensor', '2 hab. 100 m² Planta 5ª exterior con ascensor 3 horas', '4 hab. 172 m² Planta 4ª con ascensor', '3 hab. 130 m² Planta 11ª exterior con ascensor 3 horas', '4 hab. 269 m² Planta 5ª exterior con ascensor', '1 hab. 65 m² Planta 7ª exterior con ascensor 3 horas', '3 hab. 115 m² Planta 1ª exterior sin ascensor', '2 hab. 50 m² Planta 5ª exterior con ascensor 3 horas', '2 hab. 100 m² Planta 1ª exterior con ascensor', '1 hab. 45 m² Planta 2ª interior con ascensor 3 horas', '2 hab. 110 m² exterior con ascensor', '3 hab. 120 m² Planta 3ª interior sin ascensor 3 horas', '4 hab. 350 m² Planta 5ª exterior con ascensor']\n"
     ]
    }
   ],
   "source": [
    "print(details_list)"
   ]
  },
  {
   "cell_type": "code",
   "execution_count": 13,
   "metadata": {},
   "outputs": [
    {
     "name": "stdout",
     "output_type": "stream",
     "text": [
      "El DataFrame ha sido exportado exitosamente a 'idealista_7.csv'.\n"
     ]
    }
   ],
   "source": [
    "\n",
    "# Crear el DataFrame a partir de las listas\n",
    "df = pd.DataFrame({\n",
    "    'Ubicación': location_list,\n",
    "    'Precio': price_list,\n",
    "    'Detalles': details_list\n",
    "})\n",
    "\n",
    "# Especificar el nombre de archivo del archivo CSV de salida\n",
    "output_filename = 'idealista_7.csv'\n",
    "\n",
    "# Exportar el DataFrame a un archivo CSV\n",
    "df.to_csv(output_filename, index=False)\n",
    "\n",
    "print(f\"El DataFrame ha sido exportado exitosamente a '{output_filename}'.\")"
   ]
  },
  {
   "cell_type": "code",
   "execution_count": null,
   "metadata": {},
   "outputs": [],
   "source": []
  }
 ],
 "metadata": {
  "kernelspec": {
   "display_name": "base",
   "language": "python",
   "name": "python3"
  },
  "language_info": {
   "codemirror_mode": {
    "name": "ipython",
    "version": 3
   },
   "file_extension": ".py",
   "mimetype": "text/x-python",
   "name": "python",
   "nbconvert_exporter": "python",
   "pygments_lexer": "ipython3",
   "version": "3.11.4"
  },
  "orig_nbformat": 4
 },
 "nbformat": 4,
 "nbformat_minor": 2
}
