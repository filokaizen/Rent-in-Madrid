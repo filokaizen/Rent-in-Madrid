{
 "cells": [
  {
   "cell_type": "code",
   "execution_count": 10,
   "metadata": {},
   "outputs": [],
   "source": [
    "import pandas as pd\n",
    "from bs4 import BeautifulSoup\n",
    "from selenium.webdriver.common.keys import Keys\n",
    "from selenium import webdriver\n",
    "from selenium.webdriver.common.action_chains import ActionChains\n",
    "from webdriver_manager.chrome import ChromeDriverManager\n",
    "from selenium.webdriver.common.by import By\n",
    "import requests \n",
    "import time\n",
    "import warnings\n",
    "warnings.filterwarnings('ignore')\n",
    "\n"
   ]
  },
  {
   "cell_type": "code",
   "execution_count": 11,
   "metadata": {},
   "outputs": [],
   "source": [
    "driver = r\"C:\\Users\\filokaizen\\OneDrive-Tajamar\\Desktop\\ii\\4.3-lab_web_scraping_selenium\\chromedriver.exe\" #remember substitute this for your driver path\n",
    "driver = webdriver.Chrome()"
   ]
  },
  {
   "cell_type": "code",
   "execution_count": 12,
   "metadata": {},
   "outputs": [],
   "source": [
    "# This is the url you will scrape in this exercise\n",
    "url = \"https://www.idealista.com/alquiler-viviendas/madrid-madrid/pagina-22.htm\"\n",
    "driver.get(url)"
   ]
  },
  {
   "cell_type": "code",
   "execution_count": 13,
   "metadata": {},
   "outputs": [],
   "source": [
    "try:\n",
    "    driver.find_element(By.XPATH , '//*[@id=\"didomi-notice-agree-button\"]').click()\n",
    "\n",
    "except:\n",
    "    pass\n",
    "\n",
    "\n"
   ]
  },
  {
   "cell_type": "code",
   "execution_count": 14,
   "metadata": {},
   "outputs": [
    {
     "name": "stdout",
     "output_type": "stream",
     "text": [
      "['Piso en calle del Acuerdo  Malasaña-Universidad  Madrid', 'Piso en Nuevos Ministerios-Ríos Rosas  Madrid', 'Piso en Artesa de Segre  Ciudad Universitaria  Madrid', 'Piso en calle de Arturo Soria  Costillares  Madrid', 'Ático en calle de Mauricio Legendre  39  Castilla  Madrid', 'Ático en Nuevos Ministerios-Ríos Rosas  Madrid', 'Piso en calle de Cáceres  Chopera  Madrid', 'Piso en Palomas  Madrid', 'Ático en calle Nenúfar  6  Berruguete  Madrid', 'Piso en Palomas  Madrid', 'Piso en calle de San Nicolás  Palacio  Madrid', 'Piso en Malasaña-Universidad  Madrid', 'Piso en calle de Fernández de los Ríos  Gaztambide  Madrid', 'Piso en Ciudad Jardín  Madrid', 'Piso en calle de Amaniel  Malasaña-Universidad  Madrid', 'Ático en Recoletos  Madrid', 'Piso en calle Almagro  30  Almagro  Madrid', 'Dúplex en Conde Orgaz-Piovera  Madrid', 'Piso en calle Bahía de Palma  14  Campo de las Naciones-Corralejos  Madrid', 'Piso en calle de Sánchez Barcáiztegui  9  Pacífico  Madrid', 'Piso en Bernabéu-Hispanoamérica  Madrid', 'Piso en calle Pintor Ignacio de Zuloaga  16  Sanchinarro  Madrid', 'Piso en calle de Núñez de Balboa  Castellana  Madrid', 'Piso en calle de Trueba y Fernández  Bernabéu-Hispanoamérica  Madrid', 'Piso en plaza Nuestra Señora del Pilar  4  Prosperidad  Madrid', 'Piso en Entrevías  Madrid', 'Piso en avenida del Ensanche de Vallecas  Ensanche de Vallecas - La Gavia  Madrid', 'Piso en calle de Ferrer del Río  Guindalera  Madrid', 'Piso en calle Del Padre Claret  Prosperidad  Madrid', 'Piso en Almagro  Madrid']\n"
     ]
    }
   ],
   "source": [
    "# Obtener el HTML de la página después de ser renderizada\n",
    "html = driver.page_source\n",
    "\n",
    "# Crear el objeto BeautifulSoup con el HTML obtenido\n",
    "soup = BeautifulSoup(html, \"html.parser\")\n",
    "\n",
    "# Buscar todos los elementos con la clase 'list-item-location'\n",
    "locations = driver.find_elements(By.CLASS_NAME, 'item-link')\n",
    "\n",
    "# Crear una lista para almacenar las ubicaciones\n",
    "location_list = []\n",
    "\n",
    "# Recorrer los elementos encontrados y agregarlos a la lista\n",
    "for location in locations:\n",
    "    location_text = location.text.replace(\",\", \" \") \n",
    "    location_list.append(location_text)\n",
    "\n",
    "# Imprimir la lista de ubicaciones\n",
    "print(location_list)"
   ]
  },
  {
   "cell_type": "code",
   "execution_count": 15,
   "metadata": {},
   "outputs": [
    {
     "name": "stdout",
     "output_type": "stream",
     "text": [
      "['850€/mes', '2.500€/mes', '3.000€/mes\\nGaraje incluido', '2.000€/mes', '1.350€/mes', '3.200€/mes\\n3.400 € 6%', '1.500€/mes', '1.900€/mes\\nGaraje incluido', '1.250€/mes', '2.400€/mes\\nGaraje incluido', '1.650€/mes', '3.600€/mes', '1.600€/mes', '2.800€/mes\\nGaraje incluido', '1.200€/mes', '5.000€/mes', '1.350€/mes', '2.800€/mes\\nGaraje incluido', '1.300€/mes\\nGaraje incluido', '1.300€/mes', '1.500€/mes', '1.650€/mes\\nGaraje incluido', '2.800€/mes\\nGaraje incluido', '2.400€/mes', '1.350€/mes', '890€/mes', '1.350€/mes\\nGaraje incluido', '2.000€/mes', '1.250€/mes\\nGaraje incluido', '2.700€/mes\\nGaraje incluido']\n"
     ]
    }
   ],
   "source": [
    "# Obtener el HTML de la página después de ser renderizada\n",
    "html = driver.page_source\n",
    "\n",
    "# Crear el objeto BeautifulSoup con el HTML obtenido\n",
    "soup = BeautifulSoup(html, \"html.parser\")\n",
    "\n",
    "# Buscar todos los elementos con la clase 'list-item-location'\n",
    "prices = driver.find_elements(By.CLASS_NAME, 'price-row')\n",
    "\n",
    "# Crear una lista para almacenar las ubicaciones\n",
    "price_list = []\n",
    "\n",
    "# Recorrer los elementos encontrados y agregarlos a la lista\n",
    "for price in prices:\n",
    "    price_text = price.text\n",
    "    price_list.append(price_text)\n",
    "\n",
    "# Imprimir la lista de ubicaciones\n",
    "print(price_list)"
   ]
  },
  {
   "cell_type": "code",
   "execution_count": 16,
   "metadata": {},
   "outputs": [
    {
     "name": "stdout",
     "output_type": "stream",
     "text": [
      "['1 hab. 45 m² Planta 4ª exterior sin ascensor', '3 hab. 118 m² exterior con ascensor', '4 hab. 242 m² Planta 4ª exterior con ascensor', '4 hab. 158 m² exterior con ascensor', '3 hab. 100 m² Planta 13ª exterior con ascensor', '3 hab. 140 m² exterior con ascensor', '2 hab. 87 m² Planta 8ª exterior con ascensor', '3 hab. 144 m² Planta 2ª exterior con ascensor', '1 hab. 70 m² Planta 3ª exterior con ascensor', '3 hab. 144 m² Planta 2ª exterior con ascensor', '1 hab. 105 m² Bajo exterior con ascensor', '3 hab. 180 m² Planta 4ª exterior con ascensor', '1 hab. 58 m² Planta 13ª interior con ascensor', '2 hab. 175 m² Planta 2ª exterior con ascensor', '2 hab. 43 m² Planta 3ª interior con ascensor', '2 hab. 180 m² Planta 7ª exterior con ascensor', '1 hab. 60 m² Bajo interior con ascensor Publicado ayer', '2 hab. 105 m² Planta 4ª exterior con ascensor', '2 hab. 110 m² Planta 3ª exterior con ascensor', '2 hab. 54 m² Planta 1ª interior con ascensor', '2 hab. 87 m² Planta 2ª exterior con ascensor', '1 hab. 51 m² Planta 5ª exterior con ascensor', '3 hab. 114 m² Planta 2ª exterior con ascensor', '2 hab. 85 m² Planta 3ª exterior con ascensor', '2 hab. 67 m² Planta 2ª exterior sin ascensor', '2 hab. 80 m² Planta 1ª exterior con ascensor', '3 hab. 110 m² Planta 2ª exterior con ascensor', '2 hab. 100 m² Planta 3ª exterior con ascensor', '2 hab. 73 m² Planta 1ª exterior con ascensor', '2 hab. 117 m² exterior con ascensor']\n"
     ]
    }
   ],
   "source": [
    "html = driver.page_source\n",
    "\n",
    "# Crear el objeto BeautifulSoup con el HTML obtenido\n",
    "soup = BeautifulSoup(html, \"html.parser\")\n",
    "\n",
    "# Buscar todos los elementos con la clase 'list-item-location'\n",
    "detalles = driver.find_elements(By.CLASS_NAME, 'item-detail-char')\n",
    "\n",
    "# Crear una lista para almacenar las ubicaciones\n",
    "details_list = []\n",
    "\n",
    "# Recorrer los elementos encontrados y agregarlos a la lista\n",
    "for detail in detalles:\n",
    "    detail_text = detail.text\n",
    "    details_list.append(detail_text)\n",
    "\n",
    "# Imprimir la lista de ubicaciones\n",
    "print(details_list)"
   ]
  },
  {
   "cell_type": "code",
   "execution_count": 17,
   "metadata": {},
   "outputs": [],
   "source": [
    "data = {\n",
    "    'Ubicación': location_list,\n",
    "    'Precio':price_list,\n",
    "    'Detalles':details_list\n",
    "}\n",
    "\n",
    "# Crear el DataFrame a partir del diccionario\n",
    "df = pd.DataFrame(data)"
   ]
  },
  {
   "cell_type": "code",
   "execution_count": 18,
   "metadata": {},
   "outputs": [],
   "source": [
    "\n",
    "output_filename = 'idealista_22.csv'\n",
    "df.to_csv(output_filename, index=False)\n",
    "\n"
   ]
  }
 ],
 "metadata": {
  "kernelspec": {
   "display_name": "base",
   "language": "python",
   "name": "python3"
  },
  "language_info": {
   "codemirror_mode": {
    "name": "ipython",
    "version": 3
   },
   "file_extension": ".py",
   "mimetype": "text/x-python",
   "name": "python",
   "nbconvert_exporter": "python",
   "pygments_lexer": "ipython3",
   "version": "3.11.4"
  },
  "orig_nbformat": 4
 },
 "nbformat": 4,
 "nbformat_minor": 2
}
