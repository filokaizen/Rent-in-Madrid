{
 "cells": [
  {
   "cell_type": "code",
   "execution_count": 1,
   "metadata": {},
   "outputs": [],
   "source": [
    "import pandas as pd\n",
    "from bs4 import BeautifulSoup\n",
    "from selenium.webdriver.common.keys import Keys\n",
    "from selenium import webdriver\n",
    "from selenium.webdriver.common.action_chains import ActionChains\n",
    "from webdriver_manager.chrome import ChromeDriverManager\n",
    "from selenium.webdriver.common.by import By\n",
    "import requests \n",
    "import time\n",
    "import warnings\n",
    "warnings.filterwarnings('ignore')\n",
    "\n"
   ]
  },
  {
   "cell_type": "code",
   "execution_count": 2,
   "metadata": {},
   "outputs": [],
   "source": [
    "driver = r\"C:\\Users\\filokaizen\\OneDrive-Tajamar\\Desktop\\ii\\4.3-lab_web_scraping_selenium\\chromedriver.exe\" #remember substitute this for your driver path\n",
    "driver = webdriver.Chrome()"
   ]
  },
  {
   "cell_type": "code",
   "execution_count": 3,
   "metadata": {},
   "outputs": [],
   "source": [
    "# This is the url you will scrape in this exercise\n",
    "url = \"https://www.idealista.com/alquiler-viviendas/madrid-madrid/pagina-9.htm\"\n",
    "driver.get(url)"
   ]
  },
  {
   "cell_type": "code",
   "execution_count": 4,
   "metadata": {},
   "outputs": [],
   "source": [
    "try:\n",
    "    driver.find_element(By.XPATH , '//*[@id=\"didomi-notice-agree-button\"]').click()\n",
    "\n",
    "except:\n",
    "    pass\n",
    "\n",
    "\n"
   ]
  },
  {
   "cell_type": "code",
   "execution_count": 5,
   "metadata": {},
   "outputs": [
    {
     "name": "stdout",
     "output_type": "stream",
     "text": [
      "['Piso en calle santa teresa  3  Chueca-Justicia  Madrid', 'Estudio en calle de Sor María de Ágreda  Ventas  Madrid', 'Piso en Goya  Madrid', 'Piso en calle de Castelló  Recoletos  Madrid', 'Ático en calle Lozoya  Arapiles  Madrid', 'Piso en calle de Lagasca  Castellana  Madrid', 'Piso en calle de Aristóteles  1  San Pascual  Madrid', 'Piso en calle de Atocha  Huertas-Cortes  Madrid', 'Piso en avenida de la Reina Victoria  Vallehermoso  Madrid', 'Piso en calle de Lagasca  Castellana  Madrid', 'Piso en Palacio  Madrid', 'Piso en calle de Triana  35  Nueva España  Madrid', 'Piso en Almagro  Madrid', 'Estudio en calle de Triana  35  Nueva España  Madrid', 'Piso en Ciudad Universitaria  Madrid', 'Piso en calle de Triana  35  Nueva España  Madrid', 'Piso en plaza de Santa Catalina de los Donados  Sol  Madrid', 'Estudio en calle de Triana  35  Nueva España  Madrid', 'Piso en paseo de la Direccion  161  Valdeacederas  Madrid', 'Estudio en calle de Triana  35  Nueva España  Madrid', 'Piso en calle de Diego de León  52  Lista  Madrid', 'Piso en calle de Don Ramón de la Cruz  Recoletos  Madrid', 'Dúplex en calle Ana de Austria  101  Sanchinarro  Madrid', 'Piso en calle de Diego de León  Castellana  Madrid', 'Piso en Vicente Muzas  Colina  Madrid', 'Piso en Concepción  Madrid', 'Piso en calle de Coslada  11  Guindalera  Madrid', 'Piso en calle San Martín de Porres  Ciudad Universitaria  Madrid', 'Piso en calle Villa del Prado  Delicias  Madrid', 'Piso en calle de Jesús de Polanco  Peñagrande  Madrid']\n"
     ]
    }
   ],
   "source": [
    "# Obtener el HTML de la página después de ser renderizada\n",
    "html = driver.page_source\n",
    "\n",
    "# Crear el objeto BeautifulSoup con el HTML obtenido\n",
    "soup = BeautifulSoup(html, \"html.parser\")\n",
    "\n",
    "# Buscar todos los elementos con la clase 'list-item-location'\n",
    "locations = driver.find_elements(By.CLASS_NAME, 'item-link')\n",
    "\n",
    "# Crear una lista para almacenar las ubicaciones\n",
    "location_list = []\n",
    "\n",
    "# Recorrer los elementos encontrados y agregarlos a la lista\n",
    "for location in locations:\n",
    "    location_text = location.text.replace(\",\", \" \") \n",
    "    location_list.append(location_text)\n",
    "\n",
    "# Imprimir la lista de ubicaciones\n",
    "print(location_list)"
   ]
  },
  {
   "cell_type": "code",
   "execution_count": 6,
   "metadata": {},
   "outputs": [
    {
     "name": "stdout",
     "output_type": "stream",
     "text": [
      "['1.850€/mes', '1.000€/mes', '2.800€/mes', '2.650€/mes', '1.400€/mes', '2.800€/mes', '1.200€/mes', '2.390€/mes', '1.800€/mes\\nGaraje incluido', '2.700€/mes', '1.750€/mes', '1.825€/mes', '1.900€/mes', '1.180€/mes\\n1.575 € 25%', '1.600€/mes', '2.230€/mes', '2.300€/mes', '1.775€/mes', '2.970€/mes\\nGaraje incluido', '1.240€/mes\\n1.650 € 25%', '3.500€/mes', '4.500€/mes', '3.375€/mes', '3.500€/mes\\nGaraje incluido\\n3.750 € 7%', '1.050€/mes', '2.000€/mes\\nGaraje incluido', '1.200€/mes', '3.700€/mes\\nGaraje incluido\\n3.900 € 5%', '1.280€/mes\\nGaraje incluido', '1.800€/mes\\nGaraje incluido']\n"
     ]
    }
   ],
   "source": [
    "# Obtener el HTML de la página después de ser renderizada\n",
    "html = driver.page_source\n",
    "\n",
    "# Crear el objeto BeautifulSoup con el HTML obtenido\n",
    "soup = BeautifulSoup(html, \"html.parser\")\n",
    "\n",
    "# Buscar todos los elementos con la clase 'list-item-location'\n",
    "prices = driver.find_elements(By.CLASS_NAME, 'price-row')\n",
    "\n",
    "# Crear una lista para almacenar las ubicaciones\n",
    "price_list = []\n",
    "\n",
    "# Recorrer los elementos encontrados y agregarlos a la lista\n",
    "for price in prices:\n",
    "    price_text = price.text\n",
    "    price_list.append(price_text)\n",
    "\n",
    "# Imprimir la lista de ubicaciones\n",
    "print(price_list)"
   ]
  },
  {
   "cell_type": "code",
   "execution_count": 7,
   "metadata": {},
   "outputs": [
    {
     "name": "stdout",
     "output_type": "stream",
     "text": [
      "['1 hab. 63 m² Planta 3ª exterior con ascensor 4 horas', '42 m² Bajo exterior sin ascensor 31 ago', '3 hab. 132 m² Planta 1ª exterior con ascensor 4 horas', '4 hab. 139 m² Planta 1ª exterior con ascensor', '41 m² interior con ascensor 5 horas', '3 hab. 84 m² Bajo interior con ascensor', '3 hab. 90 m² Planta 5ª exterior con ascensor 6 horas', '2 hab. 75 m² Planta 2ª exterior con ascensor', '3 hab. 100 m² Planta 6ª exterior con ascensor 7 horas', '2 hab. 62 m² Bajo interior con ascensor', '2 hab. 70 m² Planta 3ª interior con ascensor 8 horas', '1 hab. 25 m² Planta 1ª exterior sin ascensor', '1 hab. 89 m² Entreplanta exterior con ascensor 8 horas', '20 m² Planta 1ª exterior sin ascensor', '2 hab. 60 m² Planta 8ª exterior con ascensor 9 horas', '2 hab. 45 m² Planta 1ª exterior sin ascensor', '3 hab. 127 m² Bajo exterior con ascensor 11 horas', '20 m² Planta 1ª exterior sin ascensor', '2 hab. 100 m² Planta 14ª exterior con ascensor 11 horas', '20 m² Planta 1ª exterior sin ascensor', '5 hab. 220 m² Planta 3ª exterior con ascensor 11 horas', '2 hab. 164 m² Planta 4ª exterior con ascensor', '3 hab. 120 m² Planta 1ª exterior con ascensor 11 horas', '4 hab. 200 m² Planta 3ª exterior con ascensor', '1 hab. 65 m² Planta 4ª exterior con ascensor 12 horas', '2 hab. 90 m² Planta 1ª exterior con ascensor', '2 hab. 70 m² Planta 2ª exterior con ascensor 12 horas', '5 hab. 342 m² Planta 5ª exterior con ascensor', '2 hab. 148 m² Planta 4ª exterior con ascensor 12 horas', '2 hab. 131 m² Planta 1ª exterior con ascensor']\n"
     ]
    }
   ],
   "source": [
    "html = driver.page_source\n",
    "\n",
    "# Crear el objeto BeautifulSoup con el HTML obtenido\n",
    "soup = BeautifulSoup(html, \"html.parser\")\n",
    "\n",
    "# Buscar todos los elementos con la clase 'list-item-location'\n",
    "detalles = driver.find_elements(By.CLASS_NAME, 'item-detail-char')\n",
    "\n",
    "# Crear una lista para almacenar las ubicaciones\n",
    "details_list = []\n",
    "\n",
    "# Recorrer los elementos encontrados y agregarlos a la lista\n",
    "for detail in detalles:\n",
    "    detail_text = detail.text\n",
    "    details_list.append(detail_text)\n",
    "\n",
    "# Imprimir la lista de ubicaciones\n",
    "print(details_list)"
   ]
  },
  {
   "cell_type": "code",
   "execution_count": 8,
   "metadata": {},
   "outputs": [],
   "source": [
    "data = {\n",
    "    'Ubicación': location_list,\n",
    "    'Precio':price_list,\n",
    "    'Detalles':details_list\n",
    "}\n",
    "\n",
    "# Crear el DataFrame a partir del diccionario\n",
    "df = pd.DataFrame(data)"
   ]
  },
  {
   "cell_type": "code",
   "execution_count": 10,
   "metadata": {},
   "outputs": [],
   "source": [
    "\n",
    "output_filename = 'idealista_9.csv'\n",
    "df.to_csv(output_filename, index=False)\n",
    "\n"
   ]
  }
 ],
 "metadata": {
  "kernelspec": {
   "display_name": "base",
   "language": "python",
   "name": "python3"
  },
  "language_info": {
   "codemirror_mode": {
    "name": "ipython",
    "version": 3
   },
   "file_extension": ".py",
   "mimetype": "text/x-python",
   "name": "python",
   "nbconvert_exporter": "python",
   "pygments_lexer": "ipython3",
   "version": "3.11.4"
  },
  "orig_nbformat": 4
 },
 "nbformat": 4,
 "nbformat_minor": 2
}
