{
 "cells": [
  {
   "cell_type": "code",
   "execution_count": 1,
   "metadata": {},
   "outputs": [],
   "source": [
    "import pandas as pd\n",
    "from bs4 import BeautifulSoup\n",
    "from selenium.webdriver.common.keys import Keys\n",
    "from selenium import webdriver\n",
    "from selenium.webdriver.common.action_chains import ActionChains\n",
    "from webdriver_manager.chrome import ChromeDriverManager\n",
    "from selenium.webdriver.common.by import By\n",
    "import requests \n",
    "import time\n",
    "import warnings\n",
    "warnings.filterwarnings('ignore')\n",
    "\n"
   ]
  },
  {
   "cell_type": "code",
   "execution_count": 2,
   "metadata": {},
   "outputs": [],
   "source": [
    "driver = r\"C:\\Users\\filokaizen\\OneDrive-Tajamar\\Desktop\\ii\\4.3-lab_web_scraping_selenium\\chromedriver.exe\" #remember substitute this for your driver path\n",
    "driver = webdriver.Chrome()"
   ]
  },
  {
   "cell_type": "code",
   "execution_count": 3,
   "metadata": {},
   "outputs": [],
   "source": [
    "# This is the url you will scrape in this exercise\n",
    "url = \"https://www.idealista.com/alquiler-viviendas/madrid-madrid/pagina-13.htm\"\n",
    "driver.get(url)"
   ]
  },
  {
   "cell_type": "code",
   "execution_count": 4,
   "metadata": {},
   "outputs": [],
   "source": [
    "try:\n",
    "    driver.find_element(By.XPATH , '//*[@id=\"didomi-notice-agree-button\"]').click()\n",
    "\n",
    "except:\n",
    "    pass\n",
    "\n",
    "\n"
   ]
  },
  {
   "cell_type": "code",
   "execution_count": 5,
   "metadata": {},
   "outputs": [
    {
     "name": "stdout",
     "output_type": "stream",
     "text": [
      "['Dúplex en san Juan de Ortega  100  Las Tablas  Madrid', 'Piso en calle de Cardenal Mendoza  Puerta del Ángel  Madrid', 'Estudio en calle de Don Ramón de la Cruz  62  Goya  Madrid', 'Piso en calle Solana de Luche  Puerta del Ángel  Madrid', 'Piso en paseo San Francisco de Sales  Vallehermoso  Madrid', 'Piso en calle industria  Puerta del Ángel  Madrid', 'Piso en calle de Costa Rica  14  Bernabéu-Hispanoamérica  Madrid', 'Piso en calle industria  Puerta del Ángel  Madrid', 'Piso en Ignacio Ellacuria  18  Ventas  Madrid', 'Piso en Blasco de Garay  Arapiles  Madrid', 'Piso en calle Sierra de Pajarejo  7  Valdemarín  Madrid', 'Piso en calle Minas  7  Malasaña-Universidad  Madrid', 'Chalet pareado en calle de Formigal  Valdemarín  Madrid', 'Piso en Recoletos  Madrid', 'Piso en avenida Betanzos  Pilar  Madrid', 'Piso en calle de Amaniel  Malasaña-Universidad  Madrid', 'Piso en calle Mozart  Casa de Campo  Madrid', 'Estudio en Quintana  Madrid', 'Piso en calle de Altamirano  6  Argüelles  Madrid', 'Piso en Huertas-Cortes  Madrid', 'Piso en Nuevos Ministerios-Ríos Rosas  Madrid', 'Dúplex en calle de Palafox  Trafalgar  Madrid', 'Piso en calle del Monte Urgull  Numancia  Madrid', 'Estudio en calle de San Lorenzo  Chueca-Justicia  Madrid', 'Piso en calle de Oliva de Plasencia  Águilas  Madrid', 'Piso en calle de San Bernardo  Malasaña-Universidad  Madrid', 'Piso en Trafalgar  Madrid', 'Piso en calle de San Bernardo  Malasaña-Universidad  Madrid', 'Piso en avenida de la Aviación  Águilas  Madrid', 'Piso en paseo de la Dirección  Valdeacederas  Madrid']\n"
     ]
    }
   ],
   "source": [
    "# Obtener el HTML de la página después de ser renderizada\n",
    "html = driver.page_source\n",
    "\n",
    "# Crear el objeto BeautifulSoup con el HTML obtenido\n",
    "soup = BeautifulSoup(html, \"html.parser\")\n",
    "\n",
    "# Buscar todos los elementos con la clase 'list-item-location'\n",
    "locations = driver.find_elements(By.CLASS_NAME, 'item-link')\n",
    "\n",
    "# Crear una lista para almacenar las ubicaciones\n",
    "location_list = []\n",
    "\n",
    "# Recorrer los elementos encontrados y agregarlos a la lista\n",
    "for location in locations:\n",
    "    location_text = location.text.replace(\",\", \" \") \n",
    "    location_list.append(location_text)\n",
    "\n",
    "# Imprimir la lista de ubicaciones\n",
    "print(location_list)"
   ]
  },
  {
   "cell_type": "code",
   "execution_count": 6,
   "metadata": {},
   "outputs": [
    {
     "name": "stdout",
     "output_type": "stream",
     "text": [
      "['2.100€/mes\\nGaraje incluido', '1.100€/mes', '1.500€/mes', '1.350€/mes', '2.350€/mes\\nGaraje incluido', '1.050€/mes', '1.450€/mes', '1.050€/mes', '800€/mes\\nGaraje incluido', '1.900€/mes', '1.300€/mes\\nGaraje incluido', '950€/mes', '5.500€/mes\\nGaraje incluido', '2.700€/mes\\n3.000 € 10%', '950€/mes', '1.300€/mes', '1.500€/mes\\nGaraje incluido', '650€/mes', '1.800€/mes', '3.500€/mes\\nGaraje incluido', '2.700€/mes', '3.900€/mes', '790€/mes', '2.200€/mes', '850€/mes', '3.600€/mes', '1.500€/mes', '3.600€/mes', '800€/mes', '2.300€/mes\\nGaraje incluido']\n"
     ]
    }
   ],
   "source": [
    "# Obtener el HTML de la página después de ser renderizada\n",
    "html = driver.page_source\n",
    "\n",
    "# Crear el objeto BeautifulSoup con el HTML obtenido\n",
    "soup = BeautifulSoup(html, \"html.parser\")\n",
    "\n",
    "# Buscar todos los elementos con la clase 'list-item-location'\n",
    "prices = driver.find_elements(By.CLASS_NAME, 'price-row')\n",
    "\n",
    "# Crear una lista para almacenar las ubicaciones\n",
    "price_list = []\n",
    "\n",
    "# Recorrer los elementos encontrados y agregarlos a la lista\n",
    "for price in prices:\n",
    "    price_text = price.text\n",
    "    price_list.append(price_text)\n",
    "\n",
    "# Imprimir la lista de ubicaciones\n",
    "print(price_list)"
   ]
  },
  {
   "cell_type": "code",
   "execution_count": 7,
   "metadata": {},
   "outputs": [
    {
     "name": "stdout",
     "output_type": "stream",
     "text": [
      "['2 hab. 105 m² Planta 5ª interior con ascensor 17 horas', '1 hab. 65 m² Bajo exterior con ascensor 13 horas', '42 m² Planta 3ª exterior con ascensor 17 horas', '3 hab. 70 m² Planta 2ª exterior sin ascensor 13 horas', '2 hab. 93 m² Planta 1ª exterior con ascensor 17 horas', '1 hab. 50 m² Planta 2ª exterior con ascensor 13 horas', '2 hab. 75 m² Bajo exterior con ascensor 17 horas', '1 hab. 50 m² Planta 1ª exterior con ascensor 13 horas', '1 hab. 57 m² Bajo exterior con ascensor 17 horas', '2 hab. 92 m² Planta 6ª exterior con ascensor', '1 hab. 75 m² Planta 1ª exterior con ascensor 17 horas', '2 hab. 50 m² Planta 2ª interior sin ascensor', '4 hab. 336 m² 16 horas', '2 hab. 135 m² Planta 3ª exterior con ascensor', '2 hab. 60 m² Planta 4ª exterior con ascensor 17 horas', '1 hab. 65 m² Planta 1ª exterior con ascensor', '2 hab. 105 m² Planta 7ª exterior con ascensor 17 horas', '29 m² Bajo exterior sin ascensor 04 sep', '3 hab. 62 m² Planta 5ª interior con ascensor 3 horas', '3 hab. 129 m² Planta 6ª exterior con ascensor', '3 hab. 141 m² Bajo interior con ascensor 18 horas', '2 hab. 108 m² Planta 4ª exterior con ascensor', '2 hab. 39 m² Planta 1ª exterior sin ascensor 18 horas', '50 m² Bajo exterior con ascensor', '3 hab. 75 m² Planta 4ª exterior con ascensor 18 horas', '2 hab. 85 m² Planta 3ª exterior con ascensor', '3 hab. 73 m² Planta 1ª exterior con ascensor 18 horas', '2 hab. 85 m² Planta 3ª exterior con ascensor', '3 hab. 90 m² Planta 4ª exterior sin ascensor 18 horas', '1 hab. 50 m² Planta 22ª exterior con ascensor']\n"
     ]
    }
   ],
   "source": [
    "html = driver.page_source\n",
    "\n",
    "# Crear el objeto BeautifulSoup con el HTML obtenido\n",
    "soup = BeautifulSoup(html, \"html.parser\")\n",
    "\n",
    "# Buscar todos los elementos con la clase 'list-item-location'\n",
    "detalles = driver.find_elements(By.CLASS_NAME, 'item-detail-char')\n",
    "\n",
    "# Crear una lista para almacenar las ubicaciones\n",
    "details_list = []\n",
    "\n",
    "# Recorrer los elementos encontrados y agregarlos a la lista\n",
    "for detail in detalles:\n",
    "    detail_text = detail.text\n",
    "    details_list.append(detail_text)\n",
    "\n",
    "# Imprimir la lista de ubicaciones\n",
    "print(details_list)"
   ]
  },
  {
   "cell_type": "code",
   "execution_count": 8,
   "metadata": {},
   "outputs": [],
   "source": [
    "data = {\n",
    "    'Ubicación': location_list,\n",
    "    'Precio':price_list,\n",
    "    'Detalles':details_list\n",
    "}\n",
    "\n",
    "# Crear el DataFrame a partir del diccionario\n",
    "df = pd.DataFrame(data)"
   ]
  },
  {
   "cell_type": "code",
   "execution_count": 10,
   "metadata": {},
   "outputs": [],
   "source": [
    "\n",
    "output_filename = 'idealista_13.csv'\n",
    "df.to_csv(output_filename, index=False)\n",
    "\n"
   ]
  }
 ],
 "metadata": {
  "kernelspec": {
   "display_name": "base",
   "language": "python",
   "name": "python3"
  },
  "language_info": {
   "codemirror_mode": {
    "name": "ipython",
    "version": 3
   },
   "file_extension": ".py",
   "mimetype": "text/x-python",
   "name": "python",
   "nbconvert_exporter": "python",
   "pygments_lexer": "ipython3",
   "version": "3.11.4"
  },
  "orig_nbformat": 4
 },
 "nbformat": 4,
 "nbformat_minor": 2
}
