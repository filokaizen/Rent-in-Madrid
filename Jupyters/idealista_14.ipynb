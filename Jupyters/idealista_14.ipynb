{
 "cells": [
  {
   "cell_type": "code",
   "execution_count": 1,
   "metadata": {},
   "outputs": [],
   "source": [
    "import pandas as pd\n",
    "from bs4 import BeautifulSoup\n",
    "from selenium.webdriver.common.keys import Keys\n",
    "from selenium import webdriver\n",
    "from selenium.webdriver.common.action_chains import ActionChains\n",
    "from webdriver_manager.chrome import ChromeDriverManager\n",
    "from selenium.webdriver.common.by import By\n",
    "import requests \n",
    "import time\n",
    "import warnings\n",
    "warnings.filterwarnings('ignore')\n",
    "\n"
   ]
  },
  {
   "cell_type": "code",
   "execution_count": 2,
   "metadata": {},
   "outputs": [],
   "source": [
    "driver = r\"C:\\Users\\filokaizen\\OneDrive-Tajamar\\Desktop\\ii\\4.3-lab_web_scraping_selenium\\chromedriver.exe\" #remember substitute this for your driver path\n",
    "driver = webdriver.Chrome()"
   ]
  },
  {
   "cell_type": "code",
   "execution_count": 3,
   "metadata": {},
   "outputs": [],
   "source": [
    "# This is the url you will scrape in this exercise\n",
    "url = \"https://www.idealista.com/alquiler-viviendas/madrid-madrid/pagina-14.htm\"\n",
    "driver.get(url)"
   ]
  },
  {
   "cell_type": "code",
   "execution_count": 4,
   "metadata": {},
   "outputs": [],
   "source": [
    "try:\n",
    "    driver.find_element(By.XPATH , '//*[@id=\"didomi-notice-agree-button\"]').click()\n",
    "\n",
    "except:\n",
    "    pass\n",
    "\n",
    "\n"
   ]
  },
  {
   "cell_type": "code",
   "execution_count": 5,
   "metadata": {},
   "outputs": [
    {
     "name": "stdout",
     "output_type": "stream",
     "text": [
      "['Piso en avenida de la Aviación  Águilas  Madrid', 'Piso en paseo de la Dirección  Valdeacederas  Madrid', 'Ático en calle de la Maquinilla  Palomeras sureste  Madrid', 'Piso en calle de San Bernardo  Malasaña-Universidad  Madrid', 'Piso en calle del Mesón de Paredes  Lavapiés-Embajadores  Madrid', 'Piso en calle de Fuencarral  Chueca-Justicia  Madrid', 'Piso en calle de José Miguel Gordoa  4  Chopera  Madrid', 'Piso en calle de Alcalá  Goya  Madrid', 'Piso en avenida de Monforte de Lemos  Peñagrande  Madrid', 'Piso en paseo de la Castellana  Ventilla-Almenara  Madrid', 'Piso en calle de la Palmera  Ventilla-Almenara  Madrid', 'Piso en paseo de la Castellana  Bernabéu-Hispanoamérica  Madrid', 'Piso en calle de Santa Amalia  Numancia  Madrid', 'Piso en calle de San Ernesto  Ciudad Jardín  Madrid', 'Piso en calle de Don Quijote  Cuatro Caminos  Madrid', 'Dúplex en calle de Cabellera de Berenice  Valdemarín  Madrid', 'Piso en zurron  12  Timón  Madrid', \"Piso en calle de O'Donnell  Goya  Madrid\", 'Ático en calle del Olmo  25  Lavapiés-Embajadores  Madrid', 'Ático en calle de los Madrazo  Huertas-Cortes  Madrid', 'Dúplex en plaza de Tuy  Pilar  Madrid', 'Piso en calle de San Lorenzo  Chueca-Justicia  Madrid', 'Piso en paseo de Extremadura  Puerta del Ángel  Madrid', 'Piso en calle de Francisco Giralte  Prosperidad  Madrid', 'Piso en plaza de las Cortes  Huertas-Cortes  Madrid', 'Piso en calle de Garellano  Bellas Vistas  Madrid', 'Piso en Huertas-Cortes  Madrid', 'Piso en calle de García de Paredes  Almagro  Madrid', 'Piso en calle Marmolistas  Arcos  Madrid', 'Dúplex en calle de San Bernardo  Malasaña-Universidad  Madrid']\n"
     ]
    }
   ],
   "source": [
    "# Obtener el HTML de la página después de ser renderizada\n",
    "html = driver.page_source\n",
    "\n",
    "# Crear el objeto BeautifulSoup con el HTML obtenido\n",
    "soup = BeautifulSoup(html, \"html.parser\")\n",
    "\n",
    "# Buscar todos los elementos con la clase 'list-item-location'\n",
    "locations = driver.find_elements(By.CLASS_NAME, 'item-link')\n",
    "\n",
    "# Crear una lista para almacenar las ubicaciones\n",
    "location_list = []\n",
    "\n",
    "# Recorrer los elementos encontrados y agregarlos a la lista\n",
    "for location in locations:\n",
    "    location_text = location.text.replace(\",\", \" \") \n",
    "    location_list.append(location_text)\n",
    "\n",
    "# Imprimir la lista de ubicaciones\n",
    "print(location_list)"
   ]
  },
  {
   "cell_type": "code",
   "execution_count": 6,
   "metadata": {},
   "outputs": [
    {
     "name": "stdout",
     "output_type": "stream",
     "text": [
      "['800€/mes', '1.900€/mes', '750€/mes\\nGaraje incluido', '3.700€/mes', '695€/mes', '2.300€/mes', '1.200€/mes', '3.300€/mes', '1.200€/mes\\nGaraje incluido', '4.500€/mes', '990€/mes', '2.900€/mes', '850€/mes', '2.500€/mes', '890€/mes\\nGaraje incluido', '2.000€/mes\\nGaraje incluido', '895€/mes\\nGaraje incluido', '4.500€/mes\\nGaraje incluido', '1.800€/mes', '3.350€/mes\\n3.550 € 6%', '1.800€/mes', '2.500€/mes', '990€/mes', '1.100€/mes', '1.500€/mes', '2.100€/mes', '1.800€/mes', '4.800€/mes', '930€/mes', '4.100€/mes']\n"
     ]
    }
   ],
   "source": [
    "# Obtener el HTML de la página después de ser renderizada\n",
    "html = driver.page_source\n",
    "\n",
    "# Crear el objeto BeautifulSoup con el HTML obtenido\n",
    "soup = BeautifulSoup(html, \"html.parser\")\n",
    "\n",
    "# Buscar todos los elementos con la clase 'list-item-location'\n",
    "prices = driver.find_elements(By.CLASS_NAME, 'price-row')\n",
    "\n",
    "# Crear una lista para almacenar las ubicaciones\n",
    "price_list = []\n",
    "\n",
    "# Recorrer los elementos encontrados y agregarlos a la lista\n",
    "for price in prices:\n",
    "    price_text = price.text\n",
    "    price_list.append(price_text)\n",
    "\n",
    "# Imprimir la lista de ubicaciones\n",
    "print(price_list)"
   ]
  },
  {
   "cell_type": "code",
   "execution_count": 7,
   "metadata": {},
   "outputs": [
    {
     "name": "stdout",
     "output_type": "stream",
     "text": [
      "['3 hab. 90 m² Planta 4ª exterior sin ascensor 18 horas', '1 hab. 69 m² Planta 5ª exterior con ascensor', '1 hab. 50 m² Planta 9ª exterior con ascensor 18 horas', '2 hab. 85 m² Planta 3ª exterior con ascensor', '1 hab. 33 m² Planta 1ª interior con ascensor 18 horas', '1 hab. 45 m² Planta 2ª exterior con ascensor', '2 hab. 53 m² Planta 3ª exterior sin ascensor 18 horas', '1 hab. 101 m² Planta 3ª exterior con ascensor', '2 hab. 100 m² Planta 7ª exterior con ascensor 18 horas', '5 hab. 245 m² Planta 1ª exterior con ascensor', '2 hab. 45 m² Planta 2ª exterior sin ascensor 18 horas', '3 hab. 122 m² Planta 4ª exterior con ascensor', '3 hab. 80 m² Planta 3ª exterior sin ascensor 18 horas', '5 hab. 219 m² Planta 3ª exterior con ascensor', '1 hab. 30 m² Planta 2ª exterior sin ascensor 18 horas', '2 hab. 127 m² Planta 2ª exterior con ascensor', '2 hab. 69 m² Bajo exterior con ascensor 18 horas', '3 hab. 213 m² Planta 2ª exterior con ascensor', '3 hab. 70 m² Planta 4ª exterior sin ascensor 18 horas', '2 hab. 102 m² exterior con ascensor', '3 hab. 120 m² Entreplanta exterior con ascensor 2 horas', '1 hab. 90 m² Bajo exterior con ascensor', '2 hab. 32 m² Planta 2ª exterior sin ascensor 18 horas', '1 hab. 45 m² Bajo exterior con ascensor', '1 hab. 70 m² Planta 5ª exterior con ascensor 18 horas', '2 hab. 101 m² Planta 2ª exterior con ascensor', '1 hab. 65 m² Planta 6ª exterior con ascensor 18 horas', '3 hab. 149 m² Planta 1ª exterior con ascensor', '3 hab. 68 m² Bajo exterior sin ascensor 19 horas', '2 hab. 88 m² Planta 4ª exterior con ascensor 22 horas']\n"
     ]
    }
   ],
   "source": [
    "html = driver.page_source\n",
    "\n",
    "# Crear el objeto BeautifulSoup con el HTML obtenido\n",
    "soup = BeautifulSoup(html, \"html.parser\")\n",
    "\n",
    "# Buscar todos los elementos con la clase 'list-item-location'\n",
    "detalles = driver.find_elements(By.CLASS_NAME, 'item-detail-char')\n",
    "\n",
    "# Crear una lista para almacenar las ubicaciones\n",
    "details_list = []\n",
    "\n",
    "# Recorrer los elementos encontrados y agregarlos a la lista\n",
    "for detail in detalles:\n",
    "    detail_text = detail.text\n",
    "    details_list.append(detail_text)\n",
    "\n",
    "# Imprimir la lista de ubicaciones\n",
    "print(details_list)"
   ]
  },
  {
   "cell_type": "code",
   "execution_count": 8,
   "metadata": {},
   "outputs": [],
   "source": [
    "data = {\n",
    "    'Ubicación': location_list,\n",
    "    'Precio':price_list,\n",
    "    'Detalles':details_list\n",
    "}\n",
    "\n",
    "# Crear el DataFrame a partir del diccionario\n",
    "df = pd.DataFrame(data)"
   ]
  },
  {
   "cell_type": "code",
   "execution_count": 10,
   "metadata": {},
   "outputs": [],
   "source": [
    "\n",
    "output_filename = 'idealista_14.csv'\n",
    "df.to_csv(output_filename, index=False)\n",
    "\n"
   ]
  }
 ],
 "metadata": {
  "kernelspec": {
   "display_name": "base",
   "language": "python",
   "name": "python3"
  },
  "language_info": {
   "codemirror_mode": {
    "name": "ipython",
    "version": 3
   },
   "file_extension": ".py",
   "mimetype": "text/x-python",
   "name": "python",
   "nbconvert_exporter": "python",
   "pygments_lexer": "ipython3",
   "version": "3.11.4"
  },
  "orig_nbformat": 4
 },
 "nbformat": 4,
 "nbformat_minor": 2
}
