{
 "cells": [
  {
   "cell_type": "code",
   "execution_count": 1,
   "metadata": {},
   "outputs": [],
   "source": [
    "import pandas as pd\n",
    "from bs4 import BeautifulSoup\n",
    "from selenium.webdriver.common.keys import Keys\n",
    "from selenium import webdriver\n",
    "from selenium.webdriver.common.action_chains import ActionChains\n",
    "from webdriver_manager.chrome import ChromeDriverManager\n",
    "from selenium.webdriver.common.by import By\n",
    "import requests \n",
    "import time\n",
    "import warnings\n",
    "warnings.filterwarnings('ignore')\n",
    "\n"
   ]
  },
  {
   "cell_type": "code",
   "execution_count": 2,
   "metadata": {},
   "outputs": [],
   "source": [
    "driver = r\"C:\\Users\\filokaizen\\OneDrive-Tajamar\\Desktop\\ii\\4.3-lab_web_scraping_selenium\\chromedriver.exe\" #remember substitute this for your driver path\n",
    "driver = webdriver.Chrome()"
   ]
  },
  {
   "cell_type": "code",
   "execution_count": 3,
   "metadata": {},
   "outputs": [],
   "source": [
    "# This is the url you will scrape in this exercise\n",
    "url = \"https://www.idealista.com/alquiler-viviendas/madrid-madrid/pagina-8.htm\"\n",
    "driver.get(url)"
   ]
  },
  {
   "cell_type": "code",
   "execution_count": 4,
   "metadata": {},
   "outputs": [],
   "source": [
    "try:\n",
    "    driver.find_element(By.XPATH , '//*[@id=\"didomi-notice-agree-button\"]').click()\n",
    "\n",
    "except:\n",
    "    pass\n",
    "\n",
    "\n"
   ]
  },
  {
   "cell_type": "code",
   "execution_count": 5,
   "metadata": {},
   "outputs": [
    {
     "name": "stdout",
     "output_type": "stream",
     "text": [
      "['Piso en Goya  Madrid', 'Piso en Nueva España  Madrid', 'Dúplex en paseo de Juan XXIII  40  Ciudad Universitaria  Madrid', 'Ático en Bernabéu-Hispanoamérica  Madrid', 'Piso en calle de Castelló  Castellana  Madrid', 'Piso en Valdemarín  Madrid', 'Piso en calle del Príncipe de Vergara  109  El Viso  Madrid', 'Piso en Quintana  Madrid', 'Piso en calle de Juan Duque  10  Imperial  Madrid', 'Piso en paseo del General Martínez Campos  Almagro  Madrid', 'Piso en calle de Juan Álvarez Mendizábal  44  Argüelles  Madrid', 'Piso en calle de Fernández de la Hoz  Almagro  Madrid', 'Ático en calle del Cactus  1  Berruguete  Madrid', 'Piso en calle de Núñez de Balboa  Recoletos  Madrid', 'Piso en calle del Olivar  13  Lavapiés-Embajadores  Madrid', 'Piso en calle de Atocha  Huertas-Cortes  Madrid', 'Piso en calle Arturo Soria  328  Costillares  Madrid', \"Piso en calle de O'Donnell  Goya  Madrid\", 'Piso en calle de Guipúzcoa  6  Cuatro Caminos  Madrid', 'Piso en Fuente del Berro  Madrid', 'Estudio en calle de Buenavista  20  Lavapiés-Embajadores  Madrid', 'Piso en calle de la Costa Brava  Mirasierra  Madrid', 'Ático en calle del Príncipe de Vergara  211  El Viso  Madrid', 'Piso en pasaje de Bisbal  Fuente del Berro  Madrid', 'Piso en Los Cármenes  Madrid', 'Piso en paseo de la Dirección  161  Valdeacederas  Madrid', 'Piso en calle santa teresa  3  Chueca-Justicia  Madrid', 'Estudio en calle de Sor María de Ágreda  Ventas  Madrid', 'Piso en Goya  Madrid', 'Piso en calle de Núñez de Balboa  Recoletos  Madrid']\n"
     ]
    }
   ],
   "source": [
    "# Obtener el HTML de la página después de ser renderizada\n",
    "html = driver.page_source\n",
    "\n",
    "# Crear el objeto BeautifulSoup con el HTML obtenido\n",
    "soup = BeautifulSoup(html, \"html.parser\")\n",
    "\n",
    "# Buscar todos los elementos con la clase 'list-item-location'\n",
    "locations = driver.find_elements(By.CLASS_NAME, 'item-link')\n",
    "\n",
    "# Crear una lista para almacenar las ubicaciones\n",
    "location_list = []\n",
    "\n",
    "# Recorrer los elementos encontrados y agregarlos a la lista\n",
    "for location in locations:\n",
    "    location_text = location.text.replace(\",\", \" \") \n",
    "    location_list.append(location_text)\n",
    "\n",
    "# Imprimir la lista de ubicaciones\n",
    "print(location_list)"
   ]
  },
  {
   "cell_type": "code",
   "execution_count": 6,
   "metadata": {},
   "outputs": [
    {
     "name": "stdout",
     "output_type": "stream",
     "text": [
      "['2.450€/mes\\nGaraje incluido', '4.000€/mes\\nGaraje incluido\\n4.500 € 11%', '2.200€/mes', '2.300€/mes', '1.700€/mes', '2.900€/mes\\nGaraje incluido', '1.450€/mes', '2.400€/mes\\nGaraje incluido', '825€/mes', '3.100€/mes', '1.250€/mes', '2.500€/mes\\nGaraje incluido', '1.100€/mes', '7.500€/mes', '750€/mes', '2.600€/mes', '1.900€/mes', '9.000€/mes\\nGaraje incluido', '850€/mes', '2.445€/mes\\nGaraje incluido', '950€/mes', '1.600€/mes\\nGaraje incluido', '1.450€/mes', '2.300€/mes\\nGaraje incluido', '1.700€/mes', '2.500€/mes\\nGaraje incluido', '1.850€/mes', '1.000€/mes', '2.800€/mes', '4.200€/mes\\nGaraje incluido']\n"
     ]
    }
   ],
   "source": [
    "# Obtener el HTML de la página después de ser renderizada\n",
    "html = driver.page_source\n",
    "\n",
    "# Crear el objeto BeautifulSoup con el HTML obtenido\n",
    "soup = BeautifulSoup(html, \"html.parser\")\n",
    "\n",
    "# Buscar todos los elementos con la clase 'list-item-location'\n",
    "prices = driver.find_elements(By.CLASS_NAME, 'price-row')\n",
    "\n",
    "# Crear una lista para almacenar las ubicaciones\n",
    "price_list = []\n",
    "\n",
    "# Recorrer los elementos encontrados y agregarlos a la lista\n",
    "for price in prices:\n",
    "    price_text = price.text\n",
    "    price_list.append(price_text)\n",
    "\n",
    "# Imprimir la lista de ubicaciones\n",
    "print(price_list)"
   ]
  },
  {
   "cell_type": "code",
   "execution_count": 7,
   "metadata": {},
   "outputs": [
    {
     "name": "stdout",
     "output_type": "stream",
     "text": [
      "['2 hab. 100 m² Planta 5ª exterior con ascensor 3 horas', '4 hab. 251 m² Planta 3ª exterior con ascensor', '3 hab. 130 m² Planta 11ª exterior con ascensor 3 horas', '3 hab. 102 m² Planta 7ª exterior con ascensor', '1 hab. 65 m² Planta 7ª exterior con ascensor 3 horas', '4 hab. 187 m² Bajo exterior con ascensor', '2 hab. 50 m² Planta 5ª exterior con ascensor 3 horas', '4 hab. 171 m² Planta 3ª exterior con ascensor', '1 hab. 45 m² Planta 2ª interior con ascensor 3 horas', '2 hab. 178 m² Planta 8ª exterior con ascensor', '3 hab. 120 m² Planta 3ª interior sin ascensor 3 horas', '4 hab. 172 m² Planta 4ª con ascensor', '1 hab. 62 m² Planta 2ª interior con ascensor 3 horas', '4 hab. 269 m² Planta 5ª exterior con ascensor', '1 hab. 30 m² Bajo con ascensor 3 horas', '3 hab. 115 m² Planta 1ª exterior sin ascensor', '4 hab. 160 m² Planta 6ª exterior con ascensor 3 horas', '4 hab. 350 m² Planta 5ª exterior con ascensor', '1 hab. 50 m² Bajo interior sin ascensor 3 horas', '2 hab. 110 m² exterior con ascensor', '60 m² Planta 1ª exterior sin ascensor 4 horas', '1 hab. 60 m² Planta 4ª exterior con ascensor', '2 hab. 67 m² Planta 10ª exterior con ascensor 4 horas', '2 hab. 100 m² Planta 1ª exterior con ascensor', '3 hab. 72 m² Planta 3ª exterior con ascensor 1 hora', '3 hab. 145 m² Planta 9ª exterior con ascensor', '1 hab. 63 m² Planta 3ª exterior con ascensor 4 horas', '42 m² Bajo exterior sin ascensor 31 ago', '3 hab. 132 m² Planta 1ª exterior con ascensor 4 horas', '4 hab. 220 m² Planta 5ª exterior con ascensor']\n"
     ]
    }
   ],
   "source": [
    "html = driver.page_source\n",
    "\n",
    "# Crear el objeto BeautifulSoup con el HTML obtenido\n",
    "soup = BeautifulSoup(html, \"html.parser\")\n",
    "\n",
    "# Buscar todos los elementos con la clase 'list-item-location'\n",
    "detalles = driver.find_elements(By.CLASS_NAME, 'item-detail-char')\n",
    "\n",
    "# Crear una lista para almacenar las ubicaciones\n",
    "details_list = []\n",
    "\n",
    "# Recorrer los elementos encontrados y agregarlos a la lista\n",
    "for detail in detalles:\n",
    "    detail_text = detail.text\n",
    "    details_list.append(detail_text)\n",
    "\n",
    "# Imprimir la lista de ubicaciones\n",
    "print(details_list)"
   ]
  },
  {
   "cell_type": "code",
   "execution_count": 8,
   "metadata": {},
   "outputs": [],
   "source": [
    "data = {\n",
    "    'Ubicación': location_list,\n",
    "    'Precio':price_list,\n",
    "    'Detalles':details_list\n",
    "}\n",
    "\n",
    "# Crear el DataFrame a partir del diccionario\n",
    "df = pd.DataFrame(data)"
   ]
  },
  {
   "cell_type": "code",
   "execution_count": 11,
   "metadata": {},
   "outputs": [],
   "source": [
    "\n",
    "output_filename = 'idealista_8.csv'\n",
    "df.to_csv(output_filename, index=False)\n",
    "\n"
   ]
  }
 ],
 "metadata": {
  "kernelspec": {
   "display_name": "base",
   "language": "python",
   "name": "python3"
  },
  "language_info": {
   "codemirror_mode": {
    "name": "ipython",
    "version": 3
   },
   "file_extension": ".py",
   "mimetype": "text/x-python",
   "name": "python",
   "nbconvert_exporter": "python",
   "pygments_lexer": "ipython3",
   "version": "3.11.4"
  },
  "orig_nbformat": 4
 },
 "nbformat": 4,
 "nbformat_minor": 2
}
