{
 "cells": [
  {
   "cell_type": "code",
   "execution_count": 1,
   "metadata": {},
   "outputs": [],
   "source": [
    "import pandas as pd\n",
    "from bs4 import BeautifulSoup\n",
    "from selenium.webdriver.common.keys import Keys\n",
    "from selenium import webdriver\n",
    "from selenium.webdriver.common.action_chains import ActionChains\n",
    "from webdriver_manager.chrome import ChromeDriverManager\n",
    "from selenium.webdriver.common.by import By\n",
    "import requests \n",
    "import time\n",
    "import warnings\n",
    "warnings.filterwarnings('ignore')\n",
    "\n"
   ]
  },
  {
   "cell_type": "code",
   "execution_count": 2,
   "metadata": {},
   "outputs": [],
   "source": [
    "driver = r\"C:\\Users\\filokaizen\\OneDrive-Tajamar\\Desktop\\ii\\4.3-lab_web_scraping_selenium\\chromedriver.exe\" #remember substitute this for your driver path\n",
    "driver = webdriver.Chrome()"
   ]
  },
  {
   "cell_type": "code",
   "execution_count": 3,
   "metadata": {},
   "outputs": [],
   "source": [
    "# This is the url you will scrape in this exercise\n",
    "url = \"https://www.idealista.com/alquiler-viviendas/madrid-madrid/pagina-10.htm\"\n",
    "driver.get(url)"
   ]
  },
  {
   "cell_type": "code",
   "execution_count": 4,
   "metadata": {},
   "outputs": [],
   "source": [
    "try:\n",
    "    driver.find_element(By.XPATH , '//*[@id=\"didomi-notice-agree-button\"]').click()\n",
    "\n",
    "except:\n",
    "    pass\n",
    "\n",
    "\n"
   ]
  },
  {
   "cell_type": "code",
   "execution_count": 5,
   "metadata": {},
   "outputs": [
    {
     "name": "stdout",
     "output_type": "stream",
     "text": [
      "['Piso en Vicente Muzas  Colina  Madrid', 'Piso en calle de San Bernardo  Malasaña-Universidad  Madrid', 'Piso en calle de Coslada  11  Guindalera  Madrid', 'Piso en paseo de la Castellana  Ventilla-Almenara  Madrid', 'Piso en calle Villa del Prado  Delicias  Madrid', 'Piso en calle de San Bernardo  Malasaña-Universidad  Madrid', 'Piso en Ibiza  Madrid', 'Piso en calle de San Bernardo  Malasaña-Universidad  Madrid', 'Piso en calle Alonso Heredia  29  Guindalera  Madrid', 'Casa o chalet independiente en El Plantío  Madrid', 'Piso en calle Sagasta  Trafalgar  Madrid', 'Piso en calle de Jesús de Polanco  Peñagrande  Madrid', 'Piso en Conde de Aranda  10  Recoletos  Madrid', 'Piso en calle de Hermosilla  Goya  Madrid', 'Piso en plaza de Arteijo  13  Pilar  Madrid', 'Piso en paseo de la Infanta Isabel  Jerónimos  Madrid', 'Piso en Serrano  112  Castellana  Madrid', 'Dúplex en calle del Príncipe de Vergara  Castellana  Madrid', 'Ático en calle Ferraz  37  Argüelles  Madrid', 'Piso en calle de Pavía  Palacio  Madrid', 'Piso en calle de Antonio de Leyva  76  Opañel  Madrid', 'Piso en yecora  Rejas  Madrid', 'Ático en San Carlos  6  Lavapiés-Embajadores  Madrid', 'Piso en calle de Lope de Vega  Huertas-Cortes  Madrid', 'Piso en plaza de Corcubión  1  Pilar  Madrid', 'Piso en avenida de los Andes  Conde Orgaz-Piovera  Madrid', 'Dúplex en calle de Vallehermoso  104  Vallehermoso  Madrid', 'Piso en avenida de los Madroños  Conde Orgaz-Piovera  Madrid', 'Piso en calle de las Delicias  Palos de Moguer  Madrid', 'Estudio en calle de Lagasca  Recoletos  Madrid']\n"
     ]
    }
   ],
   "source": [
    "# Obtener el HTML de la página después de ser renderizada\n",
    "html = driver.page_source\n",
    "\n",
    "# Crear el objeto BeautifulSoup con el HTML obtenido\n",
    "soup = BeautifulSoup(html, \"html.parser\")\n",
    "\n",
    "# Buscar todos los elementos con la clase 'list-item-location'\n",
    "locations = driver.find_elements(By.CLASS_NAME, 'item-link')\n",
    "\n",
    "# Crear una lista para almacenar las ubicaciones\n",
    "location_list = []\n",
    "\n",
    "# Recorrer los elementos encontrados y agregarlos a la lista\n",
    "for location in locations:\n",
    "    location_text = location.text.replace(\",\", \" \") \n",
    "    location_list.append(location_text)\n",
    "\n",
    "# Imprimir la lista de ubicaciones\n",
    "print(location_list)"
   ]
  },
  {
   "cell_type": "code",
   "execution_count": 6,
   "metadata": {},
   "outputs": [
    {
     "name": "stdout",
     "output_type": "stream",
     "text": [
      "['1.050€/mes', '3.600€/mes', '1.200€/mes', '2.400€/mes', '1.280€/mes\\nGaraje incluido', '3.600€/mes', '2.400€/mes', '3.600€/mes', '1.200€/mes', '12.000€/mes\\nGaraje incluido', '1.750€/mes', '2.000€/mes\\nGaraje incluido', '8.370€/mes', '1.450€/mes', '750€/mes', '1.990€/mes', '7.650€/mes', '1.800€/mes\\nGaraje opc. 120 €/mes', '2.000€/mes', '2.900€/mes', '930€/mes', '1.400€/mes\\nGaraje incluido', '2.430€/mes', '1.800€/mes', '950€/mes', '3.100€/mes\\nGaraje incluido', '980€/mes', '4.500€/mes\\nGaraje incluido', '1.900€/mes', '1.200€/mes']\n"
     ]
    }
   ],
   "source": [
    "# Obtener el HTML de la página después de ser renderizada\n",
    "html = driver.page_source\n",
    "\n",
    "# Crear el objeto BeautifulSoup con el HTML obtenido\n",
    "soup = BeautifulSoup(html, \"html.parser\")\n",
    "\n",
    "# Buscar todos los elementos con la clase 'list-item-location'\n",
    "prices = driver.find_elements(By.CLASS_NAME, 'price-row')\n",
    "\n",
    "# Crear una lista para almacenar las ubicaciones\n",
    "price_list = []\n",
    "\n",
    "# Recorrer los elementos encontrados y agregarlos a la lista\n",
    "for price in prices:\n",
    "    price_text = price.text\n",
    "    price_list.append(price_text)\n",
    "\n",
    "# Imprimir la lista de ubicaciones\n",
    "print(price_list)"
   ]
  },
  {
   "cell_type": "code",
   "execution_count": 7,
   "metadata": {},
   "outputs": [
    {
     "name": "stdout",
     "output_type": "stream",
     "text": [
      "['1 hab. 65 m² Planta 4ª exterior con ascensor 12 horas', '2 hab. 90 m² Planta 3ª exterior con ascensor', '2 hab. 70 m² Planta 2ª exterior con ascensor 12 horas', '3 hab. 163 m² Planta 8ª exterior con ascensor', '2 hab. 148 m² Planta 4ª exterior con ascensor 12 horas', '2 hab. 85 m² Planta 3ª exterior con ascensor', '3 hab. 130 m² Planta 3ª sin ascensor 12 horas', '2 hab. 90 m² Planta 3ª exterior con ascensor', '3 hab. 98 m² Planta 2ª exterior con ascensor 13 horas', '8 hab. 1.200 m²', '1 hab. 95 m² Planta 5ª exterior con ascensor 13 horas', '2 hab. 98 m² Planta 1ª exterior con ascensor', '3 hab. 180 m² Planta 3ª exterior con ascensor 14 horas', '2 hab. 46 m² Planta 5ª interior con ascensor', '1 hab. 40 m² Planta 3ª exterior con ascensor 14 horas', '4 hab. 79 m² Planta 3ª exterior con ascensor', '3 hab. 241 m² Planta 3ª exterior con ascensor 14 horas', '1 hab. 82 m² Planta 6ª exterior con ascensor', '3 hab. 125 m² Planta 7ª exterior con ascensor 14 horas', '2 hab. 134 m² Planta 4ª exterior con ascensor', '1 hab. 56 m² Planta 4ª exterior con ascensor 14 horas', '2 hab. 105 m² Planta 3ª exterior con ascensor', '2 hab. 82 m² Planta 2ª exterior con ascensor 14 horas', '1 hab. 79 m² Semi-sótano exterior sin ascensor', '2 hab. 52 m² Planta 3ª exterior con ascensor 14 horas', '3 hab. 153 m² Planta 2ª exterior con ascensor', '1 hab. 45 m² Planta 6ª interior con ascensor 14 horas', '4 hab. 224 m² Planta 2ª exterior con ascensor', '3 hab. 81 m² Planta 3ª exterior sin ascensor 15 horas', '38 m² Planta 3ª interior con ascensor']\n"
     ]
    }
   ],
   "source": [
    "html = driver.page_source\n",
    "\n",
    "# Crear el objeto BeautifulSoup con el HTML obtenido\n",
    "soup = BeautifulSoup(html, \"html.parser\")\n",
    "\n",
    "# Buscar todos los elementos con la clase 'list-item-location'\n",
    "detalles = driver.find_elements(By.CLASS_NAME, 'item-detail-char')\n",
    "\n",
    "# Crear una lista para almacenar las ubicaciones\n",
    "details_list = []\n",
    "\n",
    "# Recorrer los elementos encontrados y agregarlos a la lista\n",
    "for detail in detalles:\n",
    "    detail_text = detail.text\n",
    "    details_list.append(detail_text)\n",
    "\n",
    "# Imprimir la lista de ubicaciones\n",
    "print(details_list)"
   ]
  },
  {
   "cell_type": "code",
   "execution_count": 8,
   "metadata": {},
   "outputs": [],
   "source": [
    "data = {\n",
    "    'Ubicación': location_list,\n",
    "    'Precio':price_list,\n",
    "    'Detalles':details_list\n",
    "}\n",
    "\n",
    "# Crear el DataFrame a partir del diccionario\n",
    "df = pd.DataFrame(data)"
   ]
  },
  {
   "cell_type": "code",
   "execution_count": 9,
   "metadata": {},
   "outputs": [],
   "source": [
    "\n",
    "output_filename = 'idealista_10.csv'\n",
    "df.to_csv(output_filename, index=False)\n",
    "\n"
   ]
  }
 ],
 "metadata": {
  "kernelspec": {
   "display_name": "base",
   "language": "python",
   "name": "python3"
  },
  "language_info": {
   "codemirror_mode": {
    "name": "ipython",
    "version": 3
   },
   "file_extension": ".py",
   "mimetype": "text/x-python",
   "name": "python",
   "nbconvert_exporter": "python",
   "pygments_lexer": "ipython3",
   "version": "3.11.4"
  },
  "orig_nbformat": 4
 },
 "nbformat": 4,
 "nbformat_minor": 2
}
