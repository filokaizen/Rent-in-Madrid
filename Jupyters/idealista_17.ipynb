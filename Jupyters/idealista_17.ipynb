{
 "cells": [
  {
   "cell_type": "code",
   "execution_count": 10,
   "metadata": {},
   "outputs": [],
   "source": [
    "import pandas as pd\n",
    "from bs4 import BeautifulSoup\n",
    "from selenium.webdriver.common.keys import Keys\n",
    "from selenium import webdriver\n",
    "from selenium.webdriver.common.action_chains import ActionChains\n",
    "from webdriver_manager.chrome import ChromeDriverManager\n",
    "from selenium.webdriver.common.by import By\n",
    "import requests \n",
    "import time\n",
    "import warnings\n",
    "warnings.filterwarnings('ignore')\n",
    "\n"
   ]
  },
  {
   "cell_type": "code",
   "execution_count": 11,
   "metadata": {},
   "outputs": [],
   "source": [
    "driver = r\"C:\\Users\\filokaizen\\OneDrive-Tajamar\\Desktop\\ii\\4.3-lab_web_scraping_selenium\\chromedriver.exe\" #remember substitute this for your driver path\n",
    "driver = webdriver.Chrome()"
   ]
  },
  {
   "cell_type": "code",
   "execution_count": 12,
   "metadata": {},
   "outputs": [],
   "source": [
    "# This is the url you will scrape in this exercise\n",
    "url = \"https://www.idealista.com/alquiler-viviendas/madrid-madrid/pagina-17.htm\"\n",
    "driver.get(url)"
   ]
  },
  {
   "cell_type": "code",
   "execution_count": 13,
   "metadata": {},
   "outputs": [],
   "source": [
    "try:\n",
    "    driver.find_element(By.XPATH , '//*[@id=\"didomi-notice-agree-button\"]').click()\n",
    "\n",
    "except:\n",
    "    pass\n",
    "\n",
    "\n"
   ]
  },
  {
   "cell_type": "code",
   "execution_count": 14,
   "metadata": {},
   "outputs": [
    {
     "name": "stdout",
     "output_type": "stream",
     "text": [
      "['Piso en Almagro  Madrid', 'Piso en Paseo De La Castellana  201  Ventilla-Almenara  Madrid', 'Piso en Lavapiés-Embajadores  Madrid', 'Piso en paseo Castellana  203  Ventilla-Almenara  Madrid', 'Piso en calle del General Margallo  24  Cuzco-Castillejos  Madrid', 'Piso en calle del Gasómetro  Acacias  Madrid', 'Piso en calle de Camarena  112  Aluche  Madrid', 'Piso en calle de Astorga  Ventas  Madrid', 'Piso en paseo de La Habana  46  El Viso  Madrid', 'Piso en alameda de osuna  50  Alameda de Osuna  Madrid', 'Piso en paseo de La Habana  Bernabéu-Hispanoamérica  Madrid', 'Piso en calle del Conde de Aranda  Recoletos  Madrid', 'Piso en calle de la Costa Brava  47  Mirasierra  Madrid', 'Piso en El Santo de la Isidra  10  Los Ángeles  Madrid', 'Piso en calle de Federico Grases  Puerta Bonita  Madrid', 'Piso en Canillas  Madrid', 'Piso en calle San Severo  s/n  Alameda de Osuna  Madrid', 'Piso en calle la Granja de San Ildefonso  28  Ensanche de Vallecas - La Gavia  Madrid', 'Piso en Bernabéu-Hispanoamérica  Madrid', 'Piso en calle de Maldonado  Lista  Madrid', 'Piso en calle Martín Muñoz de las Posadas  7  Ensanche de Vallecas - La Gavia  Madrid', 'Piso en calle la Canción del Olvido  62  Los Ángeles  Madrid', 'Ático en calle Víctor Hugo  5  Chueca-Justicia  Madrid', 'Piso en calle de Caramuel  Puerta del Ángel  Madrid', 'Piso en calle de Orense  12  Cuatro Caminos  Madrid', 'Piso en calle del Lucero del Alba  1  Los Ángeles  Madrid', 'Piso en calle de José María de Pereda  Ventas  Madrid', 'Piso en calle Arte Pop  8  Ensanche de Vallecas - La Gavia  Madrid', 'Piso en calle de Rafael Herrera  11  Castilla  Madrid', 'Piso en calle de Caramuel  Puerta del Ángel  Madrid']\n"
     ]
    }
   ],
   "source": [
    "# Obtener el HTML de la página después de ser renderizada\n",
    "html = driver.page_source\n",
    "\n",
    "# Crear el objeto BeautifulSoup con el HTML obtenido\n",
    "soup = BeautifulSoup(html, \"html.parser\")\n",
    "\n",
    "# Buscar todos los elementos con la clase 'list-item-location'\n",
    "locations = driver.find_elements(By.CLASS_NAME, 'item-link')\n",
    "\n",
    "# Crear una lista para almacenar las ubicaciones\n",
    "location_list = []\n",
    "\n",
    "# Recorrer los elementos encontrados y agregarlos a la lista\n",
    "for location in locations:\n",
    "    location_text = location.text.replace(\",\", \" \") \n",
    "    location_list.append(location_text)\n",
    "\n",
    "# Imprimir la lista de ubicaciones\n",
    "print(location_list)"
   ]
  },
  {
   "cell_type": "code",
   "execution_count": 15,
   "metadata": {},
   "outputs": [
    {
     "name": "stdout",
     "output_type": "stream",
     "text": [
      "['2.700€/mes', '1.900€/mes', '1.450€/mes', '1.900€/mes', '1.200€/mes', '1.900€/mes\\nGaraje incluido', '950€/mes', '1.400€/mes', '1.900€/mes', '1.700€/mes\\nGaraje incluido', '2.600€/mes', '1.900€/mes', '2.800€/mes\\nGaraje incluido', '800€/mes\\nGaraje incluido', '750€/mes', '4.500€/mes\\nGaraje incluido', '2.000€/mes\\nGaraje incluido', '1.000€/mes\\nGaraje incluido', '2.200€/mes', '3.450€/mes\\nGaraje incluido', '1.095€/mes\\nGaraje incluido', '932€/mes\\nGaraje incluido', '2.500€/mes', '1.650€/mes', '1.100€/mes', '940€/mes\\nGaraje incluido', '790€/mes', '820€/mes\\nGaraje incluido', '1.300€/mes', '1.650€/mes']\n"
     ]
    }
   ],
   "source": [
    "# Obtener el HTML de la página después de ser renderizada\n",
    "html = driver.page_source\n",
    "\n",
    "# Crear el objeto BeautifulSoup con el HTML obtenido\n",
    "soup = BeautifulSoup(html, \"html.parser\")\n",
    "\n",
    "# Buscar todos los elementos con la clase 'list-item-location'\n",
    "prices = driver.find_elements(By.CLASS_NAME, 'price-row')\n",
    "\n",
    "# Crear una lista para almacenar las ubicaciones\n",
    "price_list = []\n",
    "\n",
    "# Recorrer los elementos encontrados y agregarlos a la lista\n",
    "for price in prices:\n",
    "    price_text = price.text\n",
    "    price_list.append(price_text)\n",
    "\n",
    "# Imprimir la lista de ubicaciones\n",
    "print(price_list)"
   ]
  },
  {
   "cell_type": "code",
   "execution_count": 16,
   "metadata": {},
   "outputs": [
    {
     "name": "stdout",
     "output_type": "stream",
     "text": [
      "['3 hab. 141 m² Bajo interior con ascensor 20 horas', '2 hab. 90 m² Planta 5ª exterior con ascensor', '2 hab. 70 m² Planta 4ª exterior con ascensor 20 horas', '2 hab. 90 m² Planta 5ª exterior con ascensor', '2 hab. 70 m² Planta 1ª interior con ascensor 20 horas', '3 hab. 110 m² Bajo exterior sin ascensor 23 horas', '4 hab. 70 m² Bajo exterior sin ascensor 20 horas', '3 hab. 75 m² Bajo exterior con ascensor', '3 hab. 113 m² Planta 4ª exterior con ascensor 21 horas', '3 hab. 156 m² Planta 3ª exterior con ascensor', '4 hab. 165 m² Planta 5ª exterior con ascensor 21 horas', '1 hab. 43 m² Planta 6ª interior con ascensor', '4 hab. 187 m² Planta 6ª exterior con ascensor 21 horas', '1 hab. 66 m² Planta 4ª exterior con ascensor', '3 hab. 63 m² Planta 1ª exterior sin ascensor 21 horas', '4 hab. 323 m² Planta 7ª exterior con ascensor', '3 hab. 186 m² Planta 2ª exterior con ascensor 21 horas', '2 hab. 73 m² Planta 2ª exterior con ascensor', '3 hab. 102 m² Planta 1ª exterior con ascensor 21 horas', '4 hab. 200 m² Planta 2ª exterior con ascensor', '3 hab. 105 m² Planta 6ª con ascensor 21 horas', '2 hab. 74 m² Planta 1ª exterior con ascensor', '3 hab. 148 m² Planta 6ª exterior con ascensor 21 horas', '2 hab. 67 m² Planta 1ª exterior sin ascensor', '1 hab. 60 m² Planta 6ª exterior con ascensor 21 horas', '2 hab. 74 m² Planta 4ª exterior con ascensor', '2 hab. 69 m² Planta 1ª exterior con ascensor 21 horas', '1 hab. 48 m² Planta 7ª exterior con ascensor', '1 hab. 55 m² Planta 5ª exterior con ascensor 21 horas', '2 hab. 86 m² Planta 1ª exterior sin ascensor']\n"
     ]
    }
   ],
   "source": [
    "html = driver.page_source\n",
    "\n",
    "# Crear el objeto BeautifulSoup con el HTML obtenido\n",
    "soup = BeautifulSoup(html, \"html.parser\")\n",
    "\n",
    "# Buscar todos los elementos con la clase 'list-item-location'\n",
    "detalles = driver.find_elements(By.CLASS_NAME, 'item-detail-char')\n",
    "\n",
    "# Crear una lista para almacenar las ubicaciones\n",
    "details_list = []\n",
    "\n",
    "# Recorrer los elementos encontrados y agregarlos a la lista\n",
    "for detail in detalles:\n",
    "    detail_text = detail.text\n",
    "    details_list.append(detail_text)\n",
    "\n",
    "# Imprimir la lista de ubicaciones\n",
    "print(details_list)"
   ]
  },
  {
   "cell_type": "code",
   "execution_count": 17,
   "metadata": {},
   "outputs": [],
   "source": [
    "data = {\n",
    "    'Ubicación': location_list,\n",
    "    'Precio':price_list,\n",
    "    'Detalles':details_list\n",
    "}\n",
    "\n",
    "# Crear el DataFrame a partir del diccionario\n",
    "df = pd.DataFrame(data)"
   ]
  },
  {
   "cell_type": "code",
   "execution_count": 18,
   "metadata": {},
   "outputs": [],
   "source": [
    "\n",
    "output_filename = 'idealista_17.csv'\n",
    "df.to_csv(output_filename, index=False)\n",
    "\n"
   ]
  }
 ],
 "metadata": {
  "kernelspec": {
   "display_name": "base",
   "language": "python",
   "name": "python3"
  },
  "language_info": {
   "codemirror_mode": {
    "name": "ipython",
    "version": 3
   },
   "file_extension": ".py",
   "mimetype": "text/x-python",
   "name": "python",
   "nbconvert_exporter": "python",
   "pygments_lexer": "ipython3",
   "version": "3.11.4"
  },
  "orig_nbformat": 4
 },
 "nbformat": 4,
 "nbformat_minor": 2
}
