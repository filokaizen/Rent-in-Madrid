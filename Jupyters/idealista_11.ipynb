{
 "cells": [
  {
   "cell_type": "code",
   "execution_count": 1,
   "metadata": {},
   "outputs": [],
   "source": [
    "import pandas as pd\n",
    "from bs4 import BeautifulSoup\n",
    "from selenium.webdriver.common.keys import Keys\n",
    "from selenium import webdriver\n",
    "from selenium.webdriver.common.action_chains import ActionChains\n",
    "from webdriver_manager.chrome import ChromeDriverManager\n",
    "from selenium.webdriver.common.by import By\n",
    "import requests \n",
    "import time\n",
    "import warnings\n",
    "warnings.filterwarnings('ignore')\n",
    "\n"
   ]
  },
  {
   "cell_type": "code",
   "execution_count": 2,
   "metadata": {},
   "outputs": [],
   "source": [
    "driver = r\"C:\\Users\\filokaizen\\OneDrive-Tajamar\\Desktop\\ii\\4.3-lab_web_scraping_selenium\\chromedriver.exe\" #remember substitute this for your driver path\n",
    "driver = webdriver.Chrome()"
   ]
  },
  {
   "cell_type": "code",
   "execution_count": 3,
   "metadata": {},
   "outputs": [],
   "source": [
    "# This is the url you will scrape in this exercise\n",
    "url = \"https://www.idealista.com/alquiler-viviendas/madrid-madrid/pagina-11.htm\"\n",
    "driver.get(url)"
   ]
  },
  {
   "cell_type": "code",
   "execution_count": 4,
   "metadata": {},
   "outputs": [],
   "source": [
    "try:\n",
    "    driver.find_element(By.XPATH , '//*[@id=\"didomi-notice-agree-button\"]').click()\n",
    "\n",
    "except:\n",
    "    pass\n",
    "\n",
    "\n"
   ]
  },
  {
   "cell_type": "code",
   "execution_count": 5,
   "metadata": {},
   "outputs": [
    {
     "name": "stdout",
     "output_type": "stream",
     "text": [
      "['Piso en calle Cabo Nicolás Mur  San Isidro  Madrid', 'Ático en calle de Arganzuela  Lavapiés-Embajadores  Madrid', 'Piso en calle del Doctor Cortezo  Lavapiés-Embajadores  Madrid', 'Ático en plaza del Ángel  Huertas-Cortes  Madrid', 'Piso en calle de la Infanta Mercedes  Cuatro Caminos  Madrid', 'Piso en calle de Calatrava  Palacio  Madrid', 'Piso en calle de Fray José Cerdeiriña  Águilas  Madrid', 'Piso en calle de Calatrava  Palacio  Madrid', 'Piso en calle villamanin  Lucero  Madrid', 'Estudio en calle de Arganzuela  Lavapiés-Embajadores  Madrid', 'Piso en calle del Apóstol Santiago  68  Ventas  Madrid', 'Piso en calle de Arganzuela  Lavapiés-Embajadores  Madrid', 'Piso en Poeta Joan Maragall  Cuzco-Castillejos  Madrid', 'Piso en calle del Carmen  Sol  Madrid', 'Piso en Nuñez de Balboa  56  Recoletos  Madrid', 'Piso en calle de Alejandro Saint Aubin  Chopera  Madrid', 'Dúplex en Mirasierra  Madrid', 'Piso en Guindalera  Madrid', 'Piso en calle de la Oca  Vista Alegre  Madrid', 'Piso en calle de Barrilero  Adelfas  Madrid', 'Dúplex en paseo de la Direccion  Berruguete  Madrid', 'Piso en Palacio  Madrid', 'Piso en calle de Wad-Ras  Bellas Vistas  Madrid', 'Piso en calle de Tortosa  Palos de Moguer  Madrid', 'Piso en calle del Barco  9  Malasaña-Universidad  Madrid', 'Piso en Almagro  Madrid', 'Piso en Segovia  Palacio  Madrid', 'Ático en Ciudad Jardín  Madrid', 'Piso en calle de Sánchez Barcáiztegui  Pacífico  Madrid', 'Piso en calle de la Sierra de los Filabres  37  Numancia  Madrid']\n"
     ]
    }
   ],
   "source": [
    "# Obtener el HTML de la página después de ser renderizada\n",
    "html = driver.page_source\n",
    "\n",
    "# Crear el objeto BeautifulSoup con el HTML obtenido\n",
    "soup = BeautifulSoup(html, \"html.parser\")\n",
    "\n",
    "# Buscar todos los elementos con la clase 'list-item-location'\n",
    "locations = driver.find_elements(By.CLASS_NAME, 'item-link')\n",
    "\n",
    "# Crear una lista para almacenar las ubicaciones\n",
    "location_list = []\n",
    "\n",
    "# Recorrer los elementos encontrados y agregarlos a la lista\n",
    "for location in locations:\n",
    "    location_text = location.text.replace(\",\", \" \") \n",
    "    location_list.append(location_text)\n",
    "\n",
    "# Imprimir la lista de ubicaciones\n",
    "print(location_list)"
   ]
  },
  {
   "cell_type": "code",
   "execution_count": 6,
   "metadata": {},
   "outputs": [
    {
     "name": "stdout",
     "output_type": "stream",
     "text": [
      "['895€/mes', '3.100€/mes', '2.200€/mes', '2.000€/mes', '1.495€/mes\\nGaraje incluido', '1.875€/mes', '700€/mes', '1.500€/mes\\n1.620 € 7%', '1.100€/mes', '1.400€/mes\\n1.535 € 9%', '890€/mes', '1.550€/mes\\n1.750 € 11%', '2.700€/mes\\nGaraje incluido', '2.700€/mes\\n2.950 € 8%', '2.700€/mes', '1.900€/mes', '2.800€/mes\\nGaraje incluido', '1.800€/mes', '945€/mes', '1.400€/mes\\nGaraje incluido', '1.600€/mes\\nGaraje opc. 90 €/mes', '2.750€/mes\\n2.900 € 5%', '780€/mes', '1.800€/mes\\n1.900 € 5%', '1.050€/mes', '1.900€/mes\\n2.100 € 10%', '970€/mes', '4.700€/mes\\nGaraje incluido', '2.000€/mes\\nGaraje incluido', '620€/mes']\n"
     ]
    }
   ],
   "source": [
    "# Obtener el HTML de la página después de ser renderizada\n",
    "html = driver.page_source\n",
    "\n",
    "# Crear el objeto BeautifulSoup con el HTML obtenido\n",
    "soup = BeautifulSoup(html, \"html.parser\")\n",
    "\n",
    "# Buscar todos los elementos con la clase 'list-item-location'\n",
    "prices = driver.find_elements(By.CLASS_NAME, 'price-row')\n",
    "\n",
    "# Crear una lista para almacenar las ubicaciones\n",
    "price_list = []\n",
    "\n",
    "# Recorrer los elementos encontrados y agregarlos a la lista\n",
    "for price in prices:\n",
    "    price_text = price.text\n",
    "    price_list.append(price_text)\n",
    "\n",
    "# Imprimir la lista de ubicaciones\n",
    "print(price_list)"
   ]
  },
  {
   "cell_type": "code",
   "execution_count": 7,
   "metadata": {},
   "outputs": [
    {
     "name": "stdout",
     "output_type": "stream",
     "text": [
      "['3 hab. 75 m² Planta 2ª exterior sin ascensor 15 horas', '2 hab. 158 m² Planta 5ª exterior con ascensor', '4 hab. 145 m² Planta 4ª exterior con ascensor 15 horas', '1 hab. 54 m² Planta 4ª exterior con ascensor', '3 hab. 80 m² Planta 7ª exterior con ascensor 14 horas', '2 hab. 105 m² Planta 3ª exterior con ascensor', '2 hab. 65 m² Planta 5ª exterior sin ascensor 15 horas', '1 hab. 67 m² Planta 3ª exterior con ascensor', '3 hab. 90 m² Planta 11ª exterior con ascensor 14 horas', '67 m² Planta 2ª exterior con ascensor', '1 hab. 58 m² Planta 5ª exterior con ascensor 15 horas', '1 hab. 78 m² Planta 4ª exterior con ascensor', '2 hab. 89 m² Planta 18ª exterior con ascensor 14 horas', '3 hab. 95 m² Planta 4ª exterior con ascensor', '1 hab. 70 m² Planta 2ª exterior con ascensor 15 horas', '2 hab. 53 m² Planta 2ª exterior con ascensor', '3 hab. 281 m² Planta 3ª exterior con ascensor 12 horas', '3 hab. 125 m² Planta 1ª exterior con ascensor', '2 hab. 56 m² Planta 3ª exterior con ascensor 16 horas', '2 hab. 80 m² Planta 2ª exterior con ascensor', '3 hab. 145 m² Planta 4ª exterior con ascensor 16 horas', '3 hab. 135 m² Planta 3ª exterior con ascensor', '2 hab. 42 m² Bajo interior sin ascensor 16 horas', '2 hab. 80 m² Planta 3ª exterior con ascensor', '2 hab. 65 m² Planta 2ª interior con ascensor 16 horas', '1 hab. 97 m² Entreplanta exterior con ascensor', '2 hab. 37 m² Bajo interior sin ascensor 16 horas', '3 hab. 228 m² Planta 7ª exterior con ascensor 22 horas', '4 hab. 106 m² Planta 3ª exterior con ascensor 3 horas', '1 hab. 25 m² Planta 1ª interior sin ascensor']\n"
     ]
    }
   ],
   "source": [
    "html = driver.page_source\n",
    "\n",
    "# Crear el objeto BeautifulSoup con el HTML obtenido\n",
    "soup = BeautifulSoup(html, \"html.parser\")\n",
    "\n",
    "# Buscar todos los elementos con la clase 'list-item-location'\n",
    "detalles = driver.find_elements(By.CLASS_NAME, 'item-detail-char')\n",
    "\n",
    "# Crear una lista para almacenar las ubicaciones\n",
    "details_list = []\n",
    "\n",
    "# Recorrer los elementos encontrados y agregarlos a la lista\n",
    "for detail in detalles:\n",
    "    detail_text = detail.text\n",
    "    details_list.append(detail_text)\n",
    "\n",
    "# Imprimir la lista de ubicaciones\n",
    "print(details_list)"
   ]
  },
  {
   "cell_type": "code",
   "execution_count": 8,
   "metadata": {},
   "outputs": [],
   "source": [
    "data = {\n",
    "    'Ubicación': location_list,\n",
    "    'Precio':price_list,\n",
    "    'Detalles':details_list\n",
    "}\n",
    "\n",
    "# Crear el DataFrame a partir del diccionario\n",
    "df = pd.DataFrame(data)"
   ]
  },
  {
   "cell_type": "code",
   "execution_count": 9,
   "metadata": {},
   "outputs": [],
   "source": [
    "\n",
    "output_filename = 'idealista_11.csv'\n",
    "df.to_csv(output_filename, index=False)\n",
    "\n"
   ]
  }
 ],
 "metadata": {
  "kernelspec": {
   "display_name": "base",
   "language": "python",
   "name": "python3"
  },
  "language_info": {
   "codemirror_mode": {
    "name": "ipython",
    "version": 3
   },
   "file_extension": ".py",
   "mimetype": "text/x-python",
   "name": "python",
   "nbconvert_exporter": "python",
   "pygments_lexer": "ipython3",
   "version": "3.11.4"
  },
  "orig_nbformat": 4
 },
 "nbformat": 4,
 "nbformat_minor": 2
}
