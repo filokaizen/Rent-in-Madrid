{
 "cells": [
  {
   "cell_type": "code",
   "execution_count": 1,
   "metadata": {},
   "outputs": [],
   "source": [
    "import pandas as pd\n",
    "from selenium import webdriver\n",
    "from webdriver_manager.chrome import ChromeDriverManager\n",
    "from selenium.webdriver.common.by import By\n",
    "import requests as req\n",
    "from bs4 import BeautifulSoup\n",
    "\n"
   ]
  },
  {
   "cell_type": "code",
   "execution_count": 2,
   "metadata": {},
   "outputs": [
    {
     "data": {
      "text/plain": [
       "\" from selenium.webdriver.chrome.options import Options\\nopciones=Options()\\nopciones.add_experimental_option('excludeSwitches', ['enable-automation'])\\nopciones.add_experimental_option('useAutomationExtension', False)\\nopciones.add_argument('user-data-dir=cookies')    # mantiene las coockies\\n\""
      ]
     },
     "execution_count": 2,
     "metadata": {},
     "output_type": "execute_result"
    }
   ],
   "source": [
    "''' from selenium.webdriver.chrome.options import Options\n",
    "opciones=Options()\n",
    "opciones.add_experimental_option('excludeSwitches', ['enable-automation'])\n",
    "opciones.add_experimental_option('useAutomationExtension', False)\n",
    "opciones.add_argument('user-data-dir=cookies')    # mantiene las coockies\n",
    "'''"
   ]
  },
  {
   "cell_type": "code",
   "execution_count": 3,
   "metadata": {},
   "outputs": [],
   "source": [
    "driver = r\"C:\\Users\\filokaizen\\OneDrive-Tajamar\\Desktop\\ii\\4.3-lab_web_scraping_selenium\\chromedriver.exe\" #remember substitute this for your driver path\n",
    "driver = webdriver.Chrome()"
   ]
  },
  {
   "cell_type": "code",
   "execution_count": 4,
   "metadata": {},
   "outputs": [],
   "source": [
    "# This is the url you will scrape in this exercise\n",
    "url = \"https://www.habitaclia.com/alquiler-madrid.htm\"\n",
    "driver.get(url)"
   ]
  },
  {
   "cell_type": "code",
   "execution_count": 5,
   "metadata": {},
   "outputs": [],
   "source": [
    "driver.find_element(By.XPATH , '//*[@id=\"legalCookies\"]/div/div/div/footer/div/button[2]').click()\n",
    "                     \n",
    "                     "
   ]
  },
  {
   "cell_type": "code",
   "execution_count": 26,
   "metadata": {},
   "outputs": [
    {
     "name": "stdout",
     "output_type": "stream",
     "text": [
      "['Madrid - Ensanche de Vallecas-La GaviaVer ', 'Madrid - Pau de CarabanchelVer ', 'Madrid - Almagro', 'Madrid - Almagro', 'Madrid - Ciudad Jardín', 'Madrid - Trafalgar', 'Madrid - Virgen del Cortijo-Manoteras', 'Madrid - ButarqueVer ', 'Madrid - El Cañaveral-Los BerrocalesVer ', 'Madrid - Ríos Rosas-Nuevos Ministerios', 'Madrid - San CristóbalVer ', 'Madrid - Hispanoamérica-Bernabéu', 'Madrid - ButarqueVer ', 'Madrid - ButarqueVer ', 'Madrid - Pau de CarabanchelVer ']\n"
     ]
    }
   ],
   "source": [
    "import requests\n",
    "from bs4 import BeautifulSoup\n",
    "\n",
    "\n",
    "# Realizar la petición GET a la página web\n",
    "url = 'https://www.habitaclia.com/alquiler-madrid.htm'\n",
    "\n",
    "response = requests.get(url)\n",
    "\n",
    "# Crear el objeto BeautifulSoup con el contenido de la página web\n",
    "soup = BeautifulSoup(response.content, 'html.parser')\n",
    "\n",
    "# Buscar todos los elementos con la clase 'list-item-location'\n",
    "locations = soup.find_all(class_='list-item-location')\n",
    "\n",
    "# Crear una lista para almacenar los resultados\n",
    "location_list = []\n",
    "\n",
    "# Recorrer los elementos encontrados y agregarlos a la lista\n",
    "\n",
    "for location in locations:\n",
    "    location_text = location.get_text(strip=True).replace(\"mapa\",\"\")\n",
    "    location_list.append(location_text)\n",
    "\n",
    "# Imprimir la lista de ubicaciones\n",
    "print(location_list)"
   ]
  },
  {
   "cell_type": "code",
   "execution_count": 21,
   "metadata": {},
   "outputs": [],
   "source": [
    "# Buscar todos los elementos con la clase 'list-item-location'\n",
    "espacio = soup.find_all(class_='list-item-feature')\n",
    "\n",
    "# Crear una lista para almacenar los resultados\n",
    "espacios_list = []\n",
    "\n",
    "# Recorrer los elementos encontrados y agregarlos a la lista\n",
    "\n",
    "for espacio in espacio:\n",
    "    espacio_text = espacio.get_text(strip=True).replace(\"\\t\",\"\")\n",
    "    espacios_list.append(espacio_text)\n",
    "    \n",
    "print(espacios_list)"
   ]
  },
  {
   "cell_type": "code",
   "execution_count": 27,
   "metadata": {},
   "outputs": [
    {
     "name": "stdout",
     "output_type": "stream",
     "text": [
      "['1.030 €', '855 €', '2.100 €', '3.500 €', '975 €', '2.600 €', '1.300 €', '1.115 €', '947 €', '1.590 €', '890 €', '1.800 €', '815 €', '955 €', '975 €']\n"
     ]
    }
   ],
   "source": [
    "# Buscar todos los elementos con la clase 'list-item-location'\n",
    "precio = soup.find_all(class_='font-2')\n",
    "\n",
    "# Crear una lista para almacenar los resultados\n",
    "precios_list = []\n",
    "\n",
    "# Recorrer los elementos encontrados y agregarlos a la lista\n",
    "\n",
    "for precio in precio:\n",
    "    precio_text = precio.get_text(strip=True).replace(\"\\t\",\"\")\n",
    "    precios_list.append(precio_text)\n",
    "    \n",
    "print(precios_list)"
   ]
  },
  {
   "cell_type": "code",
   "execution_count": null,
   "metadata": {},
   "outputs": [],
   "source": []
  },
  {
   "cell_type": "code",
   "execution_count": null,
   "metadata": {},
   "outputs": [],
   "source": []
  },
  {
   "cell_type": "code",
   "execution_count": 12,
   "metadata": {},
   "outputs": [],
   "source": [
    "url1 = \"https://www.habitaclia.com/alquiler-madrid-1.htm\"\n",
    "\n"
   ]
  },
  {
   "cell_type": "code",
   "execution_count": 13,
   "metadata": {},
   "outputs": [],
   "source": [
    "response = requests.get(url1)\n",
    "\n",
    "# Crear el objeto BeautifulSoup con el contenido de la página web\n",
    "soup = BeautifulSoup(response.content, 'html.parser')\n",
    "\n",
    "# Buscar todos los elementos con la clase 'list-item-location'\n",
    "locations = soup.find_all(class_='list-item-location')\n",
    "\n",
    "# Crear una lista para almacenar los resultados\n",
    "location_list = []\n",
    "\n",
    "# Recorrer los elementos encontrados y agregarlos a la lista\n",
    "\n",
    "for location in locations:\n",
    "    location_text = location.get_text(strip=True)\n",
    "    location_list.append(location_text)\n"
   ]
  },
  {
   "cell_type": "code",
   "execution_count": 14,
   "metadata": {},
   "outputs": [
    {
     "name": "stdout",
     "output_type": "stream",
     "text": [
      "['Madrid - Pau de CarabanchelVer mapa', 'Madrid - Virgen del Cortijo-Manoteras', 'Madrid - Almagro', 'Madrid - Ensanche de Vallecas-La GaviaVer mapa', 'Madrid - SanchinarroVer mapa', 'Madrid - SanchinarroVer mapa', 'Madrid - Ensanche de Vallecas-La GaviaVer mapa', 'Madrid - Pau de CarabanchelVer mapa', 'Madrid - SanchinarroVer mapa', 'Madrid - Almendrales', 'Madrid - Palacio', 'Madrid - Fuente del Berro', 'Madrid - Recoletos', 'Madrid - Tres Olivos-Valverde', 'Madrid - Valdemarín']\n"
     ]
    }
   ],
   "source": [
    "print(location_list)"
   ]
  }
 ],
 "metadata": {
  "kernelspec": {
   "display_name": "base",
   "language": "python",
   "name": "python3"
  },
  "language_info": {
   "codemirror_mode": {
    "name": "ipython",
    "version": 3
   },
   "file_extension": ".py",
   "mimetype": "text/x-python",
   "name": "python",
   "nbconvert_exporter": "python",
   "pygments_lexer": "ipython3",
   "version": "3.11.4"
  },
  "orig_nbformat": 4
 },
 "nbformat": 4,
 "nbformat_minor": 2
}
