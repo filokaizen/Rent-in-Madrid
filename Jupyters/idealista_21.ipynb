{
 "cells": [
  {
   "cell_type": "code",
   "execution_count": 1,
   "metadata": {},
   "outputs": [],
   "source": [
    "import pandas as pd\n",
    "from bs4 import BeautifulSoup\n",
    "from selenium.webdriver.common.keys import Keys\n",
    "from selenium import webdriver\n",
    "from selenium.webdriver.common.action_chains import ActionChains\n",
    "from webdriver_manager.chrome import ChromeDriverManager\n",
    "from selenium.webdriver.common.by import By\n",
    "import requests \n",
    "import time\n",
    "import warnings\n",
    "warnings.filterwarnings('ignore')\n",
    "\n"
   ]
  },
  {
   "cell_type": "code",
   "execution_count": 2,
   "metadata": {},
   "outputs": [],
   "source": [
    "driver = r\"C:\\Users\\filokaizen\\OneDrive-Tajamar\\Desktop\\ii\\4.3-lab_web_scraping_selenium\\chromedriver.exe\" #remember substitute this for your driver path\n",
    "driver = webdriver.Chrome()"
   ]
  },
  {
   "cell_type": "code",
   "execution_count": 3,
   "metadata": {},
   "outputs": [],
   "source": [
    "# This is the url you will scrape in this exercise\n",
    "url = \"https://www.idealista.com/alquiler-viviendas/madrid-madrid/pagina-21.htm\"\n",
    "driver.get(url)"
   ]
  },
  {
   "cell_type": "code",
   "execution_count": 4,
   "metadata": {},
   "outputs": [],
   "source": [
    "try:\n",
    "    driver.find_element(By.XPATH , '//*[@id=\"didomi-notice-agree-button\"]').click()\n",
    "\n",
    "except:\n",
    "    pass\n",
    "\n",
    "\n"
   ]
  },
  {
   "cell_type": "code",
   "execution_count": 5,
   "metadata": {},
   "outputs": [
    {
     "name": "stdout",
     "output_type": "stream",
     "text": [
      "['Piso en Niño Jesús  Madrid', 'Ático en calle Arroyo del Cañaveral  66  El Cañaveral  Madrid', 'Piso en calle del Porvenir  Fuente del Berro  Madrid', 'Piso en calle de Lagasca  99  Castellana  Madrid', 'Piso en calle del Limón  Malasaña-Universidad  Madrid', 'Ático en calle de Núñez de Balboa  Castellana  Madrid', 'Piso en calle de Alucas  4  Pueblo Nuevo  Madrid', 'Piso en calle de las Viñas del Rio  16  Butarque  Madrid', 'Piso en calle drácena  Nueva España  Madrid', 'Piso en calle de las Viñas del Rio  16  Butarque  Madrid', 'Piso en calle del Conde de Peñalver  83  Lista  Madrid', 'Piso en calle de las Viñas del Rio  16  Butarque  Madrid', 'Ático en Trafalgar  Madrid', 'Dúplex en calle de la Buganvilla  4  Castilla  Madrid', 'Ático en calle de Palafox  Trafalgar  Madrid', 'Piso en calle de los Cabestreros  Lavapiés-Embajadores  Madrid', 'Piso en calle de Don Ramón de la Cruz  Castellana  Madrid', 'Piso en Fuente del Berro  Madrid', 'Piso en calle de Diego de León  Lista  Madrid', 'Piso en Bernabéu-Hispanoamérica  Madrid', 'Piso en calle de Benito Gutiérrez  35  Argüelles  Madrid', 'Piso en Vallehermoso  Madrid', 'Piso en Montecarmelo  Madrid', 'Piso en Sol  Madrid', 'Piso en Ibiza  Madrid', 'Piso en Palacio  Madrid', 'Piso en calle de los Relatores  10  Lavapiés-Embajadores  Madrid', 'Piso en calle de la Montera  Sol  Madrid', 'Piso en Chueca-Justicia  Madrid', 'Piso en calle de Arturo Soria  Costillares  Madrid']\n"
     ]
    }
   ],
   "source": [
    "# Obtener el HTML de la página después de ser renderizada\n",
    "html = driver.page_source\n",
    "\n",
    "# Crear el objeto BeautifulSoup con el HTML obtenido\n",
    "soup = BeautifulSoup(html, \"html.parser\")\n",
    "\n",
    "# Buscar todos los elementos con la clase 'list-item-location'\n",
    "locations = driver.find_elements(By.CLASS_NAME, 'item-link')\n",
    "\n",
    "# Crear una lista para almacenar las ubicaciones\n",
    "location_list = []\n",
    "\n",
    "# Recorrer los elementos encontrados y agregarlos a la lista\n",
    "for location in locations:\n",
    "    location_text = location.text.replace(\",\", \" \") \n",
    "    location_list.append(location_text)\n",
    "\n",
    "# Imprimir la lista de ubicaciones\n",
    "print(location_list)"
   ]
  },
  {
   "cell_type": "code",
   "execution_count": 6,
   "metadata": {},
   "outputs": [
    {
     "name": "stdout",
     "output_type": "stream",
     "text": [
      "['3.700€/mes\\nGaraje incluido', '1.595€/mes\\nGaraje incluido', '1.200€/mes', '14.000€/mes\\nGaraje incluido', '1.500€/mes', '6.950€/mes\\nGaraje incluido', '850€/mes', '995€/mes\\nGaraje incluido', '1.500€/mes', '1.150€/mes\\nGaraje incluido', '2.200€/mes', '825€/mes\\nGaraje incluido', '2.100€/mes', '3.100€/mes\\nGaraje incluido', '3.900€/mes', '1.500€/mes', '5.500€/mes', '3.300€/mes\\nGaraje opc. 120 €/mes', '2.700€/mes', '1.900€/mes', '2.200€/mes', '2.000€/mes\\nGaraje incluido', '1.400€/mes\\nGaraje incluido', '2.500€/mes', '2.500€/mes', '2.700€/mes\\n3.000 € 10%', '2.500€/mes', '1.600€/mes\\n1.700 € 6%', '2.000€/mes', '2.000€/mes']\n"
     ]
    }
   ],
   "source": [
    "# Obtener el HTML de la página después de ser renderizada\n",
    "html = driver.page_source\n",
    "\n",
    "# Crear el objeto BeautifulSoup con el HTML obtenido\n",
    "soup = BeautifulSoup(html, \"html.parser\")\n",
    "\n",
    "# Buscar todos los elementos con la clase 'list-item-location'\n",
    "prices = driver.find_elements(By.CLASS_NAME, 'price-row')\n",
    "\n",
    "# Crear una lista para almacenar las ubicaciones\n",
    "price_list = []\n",
    "\n",
    "# Recorrer los elementos encontrados y agregarlos a la lista\n",
    "for price in prices:\n",
    "    price_text = price.text\n",
    "    price_list.append(price_text)\n",
    "\n",
    "# Imprimir la lista de ubicaciones\n",
    "print(price_list)"
   ]
  },
  {
   "cell_type": "code",
   "execution_count": 7,
   "metadata": {},
   "outputs": [
    {
     "name": "stdout",
     "output_type": "stream",
     "text": [
      "['4 hab. 214 m² Planta 6ª exterior con ascensor 23 horas', '1 hab. 64 m² Planta 7ª exterior con ascensor', '2 hab. 67 m² Planta 2ª exterior sin ascensor', '4 hab. 355 m² Planta 6ª exterior con ascensor', '3 hab. 80 m² Planta 4ª exterior sin ascensor', '5 hab. 268 m² Planta 6ª exterior con ascensor', '2 hab. 55 m² Planta 3ª exterior con ascensor', '2 hab. 83 m² Planta 1ª exterior con ascensor', '2 hab. 80 m² Planta 1ª exterior con ascensor', '3 hab. 93 m² Planta 1ª exterior con ascensor', '2 hab. 65 m² Planta 4ª interior con ascensor', '1 hab. 50 m² Planta 1ª exterior con ascensor', '1 hab. 83 m² Planta 6ª exterior con ascensor', '4 hab. 318 m² Planta 4ª exterior con ascensor', '2 hab. 89 m² Planta 5ª exterior sin ascensor', '2 hab. 50 m² Planta 3ª interior con ascensor', '4 hab. 230 m² Planta 1ª exterior con ascensor', '4 hab. 165 m² exterior con ascensor', '4 hab. 146 m² Planta 4ª exterior con ascensor', '2 hab. 70 m² Planta 2ª exterior sin ascensor', '3 hab. 105 m² Planta 1ª exterior con ascensor', '2 hab. 93 m² Planta 6ª exterior con ascensor', '2 hab. 103 m² Planta 2ª exterior con ascensor', '2 hab. 140 m² Planta 2ª exterior con ascensor', '3 hab. 120 m² Planta 7ª interior con ascensor', '1 hab. 110 m² exterior sin ascensor', '2 hab. 109 m² Bajo exterior con ascensor', '1 hab. 55 m² exterior con ascensor', '1 hab. 72 m² Planta 3ª exterior con ascensor', '4 hab. 158 m² exterior con ascensor']\n"
     ]
    }
   ],
   "source": [
    "html = driver.page_source\n",
    "\n",
    "# Crear el objeto BeautifulSoup con el HTML obtenido\n",
    "soup = BeautifulSoup(html, \"html.parser\")\n",
    "\n",
    "# Buscar todos los elementos con la clase 'list-item-location'\n",
    "detalles = driver.find_elements(By.CLASS_NAME, 'item-detail-char')\n",
    "\n",
    "# Crear una lista para almacenar las ubicaciones\n",
    "details_list = []\n",
    "\n",
    "# Recorrer los elementos encontrados y agregarlos a la lista\n",
    "for detail in detalles:\n",
    "    detail_text = detail.text\n",
    "    details_list.append(detail_text)\n",
    "\n",
    "# Imprimir la lista de ubicaciones\n",
    "print(details_list)"
   ]
  },
  {
   "cell_type": "code",
   "execution_count": 8,
   "metadata": {},
   "outputs": [],
   "source": [
    "data = {\n",
    "    'Ubicación': location_list,\n",
    "    'Precio':price_list,\n",
    "    'Detalles':details_list\n",
    "}\n",
    "\n",
    "# Crear el DataFrame a partir del diccionario\n",
    "df = pd.DataFrame(data)"
   ]
  },
  {
   "cell_type": "code",
   "execution_count": 9,
   "metadata": {},
   "outputs": [],
   "source": [
    "\n",
    "output_filename = 'idealista_21.csv'\n",
    "df.to_csv(output_filename, index=False)\n",
    "\n"
   ]
  }
 ],
 "metadata": {
  "kernelspec": {
   "display_name": "base",
   "language": "python",
   "name": "python3"
  },
  "language_info": {
   "codemirror_mode": {
    "name": "ipython",
    "version": 3
   },
   "file_extension": ".py",
   "mimetype": "text/x-python",
   "name": "python",
   "nbconvert_exporter": "python",
   "pygments_lexer": "ipython3",
   "version": "3.11.4"
  },
  "orig_nbformat": 4
 },
 "nbformat": 4,
 "nbformat_minor": 2
}
