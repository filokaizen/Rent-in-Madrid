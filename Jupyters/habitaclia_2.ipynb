{
 "cells": [
  {
   "cell_type": "code",
   "execution_count": 1,
   "metadata": {},
   "outputs": [],
   "source": [
    "import pandas as pd\n",
    "from bs4 import BeautifulSoup\n",
    "from selenium.webdriver.common.keys import Keys\n",
    "from selenium import webdriver\n",
    "from selenium.webdriver.common.action_chains import ActionChains\n",
    "from webdriver_manager.chrome import ChromeDriverManager\n",
    "from selenium.webdriver.common.by import By\n",
    "import requests \n",
    "import time\n",
    "import warnings\n",
    "warnings.filterwarnings('ignore')\n",
    "\n",
    "\n",
    "\n",
    "\n",
    "\n"
   ]
  },
  {
   "cell_type": "code",
   "execution_count": 2,
   "metadata": {},
   "outputs": [
    {
     "data": {
      "text/plain": [
       "\" from selenium.webdriver.chrome.options import Options\\nopciones=Options()\\nopciones.add_experimental_option('excludeSwitches', ['enable-automation'])\\nopciones.add_experimental_option('useAutomationExtension', False)\\nopciones.add_argument('user-data-dir=cookies')    # mantiene las coockies\\n\""
      ]
     },
     "execution_count": 2,
     "metadata": {},
     "output_type": "execute_result"
    }
   ],
   "source": [
    "''' from selenium.webdriver.chrome.options import Options\n",
    "opciones=Options()\n",
    "opciones.add_experimental_option('excludeSwitches', ['enable-automation'])\n",
    "opciones.add_experimental_option('useAutomationExtension', False)\n",
    "opciones.add_argument('user-data-dir=cookies')    # mantiene las coockies\n",
    "'''"
   ]
  },
  {
   "cell_type": "code",
   "execution_count": 3,
   "metadata": {},
   "outputs": [],
   "source": [
    "driver = r\"C:\\Users\\filokaizen\\OneDrive-Tajamar\\Desktop\\ii\\4.3-lab_web_scraping_selenium\\chromedriver.exe\" #remember substitute this for your driver path\n",
    "driver = webdriver.Chrome()"
   ]
  },
  {
   "cell_type": "code",
   "execution_count": 4,
   "metadata": {},
   "outputs": [],
   "source": [
    "# This is the url you will scrape in this exercise\n",
    "url = \"https://www.habitaclia.com/alquiler-madrid-1.htm\"\n",
    "driver.get(url)"
   ]
  },
  {
   "cell_type": "code",
   "execution_count": 5,
   "metadata": {},
   "outputs": [],
   "source": [
    "\n",
    "driver.find_element(By.XPATH , '//*[@id=\"legalCookies\"]/div/div/div/footer/div/button[2]').click()\n",
    "\n",
    "             \n",
    "                     "
   ]
  },
  {
   "cell_type": "code",
   "execution_count": 6,
   "metadata": {},
   "outputs": [
    {
     "name": "stdout",
     "output_type": "stream",
     "text": [
      "['Madrid - Virgen del Cortijo-Manoteras', 'Madrid - ButarqueVer ', 'Madrid - Almagro', 'Madrid - Almagro', 'Madrid - San CristóbalVer ', 'Madrid - SanchinarroVer ', 'Madrid - Bellas Vistas', 'Madrid - Entrevías', 'Madrid - El Viso', 'Madrid - Arapiles', 'Madrid - Peñagrande', 'Madrid - Goya', 'Madrid - San Pascual', 'Madrid - Chopera', 'Madrid - Goya']\n"
     ]
    }
   ],
   "source": [
    "def ubicacion():\n",
    "\n",
    "\n",
    "    # Obtener el HTML de la página después de ser renderizada\n",
    "    html = driver.page_source\n",
    "\n",
    "    # Crear el objeto BeautifulSoup con el HTML obtenido\n",
    "    soup = BeautifulSoup(html, \"html.parser\")\n",
    "\n",
    "    # Buscar todos los elementos con la clase 'list-item-location'\n",
    "    locations = soup.find_all(class_=\"list-item-location\")\n",
    "\n",
    "    # Crear una lista para almacenar las ubicaciones\n",
    "    location_list = []\n",
    "\n",
    "    # Recorrer los elementos encontrados y agregarlos a la lista\n",
    "    for location in locations:\n",
    "        location_text = location.get_text(strip=True).replace(\"mapa\", \"\")\n",
    "        location_list.append(location_text)\n",
    "\n",
    "    # Imprimir la lista de ubicaciones\n",
    "    print(location_list)\n",
    "    \n",
    "ubicacion()\n"
   ]
  },
  {
   "cell_type": "code",
   "execution_count": 7,
   "metadata": {},
   "outputs": [
    {
     "name": "stdout",
     "output_type": "stream",
     "text": [
      "['1.300 €', '995 €', '3.500 €', '4.500 €', '890 €', '1.315 €', '1.220 €', '900 €', '4.500 €', '1.300 €', '1.800 €', '4.000 €', '1.800 €', '1.700 €', '2.500 €']\n"
     ]
    }
   ],
   "source": [
    "def precio ():\n",
    "\n",
    "    # Obtener el HTML de la página después de ser renderizada\n",
    "    html = driver.page_source\n",
    "    \n",
    "    # Crear el objeto BeautifulSoup con el HTML obtenido\n",
    "    soup = BeautifulSoup(html, \"html.parser\")\n",
    "    \n",
    "    # Buscar todos los elementos con la clase 'list-item-location'\n",
    "    precio = soup.find_all(class_='font-2')\n",
    "\n",
    "    # Crear una lista para almacenar los resultados\n",
    "    precios_list = []\n",
    "\n",
    "    # Recorrer los elementos encontrados y agregarlos a la lista\n",
    "\n",
    "    for precio in precio:\n",
    "        precio_text = precio.get_text(strip=True).replace(\"\\t\",\"\")\n",
    "        precios_list.append(precio_text)\n",
    "        \n",
    "    print(precios_list)\n",
    "    \n",
    "precio()"
   ]
  },
  {
   "cell_type": "code",
   "execution_count": 8,
   "metadata": {},
   "outputs": [
    {
     "name": "stdout",
     "output_type": "stream",
     "text": [
      "['94m2- 1 habitacion - 1 baño - 13,83€/m2', '83m2- 2 habitaciones - 1 baño - 11,99€/m2', '200m2- 3 habitaciones - 2 baños - 17,50€/m2', '175m2- 3 habitaciones - 2 baños - 25,71€/m2', '89m2- 2 habitaciones - 1 baño - 10,00€/m2', '70m2- 2 habitaciones - 1 baño - 18,79€/m2', '95m2- 3 habitaciones - 1 baño - 12,84€/m2', '56m2- 3 habitaciones - 1 baño - 16,07€/m2', '190m2- 2 habitaciones - 3 baños - 23,68€/m2', '75m2- 3 habitaciones - 1 baño - 17,33€/m2', '109m2- 2 habitaciones - 2 baños - 16,51€/m2', '104m2- 2 habitaciones - 2 baños - 38,46€/m2', '60m2- 2 habitaciones - 1 baño - 30,00€/m2', '60m2- 2 habitaciones - 1 baño - 28,33€/m2', '162m2- 3 habitaciones - 3 baños - 15,43€/m2']\n"
     ]
    }
   ],
   "source": [
    "def detalles ():\n",
    "    \n",
    "    # Obtener el HTML de la página después de ser renderizada\n",
    "    html = driver.page_source\n",
    "    \n",
    "    # Crear el objeto BeautifulSoup con el HTML obtenido\n",
    "    soup = BeautifulSoup(html, \"html.parser\")\n",
    "\n",
    "    detalles = soup.find_all(class_=\"list-item-feature\")\n",
    "\n",
    "    # Crear una lista para almacenar las caracteristicas\n",
    "    detalle_list = []\n",
    "\n",
    "    # Recorrer los elementos encontrados y agregarlos a la lista\n",
    "    for detalle in detalles:\n",
    "        detalle_text = detalle.get_text(strip=True).replace(\"\\t\", \"\")\n",
    "        detalle_list.append(detalle_text)\n",
    "\n",
    "    # Imprimir la lista de ubicaciones\n",
    "    print(detalle_list)\n",
    "    \n",
    "detalles()"
   ]
  },
  {
   "cell_type": "code",
   "execution_count": null,
   "metadata": {},
   "outputs": [],
   "source": []
  },
  {
   "cell_type": "code",
   "execution_count": 9,
   "metadata": {},
   "outputs": [
    {
     "data": {
      "text/plain": [
       "'\\n\\n                    Se desplaza hasta el final \\nfrom selenium import webdriver\\nfrom selenium.webdriver.common.keys import Keys\\n\\ndriver.find_element(\"tag name\", \\'body\\').send_keys(Keys.END)\\n\\n'"
      ]
     },
     "execution_count": 9,
     "metadata": {},
     "output_type": "execute_result"
    }
   ],
   "source": [
    "'''\n",
    "\n",
    "                    Se desplaza hasta el final \n",
    "from selenium import webdriver\n",
    "from selenium.webdriver.common.keys import Keys\n",
    "\n",
    "driver.find_element(\"tag name\", 'body').send_keys(Keys.END)\n",
    "\n",
    "'''\n",
    "\n"
   ]
  },
  {
   "cell_type": "code",
   "execution_count": 10,
   "metadata": {},
   "outputs": [],
   "source": [
    "\n",
    "# Localizar el elemento del botón siguiente utilizando su XPATH\n",
    "boton_siguiente = driver.find_element(By.XPATH, '//*[@id=\"js-nav\"]/div[1]/ul/li[7]/a')\n",
    "\n",
    "# Desplazarse al elemento objetivo utilizando JavaScript\n",
    "driver.execute_script(\"arguments[0].scrollIntoView();\", boton_siguiente)\n",
    "\n",
    "# Crear una instancia de ActionChains\n",
    "actions = ActionChains(driver)\n",
    "\n",
    "# Moverse al botón siguiente con una desviación en coordenadas X e Y para bajar despacio\n",
    "actions.move_to_element(boton_siguiente).perform()\n"
   ]
  },
  {
   "cell_type": "code",
   "execution_count": 11,
   "metadata": {},
   "outputs": [],
   "source": [
    "\n",
    "\n",
    "# # Localizar el elemento del botón siguiente utilizando su XPATH\n",
    "# boton_siguiente = driver.find_element(By.XPATH, '//*[@id=\"js-nav\"]/div[1]/ul/li[7]/a')\n",
    "\n",
    "# # Desplazarse hasta el botón siguiente utilizando ActionChains\n",
    "# actions = ActionChains(driver)\n",
    "# actions.move_to_element(boton_siguiente).perform()\n",
    "\n"
   ]
  },
  {
   "cell_type": "code",
   "execution_count": 12,
   "metadata": {},
   "outputs": [
    {
     "ename": "ElementClickInterceptedException",
     "evalue": "Message: element click intercepted: Element <a href=\"https://www.habitaclia.com/alquiler-madrid-239.htm\">...</a> is not clickable at point (781, 32). Other element would receive the click: <a href=\"https://www.habitaclia.com/obra_nueva-madrid.htm\" class=\"\" title=\"Obra Nueva en Madrid\">...</a>\n  (Session info: chrome=116.0.5845.142)\nStacktrace:\n\tGetHandleVerifier [0x00007FF72B5F52A2+57122]\n\t(No symbol) [0x00007FF72B56EA92]\n\t(No symbol) [0x00007FF72B43E3AB]\n\t(No symbol) [0x00007FF72B47D783]\n\t(No symbol) [0x00007FF72B47BD5F]\n\t(No symbol) [0x00007FF72B479DC8]\n\t(No symbol) [0x00007FF72B478FD5]\n\t(No symbol) [0x00007FF72B46F25F]\n\t(No symbol) [0x00007FF72B496FDA]\n\t(No symbol) [0x00007FF72B46EB76]\n\t(No symbol) [0x00007FF72B4971F0]\n\t(No symbol) [0x00007FF72B4AEB82]\n\t(No symbol) [0x00007FF72B496DB3]\n\t(No symbol) [0x00007FF72B46D2B1]\n\t(No symbol) [0x00007FF72B46E494]\n\tGetHandleVerifier [0x00007FF72B89EF82+2849794]\n\tGetHandleVerifier [0x00007FF72B8F1D24+3189156]\n\tGetHandleVerifier [0x00007FF72B8EACAF+3160367]\n\tGetHandleVerifier [0x00007FF72B686D06+653702]\n\t(No symbol) [0x00007FF72B57A208]\n\t(No symbol) [0x00007FF72B5762C4]\n\t(No symbol) [0x00007FF72B5763F6]\n\t(No symbol) [0x00007FF72B5667A3]\n\tBaseThreadInitThunk [0x00007FFB6E3F26AD+29]\n\tRtlUserThreadStart [0x00007FFB6F3EAA68+40]\n",
     "output_type": "error",
     "traceback": [
      "\u001b[1;31m---------------------------------------------------------------------------\u001b[0m",
      "\u001b[1;31mElementClickInterceptedException\u001b[0m          Traceback (most recent call last)",
      "Cell \u001b[1;32mIn[12], line 1\u001b[0m\n\u001b[1;32m----> 1\u001b[0m driver\u001b[39m.\u001b[39;49mfind_element (By\u001b[39m.\u001b[39;49mXPATH, \u001b[39m'\u001b[39;49m\u001b[39m//*[@id=\u001b[39;49m\u001b[39m\"\u001b[39;49m\u001b[39mjs-nav\u001b[39;49m\u001b[39m\"\u001b[39;49m\u001b[39m]/div[1]/ul/li[7]/a \u001b[39;49m\u001b[39m'\u001b[39;49m)\u001b[39m.\u001b[39;49mclick()\n",
      "File \u001b[1;32mc:\\Users\\filokaizen\\anaconda3\\Lib\\site-packages\\selenium\\webdriver\\remote\\webelement.py:94\u001b[0m, in \u001b[0;36mWebElement.click\u001b[1;34m(self)\u001b[0m\n\u001b[0;32m     92\u001b[0m \u001b[39mdef\u001b[39;00m \u001b[39mclick\u001b[39m(\u001b[39mself\u001b[39m) \u001b[39m-\u001b[39m\u001b[39m>\u001b[39m \u001b[39mNone\u001b[39;00m:\n\u001b[0;32m     93\u001b[0m \u001b[39m    \u001b[39m\u001b[39m\"\"\"Clicks the element.\"\"\"\u001b[39;00m\n\u001b[1;32m---> 94\u001b[0m     \u001b[39mself\u001b[39;49m\u001b[39m.\u001b[39;49m_execute(Command\u001b[39m.\u001b[39;49mCLICK_ELEMENT)\n",
      "File \u001b[1;32mc:\\Users\\filokaizen\\anaconda3\\Lib\\site-packages\\selenium\\webdriver\\remote\\webelement.py:395\u001b[0m, in \u001b[0;36mWebElement._execute\u001b[1;34m(self, command, params)\u001b[0m\n\u001b[0;32m    393\u001b[0m     params \u001b[39m=\u001b[39m {}\n\u001b[0;32m    394\u001b[0m params[\u001b[39m\"\u001b[39m\u001b[39mid\u001b[39m\u001b[39m\"\u001b[39m] \u001b[39m=\u001b[39m \u001b[39mself\u001b[39m\u001b[39m.\u001b[39m_id\n\u001b[1;32m--> 395\u001b[0m \u001b[39mreturn\u001b[39;00m \u001b[39mself\u001b[39;49m\u001b[39m.\u001b[39;49m_parent\u001b[39m.\u001b[39;49mexecute(command, params)\n",
      "File \u001b[1;32mc:\\Users\\filokaizen\\anaconda3\\Lib\\site-packages\\selenium\\webdriver\\remote\\webdriver.py:345\u001b[0m, in \u001b[0;36mWebDriver.execute\u001b[1;34m(self, driver_command, params)\u001b[0m\n\u001b[0;32m    343\u001b[0m response \u001b[39m=\u001b[39m \u001b[39mself\u001b[39m\u001b[39m.\u001b[39mcommand_executor\u001b[39m.\u001b[39mexecute(driver_command, params)\n\u001b[0;32m    344\u001b[0m \u001b[39mif\u001b[39;00m response:\n\u001b[1;32m--> 345\u001b[0m     \u001b[39mself\u001b[39;49m\u001b[39m.\u001b[39;49merror_handler\u001b[39m.\u001b[39;49mcheck_response(response)\n\u001b[0;32m    346\u001b[0m     response[\u001b[39m\"\u001b[39m\u001b[39mvalue\u001b[39m\u001b[39m\"\u001b[39m] \u001b[39m=\u001b[39m \u001b[39mself\u001b[39m\u001b[39m.\u001b[39m_unwrap_value(response\u001b[39m.\u001b[39mget(\u001b[39m\"\u001b[39m\u001b[39mvalue\u001b[39m\u001b[39m\"\u001b[39m, \u001b[39mNone\u001b[39;00m))\n\u001b[0;32m    347\u001b[0m     \u001b[39mreturn\u001b[39;00m response\n",
      "File \u001b[1;32mc:\\Users\\filokaizen\\anaconda3\\Lib\\site-packages\\selenium\\webdriver\\remote\\errorhandler.py:229\u001b[0m, in \u001b[0;36mErrorHandler.check_response\u001b[1;34m(self, response)\u001b[0m\n\u001b[0;32m    227\u001b[0m         alert_text \u001b[39m=\u001b[39m value[\u001b[39m\"\u001b[39m\u001b[39malert\u001b[39m\u001b[39m\"\u001b[39m]\u001b[39m.\u001b[39mget(\u001b[39m\"\u001b[39m\u001b[39mtext\u001b[39m\u001b[39m\"\u001b[39m)\n\u001b[0;32m    228\u001b[0m     \u001b[39mraise\u001b[39;00m exception_class(message, screen, stacktrace, alert_text)  \u001b[39m# type: ignore[call-arg]  # mypy is not smart enough here\u001b[39;00m\n\u001b[1;32m--> 229\u001b[0m \u001b[39mraise\u001b[39;00m exception_class(message, screen, stacktrace)\n",
      "\u001b[1;31mElementClickInterceptedException\u001b[0m: Message: element click intercepted: Element <a href=\"https://www.habitaclia.com/alquiler-madrid-239.htm\">...</a> is not clickable at point (781, 32). Other element would receive the click: <a href=\"https://www.habitaclia.com/obra_nueva-madrid.htm\" class=\"\" title=\"Obra Nueva en Madrid\">...</a>\n  (Session info: chrome=116.0.5845.142)\nStacktrace:\n\tGetHandleVerifier [0x00007FF72B5F52A2+57122]\n\t(No symbol) [0x00007FF72B56EA92]\n\t(No symbol) [0x00007FF72B43E3AB]\n\t(No symbol) [0x00007FF72B47D783]\n\t(No symbol) [0x00007FF72B47BD5F]\n\t(No symbol) [0x00007FF72B479DC8]\n\t(No symbol) [0x00007FF72B478FD5]\n\t(No symbol) [0x00007FF72B46F25F]\n\t(No symbol) [0x00007FF72B496FDA]\n\t(No symbol) [0x00007FF72B46EB76]\n\t(No symbol) [0x00007FF72B4971F0]\n\t(No symbol) [0x00007FF72B4AEB82]\n\t(No symbol) [0x00007FF72B496DB3]\n\t(No symbol) [0x00007FF72B46D2B1]\n\t(No symbol) [0x00007FF72B46E494]\n\tGetHandleVerifier [0x00007FF72B89EF82+2849794]\n\tGetHandleVerifier [0x00007FF72B8F1D24+3189156]\n\tGetHandleVerifier [0x00007FF72B8EACAF+3160367]\n\tGetHandleVerifier [0x00007FF72B686D06+653702]\n\t(No symbol) [0x00007FF72B57A208]\n\t(No symbol) [0x00007FF72B5762C4]\n\t(No symbol) [0x00007FF72B5763F6]\n\t(No symbol) [0x00007FF72B5667A3]\n\tBaseThreadInitThunk [0x00007FFB6E3F26AD+29]\n\tRtlUserThreadStart [0x00007FFB6F3EAA68+40]\n"
     ]
    }
   ],
   "source": [
    "driver.find_element (By.XPATH, '//*[@id=\"js-nav\"]/div[1]/ul/li[7]/a ').click()\n",
    "\n"
   ]
  },
  {
   "cell_type": "code",
   "execution_count": null,
   "metadata": {},
   "outputs": [],
   "source": []
  }
 ],
 "metadata": {
  "kernelspec": {
   "display_name": "base",
   "language": "python",
   "name": "python3"
  },
  "language_info": {
   "codemirror_mode": {
    "name": "ipython",
    "version": 3
   },
   "file_extension": ".py",
   "mimetype": "text/x-python",
   "name": "python",
   "nbconvert_exporter": "python",
   "pygments_lexer": "ipython3",
   "version": "3.11.4"
  },
  "orig_nbformat": 4
 },
 "nbformat": 4,
 "nbformat_minor": 2
}
