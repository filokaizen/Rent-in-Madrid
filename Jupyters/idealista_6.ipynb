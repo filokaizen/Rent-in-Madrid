{
 "cells": [
  {
   "cell_type": "code",
   "execution_count": 5,
   "metadata": {},
   "outputs": [],
   "source": [
    "import pandas as pd\n",
    "from bs4 import BeautifulSoup\n",
    "from selenium.webdriver.common.keys import Keys\n",
    "from selenium import webdriver\n",
    "from selenium.webdriver.common.action_chains import ActionChains\n",
    "from webdriver_manager.chrome import ChromeDriverManager\n",
    "from selenium.webdriver.common.by import By\n",
    "import requests \n",
    "import time\n",
    "import warnings\n",
    "warnings.filterwarnings('ignore')\n",
    "\n"
   ]
  },
  {
   "cell_type": "code",
   "execution_count": 6,
   "metadata": {},
   "outputs": [],
   "source": [
    "driver = r\"C:\\Users\\filokaizen\\OneDrive-Tajamar\\Desktop\\ii\\4.3-lab_web_scraping_selenium\\chromedriver.exe\" #remember substitute this for your driver path\n",
    "driver = webdriver.Chrome()"
   ]
  },
  {
   "cell_type": "code",
   "execution_count": 7,
   "metadata": {},
   "outputs": [],
   "source": [
    "# This is the url you will scrape in this exercise\n",
    "url = \"https://www.idealista.com/alquiler-viviendas/madrid-madrid/pagina-6.htm\"\n",
    "driver.get(url)"
   ]
  },
  {
   "cell_type": "code",
   "execution_count": 8,
   "metadata": {},
   "outputs": [],
   "source": [
    "driver.find_element(By.XPATH , '//*[@id=\"didomi-notice-agree-button\"]').click()\n",
    "\n",
    "\n",
    "\n"
   ]
  },
  {
   "cell_type": "code",
   "execution_count": 9,
   "metadata": {},
   "outputs": [
    {
     "name": "stdout",
     "output_type": "stream",
     "text": [
      "['Piso en Nuñez de Balboa  56  Recoletos  Madrid', 'Piso en Paseo De La Castellana  201  Ventilla-Almenara  Madrid', 'Dúplex en Mirasierra  Madrid', 'Piso en paseo Castellana  203  Ventilla-Almenara  Madrid', 'Piso en calle de la Oca  Vista Alegre  Madrid', 'Piso en calle del Gasómetro  Acacias  Madrid', 'Dúplex en paseo de la Direccion  Berruguete  Madrid', 'Piso en calle de Astorga  Ventas  Madrid', 'Piso en calle de Wad-Ras  Bellas Vistas  Madrid', 'Piso en alameda de osuna  50  Alameda de Osuna  Madrid', 'Piso en calle del Barco  9  Malasaña-Universidad  Madrid', 'Piso en calle del Conde de Aranda  Recoletos  Madrid', 'Piso en Segovia  Palacio  Madrid', 'Piso en El Santo de la Isidra  10  Los Ángeles  Madrid', 'Piso en calle de Sánchez Barcáiztegui  Pacífico  Madrid', 'Piso en Canillas  Madrid', 'Chalet adosado en Aravaca  Madrid', 'Piso en calle la Granja de San Ildefonso  28  Ensanche de Vallecas - La Gavia  Madrid', 'Piso en calle de Valencia  Lavapiés-Embajadores  Madrid', 'Piso en calle de Maldonado  Lista  Madrid', 'Estudio en calle Embalse de Navacerrada  Ensanche de Vallecas - La Gavia  Madrid', 'Piso en calle la Canción del Olvido  62  Los Ángeles  Madrid', 'Piso en Vallehermoso  Arapiles  Madrid', 'Piso en calle de Caramuel  Puerta del Ángel  Madrid', 'Piso en calle Martínez Corrochano  29  Adelfas  Madrid', 'Piso en calle Arte Pop  8  Ensanche de Vallecas - La Gavia  Madrid', 'Piso en plaza de Andrés Manjón  7  Castilla  Madrid', 'Piso en calle del Lucero del Alba  1  Los Ángeles  Madrid', 'Piso en calle de Bretón de los Herreros  20  Nuevos Ministerios-Ríos Rosas  Madrid', 'Piso en calle de Caramuel  Puerta del Ángel  Madrid']\n"
     ]
    }
   ],
   "source": [
    "# Obtener el HTML de la página después de ser renderizada\n",
    "html = driver.page_source\n",
    "\n",
    "# Crear el objeto BeautifulSoup con el HTML obtenido\n",
    "soup = BeautifulSoup(html, \"html.parser\")\n",
    "\n",
    "# Buscar todos los elementos con la clase 'list-item-location'\n",
    "locations = driver.find_elements(By.CLASS_NAME, 'item-link')\n",
    "\n",
    "# Crear una lista para almacenar las ubicaciones\n",
    "location_list = []\n",
    "\n",
    "# Recorrer los elementos encontrados y agregarlos a la lista\n",
    "for location in locations:\n",
    "    location_text = location.text.replace(\",\", \" \") \n",
    "    location_list.append(location_text)\n",
    "\n",
    "# Imprimir la lista de ubicaciones\n",
    "print(location_list)"
   ]
  },
  {
   "cell_type": "code",
   "execution_count": 10,
   "metadata": {},
   "outputs": [
    {
     "name": "stdout",
     "output_type": "stream",
     "text": [
      "['2.700€/mes', '1.900€/mes', '2.800€/mes\\nGaraje incluido', '1.900€/mes', '945€/mes', '1.900€/mes\\nGaraje incluido', '1.600€/mes\\nGaraje opc. 90 €/mes', '1.400€/mes', '780€/mes', '1.700€/mes\\nGaraje incluido', '1.050€/mes', '1.900€/mes', '970€/mes', '800€/mes\\nGaraje incluido', '2.000€/mes\\nGaraje incluido', '4.500€/mes\\nGaraje incluido', '2.900€/mes', '1.000€/mes\\nGaraje incluido', '750€/mes', '3.450€/mes\\nGaraje incluido', '795€/mes\\nGaraje incluido', '932€/mes\\nGaraje incluido', '1.000€/mes', '1.650€/mes', '800€/mes', '820€/mes\\nGaraje incluido', '1.400€/mes', '940€/mes\\nGaraje incluido', '900€/mes', '1.650€/mes']\n"
     ]
    }
   ],
   "source": [
    "# Obtener el HTML de la página después de ser renderizada\n",
    "html = driver.page_source\n",
    "\n",
    "# Crear el objeto BeautifulSoup con el HTML obtenido\n",
    "soup = BeautifulSoup(html, \"html.parser\")\n",
    "\n",
    "# Buscar todos los elementos con la clase 'list-item-location'\n",
    "prices = driver.find_elements(By.CLASS_NAME, 'price-row')\n",
    "\n",
    "# Crear una lista para almacenar las ubicaciones\n",
    "price_list = []\n",
    "\n",
    "# Recorrer los elementos encontrados y agregarlos a la lista\n",
    "for price in prices:\n",
    "    price_text = price.text\n",
    "    price_list.append(price_text)\n",
    "\n",
    "# Imprimir la lista de ubicaciones\n",
    "print(price_list)"
   ]
  },
  {
   "cell_type": "code",
   "execution_count": 11,
   "metadata": {},
   "outputs": [
    {
     "name": "stdout",
     "output_type": "stream",
     "text": [
      "['1 hab. 70 m² Planta 2ª exterior con ascensor 13 horas', '2 hab. 90 m² Planta 5ª exterior con ascensor', '3 hab. 281 m² Planta 3ª exterior con ascensor 10 horas', '2 hab. 90 m² Planta 5ª exterior con ascensor', '2 hab. 56 m² Planta 3ª exterior con ascensor 13 horas', '3 hab. 110 m² Bajo exterior sin ascensor 20 horas', '3 hab. 145 m² Planta 4ª exterior con ascensor 13 horas', '3 hab. 75 m² Bajo exterior con ascensor', '2 hab. 42 m² Bajo interior sin ascensor 13 horas', '3 hab. 156 m² Planta 3ª exterior con ascensor', '2 hab. 65 m² Planta 2ª interior con ascensor 13 horas', '1 hab. 43 m² Planta 6ª interior con ascensor', '2 hab. 37 m² Bajo interior sin ascensor 14 horas', '1 hab. 66 m² Planta 4ª exterior con ascensor', '4 hab. 106 m² Planta 3ª exterior con ascensor 26 minutos', '4 hab. 323 m² Planta 7ª exterior con ascensor', '3 hab. 120 m² 14 horas', '2 hab. 73 m² Planta 2ª exterior con ascensor', '1 hab. 33 m² Planta 1ª interior sin ascensor 14 horas', '4 hab. 200 m² Planta 2ª exterior con ascensor', '33 m² Planta 5ª exterior con ascensor 14 horas', '2 hab. 74 m² Planta 1ª exterior con ascensor', '1 hab. 50 m² Planta 4ª interior con ascensor 14 horas', '2 hab. 67 m² Planta 1ª exterior sin ascensor', '1 hab. 40 m² Planta 1ª exterior con ascensor 14 horas', '1 hab. 48 m² Planta 7ª exterior con ascensor', '2 hab. 75 m² Bajo exterior con ascensor 14 horas', '2 hab. 74 m² Planta 4ª exterior con ascensor', '2 hab. 50 m² Planta 1ª interior con ascensor 14 horas', '2 hab. 86 m² Planta 1ª exterior sin ascensor']\n"
     ]
    }
   ],
   "source": [
    "html = driver.page_source\n",
    "\n",
    "# Crear el objeto BeautifulSoup con el HTML obtenido\n",
    "soup = BeautifulSoup(html, \"html.parser\")\n",
    "\n",
    "# Buscar todos los elementos con la clase 'list-item-location'\n",
    "detalles = driver.find_elements(By.CLASS_NAME, 'item-detail-char')\n",
    "\n",
    "# Crear una lista para almacenar las ubicaciones\n",
    "details_list = []\n",
    "\n",
    "# Recorrer los elementos encontrados y agregarlos a la lista\n",
    "for detail in detalles:\n",
    "    detail_text = detail.text\n",
    "    details_list.append(detail_text)\n",
    "\n",
    "# Imprimir la lista de ubicaciones\n",
    "print(details_list)"
   ]
  },
  {
   "cell_type": "code",
   "execution_count": 12,
   "metadata": {},
   "outputs": [
    {
     "name": "stdout",
     "output_type": "stream",
     "text": [
      "El DataFrame ha sido exportado exitosamente a 'idealista_6.csv'.\n"
     ]
    }
   ],
   "source": [
    "\n",
    "\n",
    "# Crear el DataFrame a partir de las listas\n",
    "df = pd.DataFrame({\n",
    "    'Ubicación': location_list,\n",
    "    'Precio': price_list,\n",
    "    'Detalles': details_list\n",
    "})\n",
    "\n",
    "# Especificar el nombre de archivo del archivo CSV de salida\n",
    "output_filename = 'idealista_6.csv'\n",
    "\n",
    "# Exportar el DataFrame a un archivo CSV\n",
    "df.to_csv(output_filename, index=False)\n",
    "\n",
    "print(f\"El DataFrame ha sido exportado exitosamente a '{output_filename}'.\")"
   ]
  }
 ],
 "metadata": {
  "kernelspec": {
   "display_name": "base",
   "language": "python",
   "name": "python3"
  },
  "language_info": {
   "codemirror_mode": {
    "name": "ipython",
    "version": 3
   },
   "file_extension": ".py",
   "mimetype": "text/x-python",
   "name": "python",
   "nbconvert_exporter": "python",
   "pygments_lexer": "ipython3",
   "version": "3.11.4"
  },
  "orig_nbformat": 4
 },
 "nbformat": 4,
 "nbformat_minor": 2
}
