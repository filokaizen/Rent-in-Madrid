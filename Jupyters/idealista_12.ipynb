{
 "cells": [
  {
   "cell_type": "code",
   "execution_count": 1,
   "metadata": {},
   "outputs": [],
   "source": [
    "import pandas as pd\n",
    "from bs4 import BeautifulSoup\n",
    "from selenium.webdriver.common.keys import Keys\n",
    "from selenium import webdriver\n",
    "from selenium.webdriver.common.action_chains import ActionChains\n",
    "from webdriver_manager.chrome import ChromeDriverManager\n",
    "from selenium.webdriver.common.by import By\n",
    "import requests \n",
    "import time\n",
    "import warnings\n",
    "warnings.filterwarnings('ignore')\n",
    "\n"
   ]
  },
  {
   "cell_type": "code",
   "execution_count": 2,
   "metadata": {},
   "outputs": [],
   "source": [
    "driver = r\"C:\\Users\\filokaizen\\OneDrive-Tajamar\\Desktop\\ii\\4.3-lab_web_scraping_selenium\\chromedriver.exe\" #remember substitute this for your driver path\n",
    "driver = webdriver.Chrome()"
   ]
  },
  {
   "cell_type": "code",
   "execution_count": 3,
   "metadata": {},
   "outputs": [],
   "source": [
    "# This is the url you will scrape in this exercise\n",
    "url = \"https://www.idealista.com/alquiler-viviendas/madrid-madrid/pagina-12.htm\"\n",
    "driver.get(url)"
   ]
  },
  {
   "cell_type": "code",
   "execution_count": 4,
   "metadata": {},
   "outputs": [],
   "source": [
    "try:\n",
    "    driver.find_element(By.XPATH , '//*[@id=\"didomi-notice-agree-button\"]').click()\n",
    "\n",
    "except:\n",
    "    pass\n",
    "\n",
    "\n"
   ]
  },
  {
   "cell_type": "code",
   "execution_count": 5,
   "metadata": {},
   "outputs": [
    {
     "name": "stdout",
     "output_type": "stream",
     "text": [
      "['Piso en calle de Sánchez Barcáiztegui  Pacífico  Madrid', 'Piso en calle de la Sierra de los Filabres  37  Numancia  Madrid', 'Chalet adosado en Aravaca  Madrid', 'Estudio en calle Galería de Robles  Malasaña-Universidad  Madrid', 'Piso en calle de Valencia  Lavapiés-Embajadores  Madrid', 'Piso en paseo de Santa María de la Cabeza  Chopera  Madrid', 'Estudio en calle Embalse de Navacerrada  Ensanche de Vallecas - La Gavia  Madrid', 'Piso en calle Sandalio López  Tres Olivos - Valverde  Madrid', 'Piso en calle Martínez Corrochano  29  Adelfas  Madrid', 'Piso en Jerte  Palacio  Madrid', 'Piso en plaza de Andrés Manjón  7  Castilla  Madrid', 'Piso en calle de la Reina Mercedes  8  Cuatro Caminos  Madrid', 'Piso en calle de Bretón de los Herreros  20  Nuevos Ministerios-Ríos Rosas  Madrid', 'Piso en calle de Aniceto Pérez  12 de Octubre-Orcasur  Madrid', 'Ático en calle de Luchana  Trafalgar  Madrid', 'Piso en calle de la Ribera de Curtidores  Lavapiés-Embajadores  Madrid', 'Piso en Goya  Madrid', 'Piso en calle Calatrava  Palacio  Madrid', 'Estudio en Malasaña-Universidad  Madrid', 'Estudio en calle Mayor  Sol  Madrid', 'Piso en calle de Ibiza  Ibiza  Madrid', 'Piso en calle del Marqués de Mondéjar  Fuente del Berro  Madrid', 'Ático en calle de Alcántara  Lista  Madrid', 'Piso en calle Tírvia  Ciudad Universitaria  Madrid', 'Piso en Calamón  Campamento  Madrid', 'Ático en calle de la Princesa  26  Malasaña-Universidad  Madrid', 'Dúplex en san Juan de Ortega  100  Las Tablas  Madrid', 'Estudio en Lagasca  Recoletos  Madrid', 'Estudio en calle de Don Ramón de la Cruz  62  Goya  Madrid', 'Piso en ronda de Segovia  50  Imperial  Madrid']\n"
     ]
    }
   ],
   "source": [
    "# Obtener el HTML de la página después de ser renderizada\n",
    "html = driver.page_source\n",
    "\n",
    "# Crear el objeto BeautifulSoup con el HTML obtenido\n",
    "soup = BeautifulSoup(html, \"html.parser\")\n",
    "\n",
    "# Buscar todos los elementos con la clase 'list-item-location'\n",
    "locations = driver.find_elements(By.CLASS_NAME, 'item-link')\n",
    "\n",
    "# Crear una lista para almacenar las ubicaciones\n",
    "location_list = []\n",
    "\n",
    "# Recorrer los elementos encontrados y agregarlos a la lista\n",
    "for location in locations:\n",
    "    location_text = location.text.replace(\",\", \" \") \n",
    "    location_list.append(location_text)\n",
    "\n",
    "# Imprimir la lista de ubicaciones\n",
    "print(location_list)"
   ]
  },
  {
   "cell_type": "code",
   "execution_count": 6,
   "metadata": {},
   "outputs": [
    {
     "name": "stdout",
     "output_type": "stream",
     "text": [
      "['2.000€/mes\\nGaraje incluido', '620€/mes', '2.900€/mes', '850€/mes', '750€/mes', '1.590€/mes', '795€/mes\\nGaraje incluido', '950€/mes', '800€/mes', '1.090€/mes', '1.400€/mes', '990€/mes', '900€/mes', '990€/mes\\nGaraje opc. 90 €/mes', '4.300€/mes', '1.250€/mes', '990€/mes', '950€/mes', '1.000€/mes', '1.050€/mes', '2.000€/mes', '1.150€/mes', '2.900€/mes', '1.050€/mes', '2.100€/mes', '1.360€/mes', '2.100€/mes\\nGaraje incluido', '1.100€/mes', '1.500€/mes', '1.700€/mes']\n"
     ]
    }
   ],
   "source": [
    "# Obtener el HTML de la página después de ser renderizada\n",
    "html = driver.page_source\n",
    "\n",
    "# Crear el objeto BeautifulSoup con el HTML obtenido\n",
    "soup = BeautifulSoup(html, \"html.parser\")\n",
    "\n",
    "# Buscar todos los elementos con la clase 'list-item-location'\n",
    "prices = driver.find_elements(By.CLASS_NAME, 'price-row')\n",
    "\n",
    "# Crear una lista para almacenar las ubicaciones\n",
    "price_list = []\n",
    "\n",
    "# Recorrer los elementos encontrados y agregarlos a la lista\n",
    "for price in prices:\n",
    "    price_text = price.text\n",
    "    price_list.append(price_text)\n",
    "\n",
    "# Imprimir la lista de ubicaciones\n",
    "print(price_list)"
   ]
  },
  {
   "cell_type": "code",
   "execution_count": 7,
   "metadata": {},
   "outputs": [
    {
     "name": "stdout",
     "output_type": "stream",
     "text": [
      "['4 hab. 106 m² Planta 3ª exterior con ascensor 3 horas', '1 hab. 25 m² Planta 1ª interior sin ascensor', '3 hab. 120 m² 16 horas', '45 m² Bajo interior sin ascensor', '1 hab. 33 m² Planta 1ª interior sin ascensor 16 horas', '2 hab. 90 m² Planta 2ª exterior con ascensor', '33 m² Planta 5ª exterior con ascensor 17 horas', '1 hab. 35 m² Bajo exterior sin ascensor', '1 hab. 40 m² Planta 1ª exterior con ascensor 17 horas', '1 hab. 55 m² Planta 3ª interior con ascensor', '2 hab. 75 m² Bajo exterior con ascensor 17 horas', '1 hab. 55 m² Bajo exterior sin ascensor', '2 hab. 50 m² Planta 1ª interior con ascensor 17 horas', '2 hab. 45 m² Bajo exterior con ascensor', '3 hab. 184 m² Planta 7ª exterior con ascensor 15 horas', '1 hab. 55 m² Planta 3ª exterior con ascensor', '1 hab. 65 m² Planta 5ª exterior con ascensor 17 horas', '1 hab. 50 m² Planta 3ª interior sin ascensor', '35 m² Planta 2ª interior con ascensor 17 horas', '35 m² Planta 3ª exterior con ascensor', '1 hab. 87 m² Planta 2ª exterior con ascensor 17 horas', '1 hab. 50 m² Planta 1ª interior sin ascensor', '3 hab. 120 m² Planta 7ª exterior con ascensor 15 horas', '1 hab. 43 m² Bajo exterior sin ascensor 30 ago', '3 hab. 74 m² Planta 3ª exterior sin ascensor 17 horas', '2 hab. 60 m² Planta 5ª interior con ascensor', '2 hab. 105 m² Planta 5ª interior con ascensor 17 horas', '32 m² Planta 4ª interior con ascensor', '42 m² Planta 3ª exterior con ascensor 17 horas', '3 hab. 110 m² Planta 1ª exterior con ascensor 23 horas']\n"
     ]
    }
   ],
   "source": [
    "html = driver.page_source\n",
    "\n",
    "# Crear el objeto BeautifulSoup con el HTML obtenido\n",
    "soup = BeautifulSoup(html, \"html.parser\")\n",
    "\n",
    "# Buscar todos los elementos con la clase 'list-item-location'\n",
    "detalles = driver.find_elements(By.CLASS_NAME, 'item-detail-char')\n",
    "\n",
    "# Crear una lista para almacenar las ubicaciones\n",
    "details_list = []\n",
    "\n",
    "# Recorrer los elementos encontrados y agregarlos a la lista\n",
    "for detail in detalles:\n",
    "    detail_text = detail.text\n",
    "    details_list.append(detail_text)\n",
    "\n",
    "# Imprimir la lista de ubicaciones\n",
    "print(details_list)"
   ]
  },
  {
   "cell_type": "code",
   "execution_count": 8,
   "metadata": {},
   "outputs": [],
   "source": [
    "data = {\n",
    "    'Ubicación': location_list,\n",
    "    'Precio':price_list,\n",
    "    'Detalles':details_list\n",
    "}\n",
    "\n",
    "# Crear el DataFrame a partir del diccionario\n",
    "df = pd.DataFrame(data)"
   ]
  },
  {
   "cell_type": "code",
   "execution_count": 9,
   "metadata": {},
   "outputs": [],
   "source": [
    "\n",
    "output_filename = 'idealista_12.csv'\n",
    "df.to_csv(output_filename, index=False)\n",
    "\n"
   ]
  }
 ],
 "metadata": {
  "kernelspec": {
   "display_name": "base",
   "language": "python",
   "name": "python3"
  },
  "language_info": {
   "codemirror_mode": {
    "name": "ipython",
    "version": 3
   },
   "file_extension": ".py",
   "mimetype": "text/x-python",
   "name": "python",
   "nbconvert_exporter": "python",
   "pygments_lexer": "ipython3",
   "version": "3.11.4"
  },
  "orig_nbformat": 4
 },
 "nbformat": 4,
 "nbformat_minor": 2
}
