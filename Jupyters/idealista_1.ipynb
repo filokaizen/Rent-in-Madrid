{
 "cells": [
  {
   "cell_type": "code",
   "execution_count": 1,
   "metadata": {},
   "outputs": [],
   "source": [
    "import pandas as pd\n",
    "from bs4 import BeautifulSoup\n",
    "from selenium.webdriver.common.keys import Keys\n",
    "from selenium import webdriver\n",
    "from selenium.webdriver.common.action_chains import ActionChains\n",
    "from webdriver_manager.chrome import ChromeDriverManager\n",
    "from selenium.webdriver.common.by import By\n",
    "import requests \n",
    "import time\n",
    "import warnings\n",
    "warnings.filterwarnings('ignore')\n",
    "\n"
   ]
  },
  {
   "cell_type": "code",
   "execution_count": 2,
   "metadata": {},
   "outputs": [],
   "source": [
    "driver = r\"C:\\Users\\filokaizen\\OneDrive-Tajamar\\Desktop\\ii\\4.3-lab_web_scraping_selenium\\chromedriver.exe\" #remember substitute this for your driver path\n",
    "driver = webdriver.Chrome()"
   ]
  },
  {
   "cell_type": "code",
   "execution_count": 3,
   "metadata": {},
   "outputs": [],
   "source": [
    "# This is the url you will scrape in this exercise\n",
    "url = \"https://www.idealista.com/alquiler-viviendas/madrid-madrid/\"\n",
    "driver.get(url)"
   ]
  },
  {
   "cell_type": "code",
   "execution_count": 4,
   "metadata": {},
   "outputs": [],
   "source": [
    "driver.find_element(By.XPATH , '//*[@id=\"didomi-notice-agree-button\"]').click()\n",
    "\n",
    "\n",
    "\n"
   ]
  },
  {
   "cell_type": "code",
   "execution_count": 5,
   "metadata": {},
   "outputs": [
    {
     "name": "stdout",
     "output_type": "stream",
     "text": [
      "['Piso en calle de Jesús y María  Lavapiés-Embajadores  Madrid', 'Piso en calle de Cardenal Mendoza  Puerta del Ángel  Madrid', 'Piso en calle del Olivar  44  Lavapiés-Embajadores  Madrid', 'Piso en calle Solana de Luche  Puerta del Ángel  Madrid', 'Piso en Atlético de Madrid 2  2  Puerta Bonita  Madrid', 'Piso en calle industria  Puerta del Ángel  Madrid', 'Piso en calle de San Vicente Ferrer  Malasaña-Universidad  Madrid', 'Piso en calle industria  Puerta del Ángel  Madrid', 'Piso en Nuevos Ministerios-Ríos Rosas  Madrid', 'Piso en Blasco de Garay  Arapiles  Madrid', 'Piso en calle del Pintor Ignacio de Zuloaga  2  Sanchinarro  Madrid', 'Piso en calle Minas  7  Malasaña-Universidad  Madrid', 'Piso en Berruguete  Berruguete  Madrid', 'Piso en Recoletos  Madrid', 'Piso en calle de Carranza  4  Trafalgar  Madrid', 'Piso en calle de Amaniel  Malasaña-Universidad  Madrid', 'Piso en calle de la Virgen de los Peligros  Huertas-Cortes  Madrid', 'Estudio en Quintana  Madrid', 'Piso en calle de Alfonso VI  6  Palacio  Madrid', 'Estudio en Quintana  Madrid', 'Ático en calle de Ángel Muñoz  San Juan Bautista  Madrid', 'Piso en Huertas-Cortes  Madrid', 'Piso en calle de bravo Murillo  297  Valdeacederas  Madrid', 'Dúplex en calle de Palafox  Trafalgar  Madrid', 'Piso en Bernabéu-Hispanoamérica  Madrid', 'Estudio en calle de San Lorenzo  Chueca-Justicia  Madrid', 'Piso en Goya  Madrid', 'Piso en calle de San Bernardo  Malasaña-Universidad  Madrid', 'Dúplex en paseo de Juan XXIII  40  Ciudad Universitaria  Madrid', 'Piso en calle de San Bernardo  Malasaña-Universidad  Madrid']\n"
     ]
    }
   ],
   "source": [
    "# Obtener el HTML de la página después de ser renderizada\n",
    "html = driver.page_source\n",
    "\n",
    "# Crear el objeto BeautifulSoup con el HTML obtenido\n",
    "soup = BeautifulSoup(html, \"html.parser\")\n",
    "\n",
    "# Buscar todos los elementos con la clase 'list-item-location'\n",
    "locations = driver.find_elements(By.CLASS_NAME, 'item-link')\n",
    "\n",
    "# Crear una lista para almacenar las ubicaciones\n",
    "location_list = []\n",
    "\n",
    "# Recorrer los elementos encontrados y agregarlos a la lista\n",
    "for location in locations:\n",
    "    location_text = location.text.replace(\",\", \" \") \n",
    "    location_list.append(location_text)\n",
    "\n",
    "# Imprimir la lista de ubicaciones\n",
    "print(location_list)"
   ]
  },
  {
   "cell_type": "code",
   "execution_count": 6,
   "metadata": {},
   "outputs": [
    {
     "name": "stdout",
     "output_type": "stream",
     "text": [
      "['1.200€/mes', '1.100€/mes', '1.200€/mes', '1.350€/mes', '650€/mes', '1.050€/mes', '950€/mes', '1.050€/mes', '3.900€/mes\\nGaraje incluido', '1.900€/mes', '1.225€/mes\\nGaraje incluido', '950€/mes', '915€/mes', '2.700€/mes\\n3.000 € 10%', '850€/mes', '1.300€/mes', '1.200€/mes', '850€/mes', '800€/mes', '650€/mes', '2.000€/mes', '3.500€/mes\\nGaraje incluido', '850€/mes', '4.100€/mes', '4.800€/mes\\nGaraje incluido', '2.200€/mes', '2.450€/mes\\nGaraje incluido', '3.600€/mes', '2.200€/mes', '3.600€/mes']\n"
     ]
    }
   ],
   "source": [
    "# Obtener el HTML de la página después de ser renderizada\n",
    "html = driver.page_source\n",
    "\n",
    "# Crear el objeto BeautifulSoup con el HTML obtenido\n",
    "soup = BeautifulSoup(html, \"html.parser\")\n",
    "\n",
    "# Buscar todos los elementos con la clase 'list-item-location'\n",
    "prices = driver.find_elements(By.CLASS_NAME, 'price-row')\n",
    "\n",
    "# Crear una lista para almacenar las ubicaciones\n",
    "price_list = []\n",
    "\n",
    "# Recorrer los elementos encontrados y agregarlos a la lista\n",
    "for price in prices:\n",
    "    price_text = price.text\n",
    "    price_list.append(price_text)\n",
    "\n",
    "# Imprimir la lista de ubicaciones\n",
    "print(price_list)"
   ]
  },
  {
   "cell_type": "code",
   "execution_count": 7,
   "metadata": {},
   "outputs": [
    {
     "name": "stdout",
     "output_type": "stream",
     "text": [
      "['2 hab. 65 m² con ascensor 2 minutos', '1 hab. 65 m² Bajo exterior con ascensor 10 horas', '2 hab. 56 m² Planta 2ª exterior sin ascensor 2 minutos', '3 hab. 70 m² Planta 2ª exterior sin ascensor 10 horas', '2 hab. 53 m² Planta 1ª exterior sin ascensor 4 minutos', '1 hab. 50 m² Planta 2ª exterior con ascensor 10 horas', '1 hab. 48 m² Bajo exterior sin ascensor 3 minutos', '1 hab. 50 m² Planta 1ª exterior con ascensor 10 horas', '4 hab. 210 m² Planta 3ª exterior con ascensor 7 minutos', '2 hab. 92 m² Planta 6ª exterior con ascensor', '2 hab. 76 m² Planta 5ª con ascensor 10 minutos', '2 hab. 50 m² Planta 2ª interior sin ascensor', '2 hab. 40 m² Planta 2ª interior sin ascensor 20 minutos', '2 hab. 135 m² Planta 3ª exterior con ascensor', '1 hab. 30 m² Planta 1ª interior sin ascensor 24 minutos', '1 hab. 65 m² Planta 1ª exterior con ascensor', '1 hab. 60 m² Planta 1ª exterior con ascensor 28 minutos', '33 m² Bajo exterior sin ascensor 30 ago', '2 hab. 58 m² Planta 1ª exterior sin ascensor 28 minutos', '29 m² Bajo exterior sin ascensor 04 sep', '2 hab. 96 m² Planta 3ª exterior con ascensor 27 minutos', '3 hab. 129 m² Planta 6ª exterior con ascensor', '3 hab. 65 m² Planta 2ª interior con ascensor 32 minutos', '2 hab. 108 m² Planta 4ª exterior con ascensor', '5 hab. 397 m² Planta 4ª exterior con ascensor 40 minutos', '50 m² Bajo exterior con ascensor', '2 hab. 100 m² Planta 5ª exterior con ascensor 42 minutos', '2 hab. 85 m² Planta 3ª exterior con ascensor', '3 hab. 130 m² Planta 11ª exterior con ascensor 43 minutos', '2 hab. 85 m² Planta 3ª exterior con ascensor']\n"
     ]
    }
   ],
   "source": [
    "html = driver.page_source\n",
    "\n",
    "# Crear el objeto BeautifulSoup con el HTML obtenido\n",
    "soup = BeautifulSoup(html, \"html.parser\")\n",
    "\n",
    "# Buscar todos los elementos con la clase 'list-item-location'\n",
    "detalles = driver.find_elements(By.CLASS_NAME, 'item-detail-char')\n",
    "\n",
    "# Crear una lista para almacenar las ubicaciones\n",
    "details_list = []\n",
    "\n",
    "# Recorrer los elementos encontrados y agregarlos a la lista\n",
    "for detail in detalles:\n",
    "    detail_text = detail.text\n",
    "    details_list.append(detail_text)\n",
    "\n",
    "# Imprimir la lista de ubicaciones\n",
    "print(details_list)"
   ]
  },
  {
   "cell_type": "code",
   "execution_count": null,
   "metadata": {},
   "outputs": [],
   "source": []
  },
  {
   "cell_type": "code",
   "execution_count": 9,
   "metadata": {},
   "outputs": [],
   "source": [
    "data = {\n",
    "    'Ubicación': location_list,\n",
    "    'Precio': price_list,\n",
    "    'Detalles': details_list\n",
    "}\n",
    "\n",
    "# Crear el DataFrame a partir del diccionario\n",
    "df = pd.DataFrame(data)"
   ]
  },
  {
   "cell_type": "code",
   "execution_count": 13,
   "metadata": {},
   "outputs": [],
   "source": [
    "df.head()\n",
    "output_filename = 'idealista_1.csv'\n",
    "df.to_csv(output_filename, index=False)\n"
   ]
  },
  {
   "cell_type": "code",
   "execution_count": 8,
   "metadata": {},
   "outputs": [],
   "source": [
    "\n",
    "import zipfile\n",
    "\n",
    "# Crear un diccionario con las listas\n",
    "data = {\n",
    "    'Ubicación': location_list,\n",
    "    'Precio': price_list,\n",
    "    'Detalles': details_list\n",
    "}\n",
    "\n",
    "# Crear un DataFrame a partir del diccionario\n",
    "df = pd.DataFrame(data)\n",
    "\n",
    "# Nombrar el archivo zip de salida\n",
    "output_filename = 'datos_scrapeados.zip'\n",
    "\n",
    "# Exportar el DataFrame como un archivo CSV\n",
    "df.to_csv('datos_scrapeados.csv', index=False)\n",
    "\n",
    "# Crear un archivo zip y agregar el archivo CSV\n",
    "with zipfile.ZipFile(output_filename, 'w') as zipf:\n",
    "    zipf.write('datos_scrapeados.csv')\n",
    "\n"
   ]
  }
 ],
 "metadata": {
  "kernelspec": {
   "display_name": "base",
   "language": "python",
   "name": "python3"
  },
  "language_info": {
   "codemirror_mode": {
    "name": "ipython",
    "version": 3
   },
   "file_extension": ".py",
   "mimetype": "text/x-python",
   "name": "python",
   "nbconvert_exporter": "python",
   "pygments_lexer": "ipython3",
   "version": "3.11.4"
  },
  "orig_nbformat": 4
 },
 "nbformat": 4,
 "nbformat_minor": 2
}
