{
 "cells": [
  {
   "cell_type": "code",
   "execution_count": 1,
   "metadata": {},
   "outputs": [],
   "source": [
    "import pandas as pd\n",
    "from bs4 import BeautifulSoup\n",
    "from selenium.webdriver.common.keys import Keys\n",
    "from selenium import webdriver\n",
    "from selenium.webdriver.common.action_chains import ActionChains\n",
    "from webdriver_manager.chrome import ChromeDriverManager\n",
    "from selenium.webdriver.common.by import By\n",
    "import requests \n",
    "import time\n",
    "import warnings\n",
    "warnings.filterwarnings('ignore')\n",
    "\n"
   ]
  },
  {
   "cell_type": "code",
   "execution_count": 2,
   "metadata": {},
   "outputs": [],
   "source": [
    "driver = r\"C:\\Users\\filokaizen\\OneDrive-Tajamar\\Desktop\\ii\\4.3-lab_web_scraping_selenium\\chromedriver.exe\" #remember substitute this for your driver path\n",
    "driver = webdriver.Chrome()"
   ]
  },
  {
   "cell_type": "code",
   "execution_count": 3,
   "metadata": {},
   "outputs": [],
   "source": [
    "# This is the url you will scrape in this exercise\n",
    "url = \"https://www.idealista.com/alquiler-viviendas/madrid-madrid/pagina-2.htm\"\n",
    "driver.get(url)"
   ]
  },
  {
   "cell_type": "code",
   "execution_count": 4,
   "metadata": {},
   "outputs": [],
   "source": [
    "driver.find_element(By.XPATH , '//*[@id=\"didomi-notice-agree-button\"]').click()\n",
    "\n",
    "\n",
    "\n"
   ]
  },
  {
   "cell_type": "code",
   "execution_count": 5,
   "metadata": {},
   "outputs": [
    {
     "name": "stdout",
     "output_type": "stream",
     "text": [
      "['Piso en aurora  Valdezarza  Madrid', 'Piso en calle de Caleruega  50  Costillares  Madrid', 'Piso en Puerta Bonita  Madrid', 'Piso en El Viso  Madrid', 'Piso en plaza de Monterrey  Apóstol Santiago  Madrid', 'Piso en calle del Pintor Ignacio de Zuloaga  2  Sanchinarro  Madrid', 'Estudio en cuesta de las Descargas  8  Palacio  Madrid', 'Piso en calle de María de Molina  Castellana  Madrid', 'Piso en calle Félix Boix  32  Nueva España  Madrid', 'Piso en paseo Marqués de Monistrol  Puerta del Ángel  Madrid', 'Piso en avenida de Portugal  177  Puerta del Ángel  Madrid', 'Piso en calle Embajadores  Lavapiés-Embajadores  Madrid', 'Piso en calle de Carlos Arniches  Lavapiés-Embajadores  Madrid', 'Chalet adosado en Ensanche de Vallecas - La Gavia  Madrid', 'Piso en calle de Hermosilla  Recoletos  Madrid', 'Piso en calle de Núñez de Balboa  Recoletos  Madrid', 'Piso en calle de José Antonio Navarrete  Conde Orgaz-Piovera  Madrid', 'Piso en calle de Isabel Clara Eugenia  43  Sanchinarro  Madrid', 'Piso en calle de José Antonio Navarrete  Conde Orgaz-Piovera  Madrid', \"Piso en calle de O'Donnell  Goya  Madrid\", 'Piso en calle de José Antonio Navarrete  Conde Orgaz-Piovera  Madrid', 'Piso en calle de Lombía  Goya  Madrid', 'Piso en avenida de Machupichu  Conde Orgaz-Piovera  Madrid', 'Piso en Goya  Madrid', 'Piso en calle Manuel Aleixandre  12  Legazpi  Madrid', 'Piso en plaza de Cascorro  Lavapiés-Embajadores  Madrid', 'Piso en avenida del Papa Negro  Conde Orgaz-Piovera  Madrid', 'Piso en calle de Fernando VI  Chueca-Justicia  Madrid', 'Piso en Lucero  Madrid', 'Piso en Castillo de Cadanchu  Las Tablas  Madrid']\n"
     ]
    }
   ],
   "source": [
    "# Obtener el HTML de la página después de ser renderizada\n",
    "html = driver.page_source\n",
    "\n",
    "# Crear el objeto BeautifulSoup con el HTML obtenido\n",
    "soup = BeautifulSoup(html, \"html.parser\")\n",
    "\n",
    "# Buscar todos los elementos con la clase 'list-item-location'\n",
    "locations = driver.find_elements(By.CLASS_NAME, 'item-link')\n",
    "\n",
    "# Crear una lista para almacenar las ubicaciones\n",
    "location_list = []\n",
    "\n",
    "# Recorrer los elementos encontrados y agregarlos a la lista\n",
    "for location in locations:\n",
    "    location_text = location.text.replace(\",\", \" \") \n",
    "    location_list.append(location_text)\n",
    "\n",
    "# Imprimir la lista de ubicaciones\n",
    "print(location_list)"
   ]
  },
  {
   "cell_type": "code",
   "execution_count": 6,
   "metadata": {},
   "outputs": [
    {
     "name": "stdout",
     "output_type": "stream",
     "text": [
      "['1.000€/mes', '2.675€/mes', '900€/mes', '1.600€/mes\\n1.700 € 6%', '850€/mes', '1.225€/mes\\nGaraje incluido', '750€/mes', '2.500€/mes', '7.800€/mes\\nGaraje incluido', '1.550€/mes', '1.200€/mes', '1.200€/mes', '760€/mes', '1.600€/mes\\nGaraje incluido', '4.100€/mes', '4.200€/mes', '1.590€/mes\\nGaraje incluido\\n1.705 € 7%', '1.340€/mes\\nGaraje incluido', '1.955€/mes\\nGaraje incluido', '9.000€/mes\\nGaraje incluido', '1.395€/mes\\nGaraje incluido', '2.400€/mes', '1.060€/mes\\nGaraje incluido', '2.300€/mes\\nGaraje incluido', '910€/mes', '2.700€/mes', '1.460€/mes\\nGaraje incluido', '3.000€/mes', '1.100€/mes\\nGaraje incluido', '1.300€/mes\\nGaraje incluido']\n"
     ]
    }
   ],
   "source": [
    "# Obtener el HTML de la página después de ser renderizada\n",
    "html = driver.page_source\n",
    "\n",
    "# Crear el objeto BeautifulSoup con el HTML obtenido\n",
    "soup = BeautifulSoup(html, \"html.parser\")\n",
    "\n",
    "# Buscar todos los elementos con la clase 'list-item-location'\n",
    "prices = driver.find_elements(By.CLASS_NAME, 'price-row')\n",
    "\n",
    "# Crear una lista para almacenar las ubicaciones\n",
    "price_list = []\n",
    "\n",
    "# Recorrer los elementos encontrados y agregarlos a la lista\n",
    "for price in prices:\n",
    "    price_text = price.text\n",
    "    price_list.append(price_text)\n",
    "\n",
    "# Imprimir la lista de ubicaciones\n",
    "print(price_list)"
   ]
  },
  {
   "cell_type": "code",
   "execution_count": 7,
   "metadata": {},
   "outputs": [
    {
     "name": "stdout",
     "output_type": "stream",
     "text": [
      "['1 hab. 42 m² Planta 1ª exterior sin ascensor 28 minutos', '3 hab. 180 m² Planta 22ª exterior con ascensor', '2 hab. 55 m² Bajo exterior sin ascensor 30 minutos', '2 hab. 90 m² Planta 2ª exterior con ascensor', '3 hab. 71 m² Planta 3ª exterior sin ascensor 30 minutos', '2 hab. 76 m² Planta 5ª con ascensor 2 horas', '40 m² Planta 1ª exterior con ascensor 31 minutos', '2 hab. 85 m² Planta 2ª exterior con ascensor', '3 hab. 590 m² Planta 5ª exterior con ascensor 33 minutos', '2 hab. 60 m² Planta 8ª exterior con ascensor', '3 hab. 87 m² Planta 4ª exterior con ascensor 34 minutos', '1 hab. 75 m² Planta 1ª exterior con ascensor', '1 hab. 35 m² Bajo interior con ascensor 19 minutos', '5 hab. 275 m²', '3 hab. 180 m² Planta 4ª exterior con ascensor 13 minutos', '4 hab. 200 m² Planta 5ª exterior con ascensor', '2 hab. 116 m² Planta 2ª exterior con ascensor 38 minutos', '2 hab. 88 m² Planta 4ª exterior con ascensor', '3 hab. 107 m² Planta 3ª exterior con ascensor 39 minutos', '4 hab. 350 m² Planta 5ª exterior con ascensor', '2 hab. 80 m² Planta 1ª exterior con ascensor 39 minutos', '2 hab. 82 m² Planta 5ª exterior con ascensor', '1 hab. 39 m² Planta 1ª exterior con ascensor 39 minutos', '1 hab. 106 m² exterior con ascensor 01 sep', '2 hab. 40 m² Planta 1ª exterior con ascensor 38 minutos', '2 hab. 94 m² Planta 5ª exterior con ascensor', '2 hab. 101 m² exterior con ascensor 40 minutos', '3 hab. 124 m² Planta 2ª exterior con ascensor', '3 hab. 78 m² Planta 3ª con ascensor 42 minutos', '2 hab. 100 m² Planta 1ª exterior con ascensor']\n"
     ]
    }
   ],
   "source": [
    "html = driver.page_source\n",
    "\n",
    "# Crear el objeto BeautifulSoup con el HTML obtenido\n",
    "soup = BeautifulSoup(html, \"html.parser\")\n",
    "\n",
    "# Buscar todos los elementos con la clase 'list-item-location'\n",
    "detalles = driver.find_elements(By.CLASS_NAME, 'item-detail-char')\n",
    "\n",
    "# Crear una lista para almacenar las ubicaciones\n",
    "details_list = []\n",
    "\n",
    "# Recorrer los elementos encontrados y agregarlos a la lista\n",
    "for detail in detalles:\n",
    "    detail_text = detail.text\n",
    "    details_list.append(detail_text)\n",
    "\n",
    "# Imprimir la lista de ubicaciones\n",
    "print(details_list)"
   ]
  },
  {
   "cell_type": "code",
   "execution_count": 8,
   "metadata": {},
   "outputs": [],
   "source": [
    "data = {\n",
    "    'Ubicación': location_list,\n",
    "    'Precio':price_list,\n",
    "    'Detalles':details_list\n",
    "}\n",
    "\n",
    "# Crear el DataFrame a partir del diccionario\n",
    "df = pd.DataFrame(data)"
   ]
  },
  {
   "cell_type": "code",
   "execution_count": 10,
   "metadata": {},
   "outputs": [],
   "source": [
    "\n",
    "output_filename = 'idealista_2.csv'\n",
    "df.to_csv(output_filename, index=False)\n",
    "\n"
   ]
  }
 ],
 "metadata": {
  "kernelspec": {
   "display_name": "base",
   "language": "python",
   "name": "python3"
  },
  "language_info": {
   "codemirror_mode": {
    "name": "ipython",
    "version": 3
   },
   "file_extension": ".py",
   "mimetype": "text/x-python",
   "name": "python",
   "nbconvert_exporter": "python",
   "pygments_lexer": "ipython3",
   "version": "3.11.4"
  },
  "orig_nbformat": 4
 },
 "nbformat": 4,
 "nbformat_minor": 2
}
